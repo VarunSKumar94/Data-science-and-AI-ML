{
 "cells": [
  {
   "cell_type": "markdown",
   "id": "d7ade454",
   "metadata": {
    "papermill": {
     "duration": 0.006988,
     "end_time": "2025-03-06T02:02:26.801891",
     "exception": false,
     "start_time": "2025-03-06T02:02:26.794903",
     "status": "completed"
    },
    "tags": []
   },
   "source": [
    "**This notebook is an exercise in the [Intermediate Machine Learning](https://www.kaggle.com/learn/intermediate-machine-learning) course.  You can reference the tutorial at [this link](https://www.kaggle.com/alexisbcook/categorical-variables).**\n",
    "\n",
    "---\n"
   ]
  },
  {
   "cell_type": "markdown",
   "id": "2e87aafe",
   "metadata": {
    "papermill": {
     "duration": 0.005469,
     "end_time": "2025-03-06T02:02:26.813394",
     "exception": false,
     "start_time": "2025-03-06T02:02:26.807925",
     "status": "completed"
    },
    "tags": []
   },
   "source": [
    "By encoding **categorical variables**, you'll obtain your best results thus far!\n",
    "\n",
    "# Setup\n",
    "\n",
    "The questions below will give you feedback on your work. Run the following cell to set up the feedback system."
   ]
  },
  {
   "cell_type": "code",
   "execution_count": 1,
   "id": "1f24d1fc",
   "metadata": {
    "execution": {
     "iopub.execute_input": "2025-03-06T02:02:26.826331Z",
     "iopub.status.busy": "2025-03-06T02:02:26.825958Z",
     "iopub.status.idle": "2025-03-06T02:02:27.837456Z",
     "shell.execute_reply": "2025-03-06T02:02:27.836408Z"
    },
    "papermill": {
     "duration": 1.019906,
     "end_time": "2025-03-06T02:02:27.838996",
     "exception": false,
     "start_time": "2025-03-06T02:02:26.819090",
     "status": "completed"
    },
    "tags": []
   },
   "outputs": [
    {
     "name": "stdout",
     "output_type": "stream",
     "text": [
      "Setup Complete\n"
     ]
    }
   ],
   "source": [
    "# Set up code checking\n",
    "import os\n",
    "if not os.path.exists(\"../input/train.csv\"):\n",
    "    os.symlink(\"../input/home-data-for-ml-course/train.csv\", \"../input/train.csv\")  \n",
    "    os.symlink(\"../input/home-data-for-ml-course/test.csv\", \"../input/test.csv\") \n",
    "from learntools.core import binder\n",
    "binder.bind(globals())\n",
    "from learntools.ml_intermediate.ex3 import *\n",
    "print(\"Setup Complete\")"
   ]
  },
  {
   "cell_type": "markdown",
   "id": "476e2c96",
   "metadata": {
    "papermill": {
     "duration": 0.005749,
     "end_time": "2025-03-06T02:02:27.851489",
     "exception": false,
     "start_time": "2025-03-06T02:02:27.845740",
     "status": "completed"
    },
    "tags": []
   },
   "source": [
    "In this exercise, you will work with data from the [Housing Prices Competition for Kaggle Learn Users](https://www.kaggle.com/c/home-data-for-ml-course). \n",
    "\n",
    "![Ames Housing dataset image](https://storage.googleapis.com/kaggle-media/learn/images/lTJVG4e.png)\n",
    "\n",
    "Run the next code cell without changes to load the training and validation sets in `X_train`, `X_valid`, `y_train`, and `y_valid`.  The test set is loaded in `X_test`."
   ]
  },
  {
   "cell_type": "code",
   "execution_count": 2,
   "id": "0a085b6b",
   "metadata": {
    "execution": {
     "iopub.execute_input": "2025-03-06T02:02:27.865078Z",
     "iopub.status.busy": "2025-03-06T02:02:27.864566Z",
     "iopub.status.idle": "2025-03-06T02:02:29.538849Z",
     "shell.execute_reply": "2025-03-06T02:02:29.537605Z"
    },
    "papermill": {
     "duration": 1.683136,
     "end_time": "2025-03-06T02:02:29.540686",
     "exception": false,
     "start_time": "2025-03-06T02:02:27.857550",
     "status": "completed"
    },
    "tags": []
   },
   "outputs": [],
   "source": [
    "import pandas as pd\n",
    "from sklearn.model_selection import train_test_split\n",
    "\n",
    "# Read the data\n",
    "X = pd.read_csv('../input/train.csv', index_col='Id') \n",
    "X_test = pd.read_csv('../input/test.csv', index_col='Id')\n",
    "\n",
    "# Remove rows with missing target, separate target from predictors\n",
    "X.dropna(axis=0, subset=['SalePrice'], inplace=True)\n",
    "y = X.SalePrice\n",
    "X.drop(['SalePrice'], axis=1, inplace=True)\n",
    "\n",
    "# To keep things simple, we'll drop columns with missing values\n",
    "cols_with_missing = [col for col in X.columns if X[col].isnull().any()] \n",
    "X.drop(cols_with_missing, axis=1, inplace=True)\n",
    "X_test.drop(cols_with_missing, axis=1, inplace=True)\n",
    "\n",
    "# Break off validation set from training data\n",
    "X_train, X_valid, y_train, y_valid = train_test_split(X, y,\n",
    "                                                      train_size=0.8, test_size=0.2,\n",
    "                                                      random_state=0)"
   ]
  },
  {
   "cell_type": "markdown",
   "id": "481e5d9d",
   "metadata": {
    "papermill": {
     "duration": 0.006573,
     "end_time": "2025-03-06T02:02:29.554418",
     "exception": false,
     "start_time": "2025-03-06T02:02:29.547845",
     "status": "completed"
    },
    "tags": []
   },
   "source": [
    "Use the next code cell to print the first five rows of the data."
   ]
  },
  {
   "cell_type": "code",
   "execution_count": 3,
   "id": "bfbb8bba",
   "metadata": {
    "execution": {
     "iopub.execute_input": "2025-03-06T02:02:29.569270Z",
     "iopub.status.busy": "2025-03-06T02:02:29.568941Z",
     "iopub.status.idle": "2025-03-06T02:02:29.595632Z",
     "shell.execute_reply": "2025-03-06T02:02:29.594591Z"
    },
    "papermill": {
     "duration": 0.035044,
     "end_time": "2025-03-06T02:02:29.596974",
     "exception": false,
     "start_time": "2025-03-06T02:02:29.561930",
     "status": "completed"
    },
    "tags": []
   },
   "outputs": [
    {
     "data": {
      "text/html": [
       "<div>\n",
       "<style scoped>\n",
       "    .dataframe tbody tr th:only-of-type {\n",
       "        vertical-align: middle;\n",
       "    }\n",
       "\n",
       "    .dataframe tbody tr th {\n",
       "        vertical-align: top;\n",
       "    }\n",
       "\n",
       "    .dataframe thead th {\n",
       "        text-align: right;\n",
       "    }\n",
       "</style>\n",
       "<table border=\"1\" class=\"dataframe\">\n",
       "  <thead>\n",
       "    <tr style=\"text-align: right;\">\n",
       "      <th></th>\n",
       "      <th>MSSubClass</th>\n",
       "      <th>MSZoning</th>\n",
       "      <th>LotArea</th>\n",
       "      <th>Street</th>\n",
       "      <th>LotShape</th>\n",
       "      <th>LandContour</th>\n",
       "      <th>Utilities</th>\n",
       "      <th>LotConfig</th>\n",
       "      <th>LandSlope</th>\n",
       "      <th>Neighborhood</th>\n",
       "      <th>...</th>\n",
       "      <th>OpenPorchSF</th>\n",
       "      <th>EnclosedPorch</th>\n",
       "      <th>3SsnPorch</th>\n",
       "      <th>ScreenPorch</th>\n",
       "      <th>PoolArea</th>\n",
       "      <th>MiscVal</th>\n",
       "      <th>MoSold</th>\n",
       "      <th>YrSold</th>\n",
       "      <th>SaleType</th>\n",
       "      <th>SaleCondition</th>\n",
       "    </tr>\n",
       "    <tr>\n",
       "      <th>Id</th>\n",
       "      <th></th>\n",
       "      <th></th>\n",
       "      <th></th>\n",
       "      <th></th>\n",
       "      <th></th>\n",
       "      <th></th>\n",
       "      <th></th>\n",
       "      <th></th>\n",
       "      <th></th>\n",
       "      <th></th>\n",
       "      <th></th>\n",
       "      <th></th>\n",
       "      <th></th>\n",
       "      <th></th>\n",
       "      <th></th>\n",
       "      <th></th>\n",
       "      <th></th>\n",
       "      <th></th>\n",
       "      <th></th>\n",
       "      <th></th>\n",
       "      <th></th>\n",
       "    </tr>\n",
       "  </thead>\n",
       "  <tbody>\n",
       "    <tr>\n",
       "      <th>619</th>\n",
       "      <td>20</td>\n",
       "      <td>RL</td>\n",
       "      <td>11694</td>\n",
       "      <td>Pave</td>\n",
       "      <td>Reg</td>\n",
       "      <td>Lvl</td>\n",
       "      <td>AllPub</td>\n",
       "      <td>Inside</td>\n",
       "      <td>Gtl</td>\n",
       "      <td>NridgHt</td>\n",
       "      <td>...</td>\n",
       "      <td>108</td>\n",
       "      <td>0</td>\n",
       "      <td>0</td>\n",
       "      <td>260</td>\n",
       "      <td>0</td>\n",
       "      <td>0</td>\n",
       "      <td>7</td>\n",
       "      <td>2007</td>\n",
       "      <td>New</td>\n",
       "      <td>Partial</td>\n",
       "    </tr>\n",
       "    <tr>\n",
       "      <th>871</th>\n",
       "      <td>20</td>\n",
       "      <td>RL</td>\n",
       "      <td>6600</td>\n",
       "      <td>Pave</td>\n",
       "      <td>Reg</td>\n",
       "      <td>Lvl</td>\n",
       "      <td>AllPub</td>\n",
       "      <td>Inside</td>\n",
       "      <td>Gtl</td>\n",
       "      <td>NAmes</td>\n",
       "      <td>...</td>\n",
       "      <td>0</td>\n",
       "      <td>0</td>\n",
       "      <td>0</td>\n",
       "      <td>0</td>\n",
       "      <td>0</td>\n",
       "      <td>0</td>\n",
       "      <td>8</td>\n",
       "      <td>2009</td>\n",
       "      <td>WD</td>\n",
       "      <td>Normal</td>\n",
       "    </tr>\n",
       "    <tr>\n",
       "      <th>93</th>\n",
       "      <td>30</td>\n",
       "      <td>RL</td>\n",
       "      <td>13360</td>\n",
       "      <td>Pave</td>\n",
       "      <td>IR1</td>\n",
       "      <td>HLS</td>\n",
       "      <td>AllPub</td>\n",
       "      <td>Inside</td>\n",
       "      <td>Gtl</td>\n",
       "      <td>Crawfor</td>\n",
       "      <td>...</td>\n",
       "      <td>0</td>\n",
       "      <td>44</td>\n",
       "      <td>0</td>\n",
       "      <td>0</td>\n",
       "      <td>0</td>\n",
       "      <td>0</td>\n",
       "      <td>8</td>\n",
       "      <td>2009</td>\n",
       "      <td>WD</td>\n",
       "      <td>Normal</td>\n",
       "    </tr>\n",
       "    <tr>\n",
       "      <th>818</th>\n",
       "      <td>20</td>\n",
       "      <td>RL</td>\n",
       "      <td>13265</td>\n",
       "      <td>Pave</td>\n",
       "      <td>IR1</td>\n",
       "      <td>Lvl</td>\n",
       "      <td>AllPub</td>\n",
       "      <td>CulDSac</td>\n",
       "      <td>Gtl</td>\n",
       "      <td>Mitchel</td>\n",
       "      <td>...</td>\n",
       "      <td>59</td>\n",
       "      <td>0</td>\n",
       "      <td>0</td>\n",
       "      <td>0</td>\n",
       "      <td>0</td>\n",
       "      <td>0</td>\n",
       "      <td>7</td>\n",
       "      <td>2008</td>\n",
       "      <td>WD</td>\n",
       "      <td>Normal</td>\n",
       "    </tr>\n",
       "    <tr>\n",
       "      <th>303</th>\n",
       "      <td>20</td>\n",
       "      <td>RL</td>\n",
       "      <td>13704</td>\n",
       "      <td>Pave</td>\n",
       "      <td>IR1</td>\n",
       "      <td>Lvl</td>\n",
       "      <td>AllPub</td>\n",
       "      <td>Corner</td>\n",
       "      <td>Gtl</td>\n",
       "      <td>CollgCr</td>\n",
       "      <td>...</td>\n",
       "      <td>81</td>\n",
       "      <td>0</td>\n",
       "      <td>0</td>\n",
       "      <td>0</td>\n",
       "      <td>0</td>\n",
       "      <td>0</td>\n",
       "      <td>1</td>\n",
       "      <td>2006</td>\n",
       "      <td>WD</td>\n",
       "      <td>Normal</td>\n",
       "    </tr>\n",
       "  </tbody>\n",
       "</table>\n",
       "<p>5 rows × 60 columns</p>\n",
       "</div>"
      ],
      "text/plain": [
       "     MSSubClass MSZoning  LotArea Street LotShape LandContour Utilities  \\\n",
       "Id                                                                        \n",
       "619          20       RL    11694   Pave      Reg         Lvl    AllPub   \n",
       "871          20       RL     6600   Pave      Reg         Lvl    AllPub   \n",
       "93           30       RL    13360   Pave      IR1         HLS    AllPub   \n",
       "818          20       RL    13265   Pave      IR1         Lvl    AllPub   \n",
       "303          20       RL    13704   Pave      IR1         Lvl    AllPub   \n",
       "\n",
       "    LotConfig LandSlope Neighborhood  ... OpenPorchSF EnclosedPorch 3SsnPorch  \\\n",
       "Id                                    ...                                       \n",
       "619    Inside       Gtl      NridgHt  ...         108             0         0   \n",
       "871    Inside       Gtl        NAmes  ...           0             0         0   \n",
       "93     Inside       Gtl      Crawfor  ...           0            44         0   \n",
       "818   CulDSac       Gtl      Mitchel  ...          59             0         0   \n",
       "303    Corner       Gtl      CollgCr  ...          81             0         0   \n",
       "\n",
       "    ScreenPorch  PoolArea  MiscVal  MoSold  YrSold SaleType SaleCondition  \n",
       "Id                                                                         \n",
       "619         260         0        0       7    2007      New       Partial  \n",
       "871           0         0        0       8    2009       WD        Normal  \n",
       "93            0         0        0       8    2009       WD        Normal  \n",
       "818           0         0        0       7    2008       WD        Normal  \n",
       "303           0         0        0       1    2006       WD        Normal  \n",
       "\n",
       "[5 rows x 60 columns]"
      ]
     },
     "execution_count": 3,
     "metadata": {},
     "output_type": "execute_result"
    }
   ],
   "source": [
    "X_train.head()"
   ]
  },
  {
   "cell_type": "markdown",
   "id": "69692c46",
   "metadata": {
    "papermill": {
     "duration": 0.005948,
     "end_time": "2025-03-06T02:02:29.609536",
     "exception": false,
     "start_time": "2025-03-06T02:02:29.603588",
     "status": "completed"
    },
    "tags": []
   },
   "source": [
    "Notice that the dataset contains both numerical and categorical variables.  You'll need to encode the categorical data before training a model.\n",
    "\n",
    "To compare different models, you'll use the same `score_dataset()` function from the tutorial.  This function reports the [mean absolute error](https://en.wikipedia.org/wiki/Mean_absolute_error) (MAE) from a random forest model."
   ]
  },
  {
   "cell_type": "code",
   "execution_count": 4,
   "id": "74f880b6",
   "metadata": {
    "execution": {
     "iopub.execute_input": "2025-03-06T02:02:29.623579Z",
     "iopub.status.busy": "2025-03-06T02:02:29.623154Z",
     "iopub.status.idle": "2025-03-06T02:02:30.025682Z",
     "shell.execute_reply": "2025-03-06T02:02:30.024458Z"
    },
    "papermill": {
     "duration": 0.41169,
     "end_time": "2025-03-06T02:02:30.027618",
     "exception": false,
     "start_time": "2025-03-06T02:02:29.615928",
     "status": "completed"
    },
    "tags": []
   },
   "outputs": [],
   "source": [
    "from sklearn.ensemble import RandomForestRegressor\n",
    "from sklearn.metrics import mean_absolute_error\n",
    "\n",
    "# function for comparing different approaches\n",
    "def score_dataset(X_train, X_valid, y_train, y_valid):\n",
    "    model = RandomForestRegressor(n_estimators=100, random_state=0)\n",
    "    model.fit(X_train, y_train)\n",
    "    preds = model.predict(X_valid)\n",
    "    return mean_absolute_error(y_valid, preds)"
   ]
  },
  {
   "cell_type": "markdown",
   "id": "ef5ca8c8",
   "metadata": {
    "papermill": {
     "duration": 0.00644,
     "end_time": "2025-03-06T02:02:30.041060",
     "exception": false,
     "start_time": "2025-03-06T02:02:30.034620",
     "status": "completed"
    },
    "tags": []
   },
   "source": [
    "# Step 1: Drop columns with categorical data\n",
    "\n",
    "You'll get started with the most straightforward approach.  Use the code cell below to preprocess the data in `X_train` and `X_valid` to remove columns with categorical data.  Set the preprocessed DataFrames to `drop_X_train` and `drop_X_valid`, respectively.  "
   ]
  },
  {
   "cell_type": "code",
   "execution_count": 5,
   "id": "794c37fc",
   "metadata": {
    "execution": {
     "iopub.execute_input": "2025-03-06T02:02:30.057784Z",
     "iopub.status.busy": "2025-03-06T02:02:30.057428Z",
     "iopub.status.idle": "2025-03-06T02:02:30.064023Z",
     "shell.execute_reply": "2025-03-06T02:02:30.062460Z"
    },
    "papermill": {
     "duration": 0.017448,
     "end_time": "2025-03-06T02:02:30.066221",
     "exception": false,
     "start_time": "2025-03-06T02:02:30.048773",
     "status": "completed"
    },
    "tags": []
   },
   "outputs": [],
   "source": [
    "categorical_columns = [col for col in X_train.columns if X_train[col].dtype == 'O']"
   ]
  },
  {
   "cell_type": "code",
   "execution_count": 6,
   "id": "96b11e17",
   "metadata": {
    "execution": {
     "iopub.execute_input": "2025-03-06T02:02:30.081108Z",
     "iopub.status.busy": "2025-03-06T02:02:30.080780Z",
     "iopub.status.idle": "2025-03-06T02:02:30.087298Z",
     "shell.execute_reply": "2025-03-06T02:02:30.085825Z"
    },
    "papermill": {
     "duration": 0.016283,
     "end_time": "2025-03-06T02:02:30.089355",
     "exception": false,
     "start_time": "2025-03-06T02:02:30.073072",
     "status": "completed"
    },
    "tags": []
   },
   "outputs": [
    {
     "data": {
      "text/plain": [
       "['MSZoning',\n",
       " 'Street',\n",
       " 'LotShape',\n",
       " 'LandContour',\n",
       " 'Utilities',\n",
       " 'LotConfig',\n",
       " 'LandSlope',\n",
       " 'Neighborhood',\n",
       " 'Condition1',\n",
       " 'Condition2',\n",
       " 'BldgType',\n",
       " 'HouseStyle',\n",
       " 'RoofStyle',\n",
       " 'RoofMatl',\n",
       " 'Exterior1st',\n",
       " 'Exterior2nd',\n",
       " 'ExterQual',\n",
       " 'ExterCond',\n",
       " 'Foundation',\n",
       " 'Heating',\n",
       " 'HeatingQC',\n",
       " 'CentralAir',\n",
       " 'KitchenQual',\n",
       " 'Functional',\n",
       " 'PavedDrive',\n",
       " 'SaleType',\n",
       " 'SaleCondition']"
      ]
     },
     "execution_count": 6,
     "metadata": {},
     "output_type": "execute_result"
    }
   ],
   "source": [
    "categorical_columns"
   ]
  },
  {
   "cell_type": "code",
   "execution_count": 7,
   "id": "3cff8965",
   "metadata": {
    "execution": {
     "iopub.execute_input": "2025-03-06T02:02:30.103967Z",
     "iopub.status.busy": "2025-03-06T02:02:30.103635Z",
     "iopub.status.idle": "2025-03-06T02:02:30.113260Z",
     "shell.execute_reply": "2025-03-06T02:02:30.112058Z"
    },
    "papermill": {
     "duration": 0.01888,
     "end_time": "2025-03-06T02:02:30.115244",
     "exception": false,
     "start_time": "2025-03-06T02:02:30.096364",
     "status": "completed"
    },
    "tags": []
   },
   "outputs": [
    {
     "data": {
      "application/javascript": [
       "parent.postMessage({\"jupyterEvent\": \"custom.exercise_interaction\", \"data\": {\"outcomeType\": 1, \"valueTowardsCompletion\": 0.5, \"interactionType\": 1, \"questionType\": 2, \"questionId\": \"1_Drop\", \"learnToolsVersion\": \"0.3.4\", \"failureMessage\": \"\", \"exceptionClass\": \"\", \"trace\": \"\"}}, \"*\")"
      ],
      "text/plain": [
       "<IPython.core.display.Javascript object>"
      ]
     },
     "metadata": {},
     "output_type": "display_data"
    },
    {
     "data": {
      "text/markdown": [
       "<span style=\"color:#33cc33\">Correct</span>"
      ],
      "text/plain": [
       "Correct"
      ]
     },
     "metadata": {},
     "output_type": "display_data"
    }
   ],
   "source": [
    "# Fill in the lines below: drop columns in training and validation data\n",
    "drop_X_train = X_train.drop(categorical_columns, axis=1)\n",
    "drop_X_valid = X_valid.drop(categorical_columns, axis=1)\n",
    "\n",
    "# Check your answers\n",
    "step_1.check()"
   ]
  },
  {
   "cell_type": "code",
   "execution_count": 8,
   "id": "8cc30f4a",
   "metadata": {
    "execution": {
     "iopub.execute_input": "2025-03-06T02:02:30.130507Z",
     "iopub.status.busy": "2025-03-06T02:02:30.130146Z",
     "iopub.status.idle": "2025-03-06T02:02:30.133788Z",
     "shell.execute_reply": "2025-03-06T02:02:30.132870Z"
    },
    "papermill": {
     "duration": 0.012537,
     "end_time": "2025-03-06T02:02:30.135118",
     "exception": false,
     "start_time": "2025-03-06T02:02:30.122581",
     "status": "completed"
    },
    "tags": []
   },
   "outputs": [],
   "source": [
    "# Lines below will give you a hint or solution code\n",
    "#step_1.hint()\n",
    "#step_1.solution()"
   ]
  },
  {
   "cell_type": "markdown",
   "id": "2151ebac",
   "metadata": {
    "papermill": {
     "duration": 0.006406,
     "end_time": "2025-03-06T02:02:30.149649",
     "exception": false,
     "start_time": "2025-03-06T02:02:30.143243",
     "status": "completed"
    },
    "tags": []
   },
   "source": [
    "Run the next code cell to get the MAE for this approach."
   ]
  },
  {
   "cell_type": "code",
   "execution_count": 9,
   "id": "75066d75",
   "metadata": {
    "execution": {
     "iopub.execute_input": "2025-03-06T02:02:30.164652Z",
     "iopub.status.busy": "2025-03-06T02:02:30.164268Z",
     "iopub.status.idle": "2025-03-06T02:02:31.088718Z",
     "shell.execute_reply": "2025-03-06T02:02:31.087331Z"
    },
    "papermill": {
     "duration": 0.934117,
     "end_time": "2025-03-06T02:02:31.090394",
     "exception": false,
     "start_time": "2025-03-06T02:02:30.156277",
     "status": "completed"
    },
    "tags": []
   },
   "outputs": [
    {
     "name": "stdout",
     "output_type": "stream",
     "text": [
      "MAE from Approach 1 (Drop categorical variables):\n",
      "17837.82570776256\n"
     ]
    }
   ],
   "source": [
    "print(\"MAE from Approach 1 (Drop categorical variables):\")\n",
    "print(score_dataset(drop_X_train, drop_X_valid, y_train, y_valid))"
   ]
  },
  {
   "cell_type": "markdown",
   "id": "4edc5b1e",
   "metadata": {
    "papermill": {
     "duration": 0.006462,
     "end_time": "2025-03-06T02:02:31.103945",
     "exception": false,
     "start_time": "2025-03-06T02:02:31.097483",
     "status": "completed"
    },
    "tags": []
   },
   "source": [
    "Before jumping into ordinal encoding, we'll investigate the dataset.  Specifically, we'll look at the `'Condition2'` column.  The code cell below prints the unique entries in both the training and validation sets."
   ]
  },
  {
   "cell_type": "code",
   "execution_count": 10,
   "id": "4548a840",
   "metadata": {
    "execution": {
     "iopub.execute_input": "2025-03-06T02:02:31.118683Z",
     "iopub.status.busy": "2025-03-06T02:02:31.118322Z",
     "iopub.status.idle": "2025-03-06T02:02:31.126621Z",
     "shell.execute_reply": "2025-03-06T02:02:31.125556Z"
    },
    "papermill": {
     "duration": 0.018015,
     "end_time": "2025-03-06T02:02:31.128583",
     "exception": false,
     "start_time": "2025-03-06T02:02:31.110568",
     "status": "completed"
    },
    "tags": []
   },
   "outputs": [
    {
     "name": "stdout",
     "output_type": "stream",
     "text": [
      "Unique values in 'Condition2' column in training data: ['Norm' 'PosA' 'Feedr' 'PosN' 'Artery' 'RRAe']\n",
      "\n",
      "Unique values in 'Condition2' column in validation data: ['Norm' 'RRAn' 'RRNn' 'Artery' 'Feedr' 'PosN']\n"
     ]
    }
   ],
   "source": [
    "print(\"Unique values in 'Condition2' column in training data:\", X_train['Condition2'].unique())\n",
    "print(\"\\nUnique values in 'Condition2' column in validation data:\", X_valid['Condition2'].unique())"
   ]
  },
  {
   "cell_type": "markdown",
   "id": "64d315ed",
   "metadata": {
    "papermill": {
     "duration": 0.007507,
     "end_time": "2025-03-06T02:02:31.143345",
     "exception": false,
     "start_time": "2025-03-06T02:02:31.135838",
     "status": "completed"
    },
    "tags": []
   },
   "source": [
    "# Step 2: Ordinal encoding\n",
    "\n",
    "### Part A\n",
    "\n",
    "If you now write code to: \n",
    "- fit an ordinal encoder to the training data, and then \n",
    "- use it to transform both the training and validation data, \n",
    "\n",
    "you'll get an error.  Can you see why this is the case?  (_You'll need  to use the above output to answer this question._)"
   ]
  },
  {
   "cell_type": "code",
   "execution_count": 11,
   "id": "683db207",
   "metadata": {
    "execution": {
     "iopub.execute_input": "2025-03-06T02:02:31.158110Z",
     "iopub.status.busy": "2025-03-06T02:02:31.157760Z",
     "iopub.status.idle": "2025-03-06T02:02:31.165050Z",
     "shell.execute_reply": "2025-03-06T02:02:31.164098Z"
    },
    "papermill": {
     "duration": 0.016216,
     "end_time": "2025-03-06T02:02:31.166467",
     "exception": false,
     "start_time": "2025-03-06T02:02:31.150251",
     "status": "completed"
    },
    "tags": []
   },
   "outputs": [
    {
     "data": {
      "application/javascript": [
       "parent.postMessage({\"jupyterEvent\": \"custom.exercise_interaction\", \"data\": {\"outcomeType\": 1, \"valueTowardsCompletion\": 0.5, \"interactionType\": 1, \"questionType\": 4, \"questionId\": \"2.1_LabelA\", \"learnToolsVersion\": \"0.3.4\", \"failureMessage\": \"\", \"exceptionClass\": \"\", \"trace\": \"\"}}, \"*\")"
      ],
      "text/plain": [
       "<IPython.core.display.Javascript object>"
      ]
     },
     "metadata": {},
     "output_type": "display_data"
    },
    {
     "data": {
      "text/markdown": [
       "<span style=\"color:#33cc33\">Correct:</span> \n",
       "\n",
       "Fitting an ordinal encoder to a column in the training data creates a corresponding integer-valued label for each unique value **that appears in the training data**. In the case that the validation data contains values that don't also appear in the training data, the encoder will throw an error, because these values won't have an integer assigned to them.  Notice that the `'Condition2'` column in the validation data contains the values `'RRAn'` and `'RRNn'`, but these don't appear in the training data -- thus, if we try to use an ordinal encoder with scikit-learn, the code will throw an error."
      ],
      "text/plain": [
       "Correct: \n",
       "\n",
       "Fitting an ordinal encoder to a column in the training data creates a corresponding integer-valued label for each unique value **that appears in the training data**. In the case that the validation data contains values that don't also appear in the training data, the encoder will throw an error, because these values won't have an integer assigned to them.  Notice that the `'Condition2'` column in the validation data contains the values `'RRAn'` and `'RRNn'`, but these don't appear in the training data -- thus, if we try to use an ordinal encoder with scikit-learn, the code will throw an error."
      ]
     },
     "metadata": {},
     "output_type": "display_data"
    }
   ],
   "source": [
    "# Check your answer (Run this code cell to receive credit!)\n",
    "step_2.a.check()"
   ]
  },
  {
   "cell_type": "code",
   "execution_count": 12,
   "id": "ab9022af",
   "metadata": {
    "execution": {
     "iopub.execute_input": "2025-03-06T02:02:31.182151Z",
     "iopub.status.busy": "2025-03-06T02:02:31.181816Z",
     "iopub.status.idle": "2025-03-06T02:02:31.186169Z",
     "shell.execute_reply": "2025-03-06T02:02:31.184641Z"
    },
    "papermill": {
     "duration": 0.013835,
     "end_time": "2025-03-06T02:02:31.187771",
     "exception": false,
     "start_time": "2025-03-06T02:02:31.173936",
     "status": "completed"
    },
    "tags": []
   },
   "outputs": [],
   "source": [
    "#step_2.a.hint()"
   ]
  },
  {
   "cell_type": "markdown",
   "id": "fae85261",
   "metadata": {
    "papermill": {
     "duration": 0.006432,
     "end_time": "2025-03-06T02:02:31.201751",
     "exception": false,
     "start_time": "2025-03-06T02:02:31.195319",
     "status": "completed"
    },
    "tags": []
   },
   "source": [
    "This is a common problem that you'll encounter with real-world data, and there are many approaches to fixing this issue.  For instance, you can write a custom ordinal encoder to deal with new categories.  The simplest approach, however, is to drop the problematic categorical columns.  \n",
    "\n",
    "Run the code cell below to save the problematic columns to a Python list `bad_label_cols`.  Likewise, columns that can be safely ordinal encoded are stored in `good_label_cols`."
   ]
  },
  {
   "cell_type": "code",
   "execution_count": 13,
   "id": "5583fde4",
   "metadata": {
    "execution": {
     "iopub.execute_input": "2025-03-06T02:02:31.217323Z",
     "iopub.status.busy": "2025-03-06T02:02:31.216972Z",
     "iopub.status.idle": "2025-03-06T02:02:31.222730Z",
     "shell.execute_reply": "2025-03-06T02:02:31.221778Z"
    },
    "papermill": {
     "duration": 0.016091,
     "end_time": "2025-03-06T02:02:31.224577",
     "exception": false,
     "start_time": "2025-03-06T02:02:31.208486",
     "status": "completed"
    },
    "tags": []
   },
   "outputs": [
    {
     "data": {
      "text/plain": [
       "True"
      ]
     },
     "execution_count": 13,
     "metadata": {},
     "output_type": "execute_result"
    }
   ],
   "source": [
    "set(X_valid['MSZoning']).issubset(set(X_train['MSZoning']))"
   ]
  },
  {
   "cell_type": "code",
   "execution_count": 14,
   "id": "7d900274",
   "metadata": {
    "execution": {
     "iopub.execute_input": "2025-03-06T02:02:31.240493Z",
     "iopub.status.busy": "2025-03-06T02:02:31.240119Z",
     "iopub.status.idle": "2025-03-06T02:02:31.248500Z",
     "shell.execute_reply": "2025-03-06T02:02:31.247253Z"
    },
    "papermill": {
     "duration": 0.018004,
     "end_time": "2025-03-06T02:02:31.250185",
     "exception": false,
     "start_time": "2025-03-06T02:02:31.232181",
     "status": "completed"
    },
    "tags": []
   },
   "outputs": [
    {
     "name": "stdout",
     "output_type": "stream",
     "text": [
      "Categorical columns that will be ordinal encoded: ['MSZoning', 'Street', 'LotShape', 'LandContour', 'Utilities', 'LotConfig', 'LandSlope', 'Neighborhood', 'Condition1', 'BldgType', 'HouseStyle', 'RoofStyle', 'Exterior1st', 'Exterior2nd', 'ExterQual', 'ExterCond', 'Foundation', 'Heating', 'HeatingQC', 'CentralAir', 'KitchenQual', 'PavedDrive', 'SaleType', 'SaleCondition']\n",
      "\n",
      "Categorical columns that will be dropped from the dataset: ['RoofMatl', 'Condition2', 'Functional']\n"
     ]
    }
   ],
   "source": [
    "# Categorical columns in the training data\n",
    "object_cols = [col for col in X_train.columns if X_train[col].dtype == \"object\"]\n",
    "\n",
    "# Columns that can be safely ordinal encoded\n",
    "good_label_cols = [col for col in object_cols if \n",
    "                   set(X_valid[col]).issubset(set(X_train[col]))]\n",
    "        \n",
    "# Problematic columns that will be dropped from the dataset\n",
    "bad_label_cols = list(set(object_cols)-set(good_label_cols))\n",
    "        \n",
    "print('Categorical columns that will be ordinal encoded:', good_label_cols)\n",
    "print('\\nCategorical columns that will be dropped from the dataset:', bad_label_cols)"
   ]
  },
  {
   "cell_type": "markdown",
   "id": "9ccd62b4",
   "metadata": {
    "papermill": {
     "duration": 0.006579,
     "end_time": "2025-03-06T02:02:31.264328",
     "exception": false,
     "start_time": "2025-03-06T02:02:31.257749",
     "status": "completed"
    },
    "tags": []
   },
   "source": [
    "### Part B\n",
    "\n",
    "Use the next code cell to ordinal encode the data in `X_train` and `X_valid`.  Set the preprocessed DataFrames to `label_X_train` and `label_X_valid`, respectively.  \n",
    "- We have provided code below to drop the categorical columns in `bad_label_cols` from the dataset. \n",
    "- You should ordinal encode the categorical columns in `good_label_cols`.  "
   ]
  },
  {
   "cell_type": "code",
   "execution_count": 15,
   "id": "a15db037",
   "metadata": {
    "execution": {
     "iopub.execute_input": "2025-03-06T02:02:31.284411Z",
     "iopub.status.busy": "2025-03-06T02:02:31.284052Z",
     "iopub.status.idle": "2025-03-06T02:02:31.320654Z",
     "shell.execute_reply": "2025-03-06T02:02:31.319352Z"
    },
    "papermill": {
     "duration": 0.047366,
     "end_time": "2025-03-06T02:02:31.322145",
     "exception": false,
     "start_time": "2025-03-06T02:02:31.274779",
     "status": "completed"
    },
    "tags": []
   },
   "outputs": [
    {
     "data": {
      "application/javascript": [
       "parent.postMessage({\"jupyterEvent\": \"custom.exercise_interaction\", \"data\": {\"outcomeType\": 1, \"valueTowardsCompletion\": 0.5, \"interactionType\": 1, \"questionType\": 2, \"questionId\": \"2.2_LabelB\", \"learnToolsVersion\": \"0.3.4\", \"failureMessage\": \"\", \"exceptionClass\": \"\", \"trace\": \"\"}}, \"*\")"
      ],
      "text/plain": [
       "<IPython.core.display.Javascript object>"
      ]
     },
     "metadata": {},
     "output_type": "display_data"
    },
    {
     "data": {
      "text/markdown": [
       "<span style=\"color:#33cc33\">Correct</span>"
      ],
      "text/plain": [
       "Correct"
      ]
     },
     "metadata": {},
     "output_type": "display_data"
    }
   ],
   "source": [
    "from sklearn.preprocessing import OrdinalEncoder\n",
    "\n",
    "# Drop categorical columns that will not be encoded\n",
    "label_X_train = X_train.drop(bad_label_cols, axis=1)\n",
    "label_X_valid = X_valid.drop(bad_label_cols, axis=1)\n",
    "\n",
    "# Apply ordinal encoder \n",
    "my_encoder = OrdinalEncoder() # Your code here\n",
    "label_X_train[good_label_cols] = my_encoder.fit_transform(label_X_train[good_label_cols])\n",
    "label_X_valid[good_label_cols] = my_encoder.transform(label_X_valid[good_label_cols])\n",
    "\n",
    "\n",
    "# Check your answer\n",
    "step_2.b.check()"
   ]
  },
  {
   "cell_type": "code",
   "execution_count": 16,
   "id": "f8af36c7",
   "metadata": {
    "execution": {
     "iopub.execute_input": "2025-03-06T02:02:31.340160Z",
     "iopub.status.busy": "2025-03-06T02:02:31.339819Z",
     "iopub.status.idle": "2025-03-06T02:02:31.345801Z",
     "shell.execute_reply": "2025-03-06T02:02:31.345033Z"
    },
    "papermill": {
     "duration": 0.01753,
     "end_time": "2025-03-06T02:02:31.347290",
     "exception": false,
     "start_time": "2025-03-06T02:02:31.329760",
     "status": "completed"
    },
    "tags": []
   },
   "outputs": [],
   "source": [
    "# Lines below will give you a hint or solution code\n",
    "#step_2.b.hint()\n",
    "#step_2.b.solution()"
   ]
  },
  {
   "cell_type": "markdown",
   "id": "7b7eacf0",
   "metadata": {
    "papermill": {
     "duration": 0.007093,
     "end_time": "2025-03-06T02:02:31.361917",
     "exception": false,
     "start_time": "2025-03-06T02:02:31.354824",
     "status": "completed"
    },
    "tags": []
   },
   "source": [
    "Run the next code cell to get the MAE for this approach."
   ]
  },
  {
   "cell_type": "code",
   "execution_count": 17,
   "id": "48525652",
   "metadata": {
    "execution": {
     "iopub.execute_input": "2025-03-06T02:02:31.378034Z",
     "iopub.status.busy": "2025-03-06T02:02:31.377661Z",
     "iopub.status.idle": "2025-03-06T02:02:32.534178Z",
     "shell.execute_reply": "2025-03-06T02:02:32.533047Z"
    },
    "papermill": {
     "duration": 1.166497,
     "end_time": "2025-03-06T02:02:32.535571",
     "exception": false,
     "start_time": "2025-03-06T02:02:31.369074",
     "status": "completed"
    },
    "tags": []
   },
   "outputs": [
    {
     "name": "stdout",
     "output_type": "stream",
     "text": [
      "MAE from Approach 2 (Ordinal Encoding):\n",
      "17098.01649543379\n"
     ]
    }
   ],
   "source": [
    "print(\"MAE from Approach 2 (Ordinal Encoding):\") \n",
    "print(score_dataset(label_X_train, label_X_valid, y_train, y_valid))"
   ]
  },
  {
   "cell_type": "markdown",
   "id": "f2bb0cf6",
   "metadata": {
    "papermill": {
     "duration": 0.006706,
     "end_time": "2025-03-06T02:02:32.549937",
     "exception": false,
     "start_time": "2025-03-06T02:02:32.543231",
     "status": "completed"
    },
    "tags": []
   },
   "source": [
    "So far, you've tried two different approaches to dealing with categorical variables.  And, you've seen that encoding categorical data yields better results than removing columns from the dataset.\n",
    "\n",
    "Soon, you'll try one-hot encoding.  Before then, there's one additional topic we need to cover.  Begin by running the next code cell without changes.  "
   ]
  },
  {
   "cell_type": "code",
   "execution_count": 18,
   "id": "e8be9dae",
   "metadata": {
    "execution": {
     "iopub.execute_input": "2025-03-06T02:02:32.565183Z",
     "iopub.status.busy": "2025-03-06T02:02:32.564892Z",
     "iopub.status.idle": "2025-03-06T02:02:32.570748Z",
     "shell.execute_reply": "2025-03-06T02:02:32.569523Z"
    },
    "papermill": {
     "duration": 0.015481,
     "end_time": "2025-03-06T02:02:32.572375",
     "exception": false,
     "start_time": "2025-03-06T02:02:32.556894",
     "status": "completed"
    },
    "tags": []
   },
   "outputs": [
    {
     "data": {
      "text/plain": [
       "<function __main__.<lambda>(col)>"
      ]
     },
     "execution_count": 18,
     "metadata": {},
     "output_type": "execute_result"
    }
   ],
   "source": [
    "lambda col: X_train[col].nunique()"
   ]
  },
  {
   "cell_type": "code",
   "execution_count": 19,
   "id": "3062dfd4",
   "metadata": {
    "execution": {
     "iopub.execute_input": "2025-03-06T02:02:32.588776Z",
     "iopub.status.busy": "2025-03-06T02:02:32.588442Z",
     "iopub.status.idle": "2025-03-06T02:02:32.596701Z",
     "shell.execute_reply": "2025-03-06T02:02:32.595736Z"
    },
    "papermill": {
     "duration": 0.017931,
     "end_time": "2025-03-06T02:02:32.598020",
     "exception": false,
     "start_time": "2025-03-06T02:02:32.580089",
     "status": "completed"
    },
    "tags": []
   },
   "outputs": [
    {
     "data": {
      "text/plain": [
       "[5,\n",
       " 2,\n",
       " 4,\n",
       " 4,\n",
       " 2,\n",
       " 5,\n",
       " 3,\n",
       " 25,\n",
       " 9,\n",
       " 6,\n",
       " 5,\n",
       " 8,\n",
       " 6,\n",
       " 7,\n",
       " 15,\n",
       " 16,\n",
       " 4,\n",
       " 5,\n",
       " 6,\n",
       " 6,\n",
       " 5,\n",
       " 2,\n",
       " 4,\n",
       " 6,\n",
       " 3,\n",
       " 9,\n",
       " 6]"
      ]
     },
     "execution_count": 19,
     "metadata": {},
     "output_type": "execute_result"
    }
   ],
   "source": [
    "object_nunique = list(map(lambda col: X_train[col].nunique(), object_cols))\n",
    "object_nunique"
   ]
  },
  {
   "cell_type": "code",
   "execution_count": 20,
   "id": "4f705aa2",
   "metadata": {
    "execution": {
     "iopub.execute_input": "2025-03-06T02:02:32.613731Z",
     "iopub.status.busy": "2025-03-06T02:02:32.613438Z",
     "iopub.status.idle": "2025-03-06T02:02:32.624260Z",
     "shell.execute_reply": "2025-03-06T02:02:32.623032Z"
    },
    "papermill": {
     "duration": 0.020089,
     "end_time": "2025-03-06T02:02:32.625791",
     "exception": false,
     "start_time": "2025-03-06T02:02:32.605702",
     "status": "completed"
    },
    "tags": []
   },
   "outputs": [
    {
     "data": {
      "text/plain": [
       "[('Street', 2),\n",
       " ('Utilities', 2),\n",
       " ('CentralAir', 2),\n",
       " ('LandSlope', 3),\n",
       " ('PavedDrive', 3),\n",
       " ('LotShape', 4),\n",
       " ('LandContour', 4),\n",
       " ('ExterQual', 4),\n",
       " ('KitchenQual', 4),\n",
       " ('MSZoning', 5),\n",
       " ('LotConfig', 5),\n",
       " ('BldgType', 5),\n",
       " ('ExterCond', 5),\n",
       " ('HeatingQC', 5),\n",
       " ('Condition2', 6),\n",
       " ('RoofStyle', 6),\n",
       " ('Foundation', 6),\n",
       " ('Heating', 6),\n",
       " ('Functional', 6),\n",
       " ('SaleCondition', 6),\n",
       " ('RoofMatl', 7),\n",
       " ('HouseStyle', 8),\n",
       " ('Condition1', 9),\n",
       " ('SaleType', 9),\n",
       " ('Exterior1st', 15),\n",
       " ('Exterior2nd', 16),\n",
       " ('Neighborhood', 25)]"
      ]
     },
     "execution_count": 20,
     "metadata": {},
     "output_type": "execute_result"
    }
   ],
   "source": [
    "# Get number of unique entries in each column with categorical data\n",
    "object_nunique = list(map(lambda col: X_train[col].nunique(), object_cols))\n",
    "d = dict(zip(object_cols, object_nunique))\n",
    "\n",
    "# Print number of unique entries by column, in ascending order\n",
    "sorted(d.items(), key=lambda x: x[1])"
   ]
  },
  {
   "cell_type": "markdown",
   "id": "de5c4c32",
   "metadata": {
    "papermill": {
     "duration": 0.007069,
     "end_time": "2025-03-06T02:02:32.640830",
     "exception": false,
     "start_time": "2025-03-06T02:02:32.633761",
     "status": "completed"
    },
    "tags": []
   },
   "source": [
    "# Step 3: Investigating cardinality\n",
    "\n",
    "### Part A\n",
    "\n",
    "The output above shows, for each column with categorical data, the number of unique values in the column.  For instance, the `'Street'` column in the training data has two unique values: `'Grvl'` and `'Pave'`, corresponding to a gravel road and a paved road, respectively.\n",
    "\n",
    "We refer to the number of unique entries of a categorical variable as the **cardinality** of that categorical variable.  For instance, the `'Street'` variable has cardinality 2.\n",
    "\n",
    "Use the output above to answer the questions below."
   ]
  },
  {
   "cell_type": "code",
   "execution_count": 21,
   "id": "b7b30c2d",
   "metadata": {
    "execution": {
     "iopub.execute_input": "2025-03-06T02:02:32.656560Z",
     "iopub.status.busy": "2025-03-06T02:02:32.656271Z",
     "iopub.status.idle": "2025-03-06T02:02:32.663976Z",
     "shell.execute_reply": "2025-03-06T02:02:32.662770Z"
    },
    "papermill": {
     "duration": 0.017307,
     "end_time": "2025-03-06T02:02:32.665394",
     "exception": false,
     "start_time": "2025-03-06T02:02:32.648087",
     "status": "completed"
    },
    "tags": []
   },
   "outputs": [
    {
     "data": {
      "application/javascript": [
       "parent.postMessage({\"jupyterEvent\": \"custom.exercise_interaction\", \"data\": {\"outcomeType\": 1, \"valueTowardsCompletion\": 0.5, \"interactionType\": 1, \"questionType\": 1, \"questionId\": \"3.1_CardinalityA\", \"learnToolsVersion\": \"0.3.4\", \"failureMessage\": \"\", \"exceptionClass\": \"\", \"trace\": \"\"}}, \"*\")"
      ],
      "text/plain": [
       "<IPython.core.display.Javascript object>"
      ]
     },
     "metadata": {},
     "output_type": "display_data"
    },
    {
     "data": {
      "text/markdown": [
       "<span style=\"color:#33cc33\">Correct</span>"
      ],
      "text/plain": [
       "Correct"
      ]
     },
     "metadata": {},
     "output_type": "display_data"
    }
   ],
   "source": [
    "# Fill in the line below: How many categorical variables in the training data\n",
    "# have cardinality greater than 10?\n",
    "high_cardinality_numcols = 3\n",
    "\n",
    "# Fill in the line below: How many columns are needed to one-hot encode the \n",
    "# 'Neighborhood' variable in the training data?\n",
    "num_cols_neighborhood = 25\n",
    "\n",
    "# Check your answers\n",
    "step_3.a.check()"
   ]
  },
  {
   "cell_type": "code",
   "execution_count": 22,
   "id": "4ea7c407",
   "metadata": {
    "execution": {
     "iopub.execute_input": "2025-03-06T02:02:32.682042Z",
     "iopub.status.busy": "2025-03-06T02:02:32.681675Z",
     "iopub.status.idle": "2025-03-06T02:02:32.688059Z",
     "shell.execute_reply": "2025-03-06T02:02:32.687302Z"
    },
    "papermill": {
     "duration": 0.016318,
     "end_time": "2025-03-06T02:02:32.689701",
     "exception": false,
     "start_time": "2025-03-06T02:02:32.673383",
     "status": "completed"
    },
    "tags": []
   },
   "outputs": [
    {
     "data": {
      "application/javascript": [
       "parent.postMessage({\"jupyterEvent\": \"custom.exercise_interaction\", \"data\": {\"interactionType\": 2, \"questionType\": 1, \"questionId\": \"3.1_CardinalityA\", \"learnToolsVersion\": \"0.3.4\", \"valueTowardsCompletion\": 0.0, \"failureMessage\": \"\", \"exceptionClass\": \"\", \"trace\": \"\", \"outcomeType\": 4}}, \"*\")"
      ],
      "text/plain": [
       "<IPython.core.display.Javascript object>"
      ]
     },
     "metadata": {},
     "output_type": "display_data"
    },
    {
     "data": {
      "text/markdown": [
       "<span style=\"color:#3366cc\">Hint:</span> To one-hot encode a variable, we need one column for each unique entry."
      ],
      "text/plain": [
       "Hint: To one-hot encode a variable, we need one column for each unique entry."
      ]
     },
     "metadata": {},
     "output_type": "display_data"
    }
   ],
   "source": [
    "# Lines below will give you a hint or solution code\n",
    "step_3.a.hint()\n",
    "#step_3.a.solution()"
   ]
  },
  {
   "cell_type": "markdown",
   "id": "a6ab9b8a",
   "metadata": {
    "papermill": {
     "duration": 0.007374,
     "end_time": "2025-03-06T02:02:32.705264",
     "exception": false,
     "start_time": "2025-03-06T02:02:32.697890",
     "status": "completed"
    },
    "tags": []
   },
   "source": [
    "### Part B\n",
    "\n",
    "For large datasets with many rows, one-hot encoding can greatly expand the size of the dataset.  For this reason, we typically will only one-hot encode columns with relatively low cardinality.  Then, high cardinality columns can either be dropped from the dataset, or we can use ordinal encoding.\n",
    "\n",
    "As an example, consider a dataset with 10,000 rows, and containing one categorical column with 100 unique entries.  \n",
    "- If this column is replaced with the corresponding one-hot encoding, how many entries are added to the dataset?  \n",
    "- If we instead replace the column with the ordinal encoding, how many entries are added?  \n",
    "\n",
    "Use your answers to fill in the lines below."
   ]
  },
  {
   "cell_type": "code",
   "execution_count": 23,
   "id": "89f747b1",
   "metadata": {
    "execution": {
     "iopub.execute_input": "2025-03-06T02:02:32.721716Z",
     "iopub.status.busy": "2025-03-06T02:02:32.721404Z",
     "iopub.status.idle": "2025-03-06T02:02:32.726768Z",
     "shell.execute_reply": "2025-03-06T02:02:32.725889Z"
    },
    "papermill": {
     "duration": 0.015379,
     "end_time": "2025-03-06T02:02:32.728279",
     "exception": false,
     "start_time": "2025-03-06T02:02:32.712900",
     "status": "completed"
    },
    "tags": []
   },
   "outputs": [
    {
     "data": {
      "text/plain": [
       "151"
      ]
     },
     "execution_count": 23,
     "metadata": {},
     "output_type": "execute_result"
    }
   ],
   "source": [
    "sum(d.values())-len(object_cols)"
   ]
  },
  {
   "cell_type": "code",
   "execution_count": 24,
   "id": "8fd9e09b",
   "metadata": {
    "execution": {
     "iopub.execute_input": "2025-03-06T02:02:32.745261Z",
     "iopub.status.busy": "2025-03-06T02:02:32.744938Z",
     "iopub.status.idle": "2025-03-06T02:02:32.750895Z",
     "shell.execute_reply": "2025-03-06T02:02:32.750253Z"
    },
    "papermill": {
     "duration": 0.015577,
     "end_time": "2025-03-06T02:02:32.752012",
     "exception": false,
     "start_time": "2025-03-06T02:02:32.736435",
     "status": "completed"
    },
    "tags": []
   },
   "outputs": [
    {
     "data": {
      "application/javascript": [
       "parent.postMessage({\"jupyterEvent\": \"custom.exercise_interaction\", \"data\": {\"outcomeType\": 1, \"valueTowardsCompletion\": 0.5, \"interactionType\": 1, \"questionType\": 1, \"questionId\": \"3.2_CardinalityB\", \"learnToolsVersion\": \"0.3.4\", \"failureMessage\": \"\", \"exceptionClass\": \"\", \"trace\": \"\"}}, \"*\")"
      ],
      "text/plain": [
       "<IPython.core.display.Javascript object>"
      ]
     },
     "metadata": {},
     "output_type": "display_data"
    },
    {
     "data": {
      "text/markdown": [
       "<span style=\"color:#33cc33\">Correct</span>"
      ],
      "text/plain": [
       "Correct"
      ]
     },
     "metadata": {},
     "output_type": "display_data"
    }
   ],
   "source": [
    "# Fill in the line below: How many entries are added to the dataset by \n",
    "# replacing the column with a one-hot encoding?\n",
    "OH_entries_added = 99*10000\n",
    "\n",
    "# Fill in the line below: How many entries are added to the dataset by\n",
    "# replacing the column with an ordinal encoding?\n",
    "label_entries_added = 0\n",
    "\n",
    "# Check your answers\n",
    "step_3.b.check()"
   ]
  },
  {
   "cell_type": "code",
   "execution_count": 25,
   "id": "e8b8dee0",
   "metadata": {
    "execution": {
     "iopub.execute_input": "2025-03-06T02:02:32.769480Z",
     "iopub.status.busy": "2025-03-06T02:02:32.769171Z",
     "iopub.status.idle": "2025-03-06T02:02:32.772321Z",
     "shell.execute_reply": "2025-03-06T02:02:32.771524Z"
    },
    "papermill": {
     "duration": 0.013799,
     "end_time": "2025-03-06T02:02:32.774071",
     "exception": false,
     "start_time": "2025-03-06T02:02:32.760272",
     "status": "completed"
    },
    "tags": []
   },
   "outputs": [],
   "source": [
    "# Lines below will give you a hint or solution code\n",
    "#step_3.b.hint()\n",
    "#step_3.b.solution()"
   ]
  },
  {
   "cell_type": "markdown",
   "id": "9c388f05",
   "metadata": {
    "papermill": {
     "duration": 0.007607,
     "end_time": "2025-03-06T02:02:32.790220",
     "exception": false,
     "start_time": "2025-03-06T02:02:32.782613",
     "status": "completed"
    },
    "tags": []
   },
   "source": [
    "Next, you'll experiment with one-hot encoding.  But, instead of encoding all of the categorical variables in the dataset, you'll only create a one-hot encoding for columns with cardinality less than 10.\n",
    "\n",
    "Run the code cell below without changes to set `low_cardinality_cols` to a Python list containing the columns that will be one-hot encoded.  Likewise, `high_cardinality_cols` contains a list of categorical columns that will be dropped from the dataset."
   ]
  },
  {
   "cell_type": "code",
   "execution_count": 26,
   "id": "da690ac2",
   "metadata": {
    "execution": {
     "iopub.execute_input": "2025-03-06T02:02:32.806668Z",
     "iopub.status.busy": "2025-03-06T02:02:32.806378Z",
     "iopub.status.idle": "2025-03-06T02:02:32.815709Z",
     "shell.execute_reply": "2025-03-06T02:02:32.814640Z"
    },
    "papermill": {
     "duration": 0.01934,
     "end_time": "2025-03-06T02:02:32.817121",
     "exception": false,
     "start_time": "2025-03-06T02:02:32.797781",
     "status": "completed"
    },
    "tags": []
   },
   "outputs": [
    {
     "name": "stdout",
     "output_type": "stream",
     "text": [
      "Categorical columns that will be one-hot encoded: ['MSZoning', 'Street', 'LotShape', 'LandContour', 'Utilities', 'LotConfig', 'LandSlope', 'Condition1', 'Condition2', 'BldgType', 'HouseStyle', 'RoofStyle', 'RoofMatl', 'ExterQual', 'ExterCond', 'Foundation', 'Heating', 'HeatingQC', 'CentralAir', 'KitchenQual', 'Functional', 'PavedDrive', 'SaleType', 'SaleCondition']\n",
      "\n",
      "Categorical columns that will be dropped from the dataset: ['Neighborhood', 'Exterior1st', 'Exterior2nd']\n"
     ]
    }
   ],
   "source": [
    "# Columns that will be one-hot encoded\n",
    "low_cardinality_cols = [col for col in object_cols if X_train[col].nunique() < 10]\n",
    "\n",
    "# Columns that will be dropped from the dataset\n",
    "high_cardinality_cols = list(set(object_cols)-set(low_cardinality_cols))\n",
    "\n",
    "print('Categorical columns that will be one-hot encoded:', low_cardinality_cols)\n",
    "print('\\nCategorical columns that will be dropped from the dataset:', high_cardinality_cols)"
   ]
  },
  {
   "cell_type": "markdown",
   "id": "29722237",
   "metadata": {
    "papermill": {
     "duration": 0.007326,
     "end_time": "2025-03-06T02:02:32.833269",
     "exception": false,
     "start_time": "2025-03-06T02:02:32.825943",
     "status": "completed"
    },
    "tags": []
   },
   "source": [
    "# Step 4: One-hot encoding\n",
    "\n",
    "Use the next code cell to one-hot encode the data in `X_train` and `X_valid`.  Set the preprocessed DataFrames to `OH_X_train` and `OH_X_valid`, respectively.  \n",
    "- The full list of categorical columns in the dataset can be found in the Python list `object_cols`.\n",
    "- You should only one-hot encode the categorical columns in `low_cardinality_cols`.  All other categorical columns should be dropped from the dataset. "
   ]
  },
  {
   "cell_type": "code",
   "execution_count": 27,
   "id": "45dbd1fc",
   "metadata": {
    "execution": {
     "iopub.execute_input": "2025-03-06T02:02:32.849981Z",
     "iopub.status.busy": "2025-03-06T02:02:32.849703Z",
     "iopub.status.idle": "2025-03-06T02:02:32.886640Z",
     "shell.execute_reply": "2025-03-06T02:02:32.885449Z"
    },
    "papermill": {
     "duration": 0.047149,
     "end_time": "2025-03-06T02:02:32.888094",
     "exception": false,
     "start_time": "2025-03-06T02:02:32.840945",
     "status": "completed"
    },
    "tags": []
   },
   "outputs": [
    {
     "data": {
      "application/javascript": [
       "parent.postMessage({\"jupyterEvent\": \"custom.exercise_interaction\", \"data\": {\"outcomeType\": 1, \"valueTowardsCompletion\": 0.5, \"interactionType\": 1, \"questionType\": 2, \"questionId\": \"4_OneHot\", \"learnToolsVersion\": \"0.3.4\", \"failureMessage\": \"\", \"exceptionClass\": \"\", \"trace\": \"\"}}, \"*\")"
      ],
      "text/plain": [
       "<IPython.core.display.Javascript object>"
      ]
     },
     "metadata": {},
     "output_type": "display_data"
    },
    {
     "data": {
      "text/markdown": [
       "<span style=\"color:#33cc33\">Correct</span>"
      ],
      "text/plain": [
       "Correct"
      ]
     },
     "metadata": {},
     "output_type": "display_data"
    }
   ],
   "source": [
    "from sklearn.preprocessing import OneHotEncoder\n",
    "\n",
    "# Use as many lines of code as you need!\n",
    "drop_X_train = X_train.drop(high_cardinality_cols, axis=1)\n",
    "drop_X_valid = X_valid.drop(high_cardinality_cols, axis=1)\n",
    "\n",
    "OHencoder = OneHotEncoder(sparse_output = False, handle_unknown='ignore')\n",
    "\n",
    "#OH_feature_names = OHencoder.get_feature_names_out(low_cardinality_cols)\n",
    "\n",
    "OH_X_train_array = pd.DataFrame(OHencoder.fit_transform(drop_X_train[low_cardinality_cols]), \\\n",
    "                                columns =  OHencoder.get_feature_names_out(low_cardinality_cols)) # Your code here\n",
    "OH_X_valid_array = pd.DataFrame(OHencoder.transform(drop_X_valid[low_cardinality_cols]), \\\n",
    "                                columns =  OHencoder.get_feature_names_out(low_cardinality_cols)) # Your code here\n",
    "\n",
    "OH_feature_names = OHencoder.get_feature_names_out(low_cardinality_cols)\n",
    "\n",
    "OH_X_train_array.index = drop_X_train.index\n",
    "OH_X_valid_array.index = drop_X_valid.index\n",
    "\n",
    "num_X_train = drop_X_train.drop(low_cardinality_cols, axis=1)\n",
    "num_X_valid = drop_X_valid.drop(low_cardinality_cols, axis=1)\n",
    "\n",
    "OH_X_train = pd.concat([num_X_train, OH_X_train_array], axis=1)\n",
    "OH_X_valid = pd.concat([num_X_valid, OH_X_valid_array], axis=1)\n",
    "\n",
    "# Check your answer\n",
    "step_4.check()"
   ]
  },
  {
   "cell_type": "code",
   "execution_count": 28,
   "id": "d4d0000e",
   "metadata": {
    "execution": {
     "iopub.execute_input": "2025-03-06T02:02:32.905590Z",
     "iopub.status.busy": "2025-03-06T02:02:32.905272Z",
     "iopub.status.idle": "2025-03-06T02:02:32.924996Z",
     "shell.execute_reply": "2025-03-06T02:02:32.924097Z"
    },
    "papermill": {
     "duration": 0.030159,
     "end_time": "2025-03-06T02:02:32.926675",
     "exception": false,
     "start_time": "2025-03-06T02:02:32.896516",
     "status": "completed"
    },
    "tags": []
   },
   "outputs": [
    {
     "data": {
      "text/html": [
       "<div>\n",
       "<style scoped>\n",
       "    .dataframe tbody tr th:only-of-type {\n",
       "        vertical-align: middle;\n",
       "    }\n",
       "\n",
       "    .dataframe tbody tr th {\n",
       "        vertical-align: top;\n",
       "    }\n",
       "\n",
       "    .dataframe thead th {\n",
       "        text-align: right;\n",
       "    }\n",
       "</style>\n",
       "<table border=\"1\" class=\"dataframe\">\n",
       "  <thead>\n",
       "    <tr style=\"text-align: right;\">\n",
       "      <th></th>\n",
       "      <th>MSSubClass</th>\n",
       "      <th>LotArea</th>\n",
       "      <th>OverallQual</th>\n",
       "      <th>OverallCond</th>\n",
       "      <th>YearBuilt</th>\n",
       "      <th>YearRemodAdd</th>\n",
       "      <th>BsmtFinSF1</th>\n",
       "      <th>BsmtFinSF2</th>\n",
       "      <th>BsmtUnfSF</th>\n",
       "      <th>TotalBsmtSF</th>\n",
       "      <th>...</th>\n",
       "      <th>SaleType_ConLw</th>\n",
       "      <th>SaleType_New</th>\n",
       "      <th>SaleType_Oth</th>\n",
       "      <th>SaleType_WD</th>\n",
       "      <th>SaleCondition_Abnorml</th>\n",
       "      <th>SaleCondition_AdjLand</th>\n",
       "      <th>SaleCondition_Alloca</th>\n",
       "      <th>SaleCondition_Family</th>\n",
       "      <th>SaleCondition_Normal</th>\n",
       "      <th>SaleCondition_Partial</th>\n",
       "    </tr>\n",
       "    <tr>\n",
       "      <th>Id</th>\n",
       "      <th></th>\n",
       "      <th></th>\n",
       "      <th></th>\n",
       "      <th></th>\n",
       "      <th></th>\n",
       "      <th></th>\n",
       "      <th></th>\n",
       "      <th></th>\n",
       "      <th></th>\n",
       "      <th></th>\n",
       "      <th></th>\n",
       "      <th></th>\n",
       "      <th></th>\n",
       "      <th></th>\n",
       "      <th></th>\n",
       "      <th></th>\n",
       "      <th></th>\n",
       "      <th></th>\n",
       "      <th></th>\n",
       "      <th></th>\n",
       "      <th></th>\n",
       "    </tr>\n",
       "  </thead>\n",
       "  <tbody>\n",
       "    <tr>\n",
       "      <th>619</th>\n",
       "      <td>20</td>\n",
       "      <td>11694</td>\n",
       "      <td>9</td>\n",
       "      <td>5</td>\n",
       "      <td>2007</td>\n",
       "      <td>2007</td>\n",
       "      <td>48</td>\n",
       "      <td>0</td>\n",
       "      <td>1774</td>\n",
       "      <td>1822</td>\n",
       "      <td>...</td>\n",
       "      <td>0.0</td>\n",
       "      <td>1.0</td>\n",
       "      <td>0.0</td>\n",
       "      <td>0.0</td>\n",
       "      <td>0.0</td>\n",
       "      <td>0.0</td>\n",
       "      <td>0.0</td>\n",
       "      <td>0.0</td>\n",
       "      <td>0.0</td>\n",
       "      <td>1.0</td>\n",
       "    </tr>\n",
       "    <tr>\n",
       "      <th>871</th>\n",
       "      <td>20</td>\n",
       "      <td>6600</td>\n",
       "      <td>5</td>\n",
       "      <td>5</td>\n",
       "      <td>1962</td>\n",
       "      <td>1962</td>\n",
       "      <td>0</td>\n",
       "      <td>0</td>\n",
       "      <td>894</td>\n",
       "      <td>894</td>\n",
       "      <td>...</td>\n",
       "      <td>0.0</td>\n",
       "      <td>0.0</td>\n",
       "      <td>0.0</td>\n",
       "      <td>1.0</td>\n",
       "      <td>0.0</td>\n",
       "      <td>0.0</td>\n",
       "      <td>0.0</td>\n",
       "      <td>0.0</td>\n",
       "      <td>1.0</td>\n",
       "      <td>0.0</td>\n",
       "    </tr>\n",
       "    <tr>\n",
       "      <th>93</th>\n",
       "      <td>30</td>\n",
       "      <td>13360</td>\n",
       "      <td>5</td>\n",
       "      <td>7</td>\n",
       "      <td>1921</td>\n",
       "      <td>2006</td>\n",
       "      <td>713</td>\n",
       "      <td>0</td>\n",
       "      <td>163</td>\n",
       "      <td>876</td>\n",
       "      <td>...</td>\n",
       "      <td>0.0</td>\n",
       "      <td>0.0</td>\n",
       "      <td>0.0</td>\n",
       "      <td>1.0</td>\n",
       "      <td>0.0</td>\n",
       "      <td>0.0</td>\n",
       "      <td>0.0</td>\n",
       "      <td>0.0</td>\n",
       "      <td>1.0</td>\n",
       "      <td>0.0</td>\n",
       "    </tr>\n",
       "    <tr>\n",
       "      <th>818</th>\n",
       "      <td>20</td>\n",
       "      <td>13265</td>\n",
       "      <td>8</td>\n",
       "      <td>5</td>\n",
       "      <td>2002</td>\n",
       "      <td>2002</td>\n",
       "      <td>1218</td>\n",
       "      <td>0</td>\n",
       "      <td>350</td>\n",
       "      <td>1568</td>\n",
       "      <td>...</td>\n",
       "      <td>0.0</td>\n",
       "      <td>0.0</td>\n",
       "      <td>0.0</td>\n",
       "      <td>1.0</td>\n",
       "      <td>0.0</td>\n",
       "      <td>0.0</td>\n",
       "      <td>0.0</td>\n",
       "      <td>0.0</td>\n",
       "      <td>1.0</td>\n",
       "      <td>0.0</td>\n",
       "    </tr>\n",
       "    <tr>\n",
       "      <th>303</th>\n",
       "      <td>20</td>\n",
       "      <td>13704</td>\n",
       "      <td>7</td>\n",
       "      <td>5</td>\n",
       "      <td>2001</td>\n",
       "      <td>2002</td>\n",
       "      <td>0</td>\n",
       "      <td>0</td>\n",
       "      <td>1541</td>\n",
       "      <td>1541</td>\n",
       "      <td>...</td>\n",
       "      <td>0.0</td>\n",
       "      <td>0.0</td>\n",
       "      <td>0.0</td>\n",
       "      <td>1.0</td>\n",
       "      <td>0.0</td>\n",
       "      <td>0.0</td>\n",
       "      <td>0.0</td>\n",
       "      <td>0.0</td>\n",
       "      <td>1.0</td>\n",
       "      <td>0.0</td>\n",
       "    </tr>\n",
       "    <tr>\n",
       "      <th>...</th>\n",
       "      <td>...</td>\n",
       "      <td>...</td>\n",
       "      <td>...</td>\n",
       "      <td>...</td>\n",
       "      <td>...</td>\n",
       "      <td>...</td>\n",
       "      <td>...</td>\n",
       "      <td>...</td>\n",
       "      <td>...</td>\n",
       "      <td>...</td>\n",
       "      <td>...</td>\n",
       "      <td>...</td>\n",
       "      <td>...</td>\n",
       "      <td>...</td>\n",
       "      <td>...</td>\n",
       "      <td>...</td>\n",
       "      <td>...</td>\n",
       "      <td>...</td>\n",
       "      <td>...</td>\n",
       "      <td>...</td>\n",
       "      <td>...</td>\n",
       "    </tr>\n",
       "    <tr>\n",
       "      <th>764</th>\n",
       "      <td>60</td>\n",
       "      <td>9430</td>\n",
       "      <td>8</td>\n",
       "      <td>5</td>\n",
       "      <td>1999</td>\n",
       "      <td>1999</td>\n",
       "      <td>1163</td>\n",
       "      <td>0</td>\n",
       "      <td>89</td>\n",
       "      <td>1252</td>\n",
       "      <td>...</td>\n",
       "      <td>0.0</td>\n",
       "      <td>0.0</td>\n",
       "      <td>0.0</td>\n",
       "      <td>1.0</td>\n",
       "      <td>0.0</td>\n",
       "      <td>0.0</td>\n",
       "      <td>0.0</td>\n",
       "      <td>0.0</td>\n",
       "      <td>1.0</td>\n",
       "      <td>0.0</td>\n",
       "    </tr>\n",
       "    <tr>\n",
       "      <th>836</th>\n",
       "      <td>20</td>\n",
       "      <td>9600</td>\n",
       "      <td>4</td>\n",
       "      <td>7</td>\n",
       "      <td>1950</td>\n",
       "      <td>1995</td>\n",
       "      <td>442</td>\n",
       "      <td>0</td>\n",
       "      <td>625</td>\n",
       "      <td>1067</td>\n",
       "      <td>...</td>\n",
       "      <td>0.0</td>\n",
       "      <td>0.0</td>\n",
       "      <td>0.0</td>\n",
       "      <td>1.0</td>\n",
       "      <td>0.0</td>\n",
       "      <td>0.0</td>\n",
       "      <td>0.0</td>\n",
       "      <td>0.0</td>\n",
       "      <td>1.0</td>\n",
       "      <td>0.0</td>\n",
       "    </tr>\n",
       "    <tr>\n",
       "      <th>1217</th>\n",
       "      <td>90</td>\n",
       "      <td>8930</td>\n",
       "      <td>6</td>\n",
       "      <td>5</td>\n",
       "      <td>1978</td>\n",
       "      <td>1978</td>\n",
       "      <td>0</td>\n",
       "      <td>0</td>\n",
       "      <td>0</td>\n",
       "      <td>0</td>\n",
       "      <td>...</td>\n",
       "      <td>0.0</td>\n",
       "      <td>0.0</td>\n",
       "      <td>0.0</td>\n",
       "      <td>1.0</td>\n",
       "      <td>0.0</td>\n",
       "      <td>0.0</td>\n",
       "      <td>0.0</td>\n",
       "      <td>0.0</td>\n",
       "      <td>1.0</td>\n",
       "      <td>0.0</td>\n",
       "    </tr>\n",
       "    <tr>\n",
       "      <th>560</th>\n",
       "      <td>120</td>\n",
       "      <td>3196</td>\n",
       "      <td>7</td>\n",
       "      <td>5</td>\n",
       "      <td>2003</td>\n",
       "      <td>2004</td>\n",
       "      <td>0</td>\n",
       "      <td>0</td>\n",
       "      <td>1374</td>\n",
       "      <td>1374</td>\n",
       "      <td>...</td>\n",
       "      <td>0.0</td>\n",
       "      <td>0.0</td>\n",
       "      <td>0.0</td>\n",
       "      <td>1.0</td>\n",
       "      <td>0.0</td>\n",
       "      <td>0.0</td>\n",
       "      <td>0.0</td>\n",
       "      <td>0.0</td>\n",
       "      <td>1.0</td>\n",
       "      <td>0.0</td>\n",
       "    </tr>\n",
       "    <tr>\n",
       "      <th>685</th>\n",
       "      <td>60</td>\n",
       "      <td>16770</td>\n",
       "      <td>7</td>\n",
       "      <td>5</td>\n",
       "      <td>1998</td>\n",
       "      <td>1998</td>\n",
       "      <td>0</td>\n",
       "      <td>0</td>\n",
       "      <td>1195</td>\n",
       "      <td>1195</td>\n",
       "      <td>...</td>\n",
       "      <td>0.0</td>\n",
       "      <td>0.0</td>\n",
       "      <td>0.0</td>\n",
       "      <td>1.0</td>\n",
       "      <td>0.0</td>\n",
       "      <td>0.0</td>\n",
       "      <td>0.0</td>\n",
       "      <td>0.0</td>\n",
       "      <td>1.0</td>\n",
       "      <td>0.0</td>\n",
       "    </tr>\n",
       "  </tbody>\n",
       "</table>\n",
       "<p>1168 rows × 155 columns</p>\n",
       "</div>"
      ],
      "text/plain": [
       "      MSSubClass  LotArea  OverallQual  OverallCond  YearBuilt  YearRemodAdd  \\\n",
       "Id                                                                             \n",
       "619           20    11694            9            5       2007          2007   \n",
       "871           20     6600            5            5       1962          1962   \n",
       "93            30    13360            5            7       1921          2006   \n",
       "818           20    13265            8            5       2002          2002   \n",
       "303           20    13704            7            5       2001          2002   \n",
       "...          ...      ...          ...          ...        ...           ...   \n",
       "764           60     9430            8            5       1999          1999   \n",
       "836           20     9600            4            7       1950          1995   \n",
       "1217          90     8930            6            5       1978          1978   \n",
       "560          120     3196            7            5       2003          2004   \n",
       "685           60    16770            7            5       1998          1998   \n",
       "\n",
       "      BsmtFinSF1  BsmtFinSF2  BsmtUnfSF  TotalBsmtSF  ...  SaleType_ConLw  \\\n",
       "Id                                                    ...                   \n",
       "619           48           0       1774         1822  ...             0.0   \n",
       "871            0           0        894          894  ...             0.0   \n",
       "93           713           0        163          876  ...             0.0   \n",
       "818         1218           0        350         1568  ...             0.0   \n",
       "303            0           0       1541         1541  ...             0.0   \n",
       "...          ...         ...        ...          ...  ...             ...   \n",
       "764         1163           0         89         1252  ...             0.0   \n",
       "836          442           0        625         1067  ...             0.0   \n",
       "1217           0           0          0            0  ...             0.0   \n",
       "560            0           0       1374         1374  ...             0.0   \n",
       "685            0           0       1195         1195  ...             0.0   \n",
       "\n",
       "      SaleType_New  SaleType_Oth  SaleType_WD  SaleCondition_Abnorml  \\\n",
       "Id                                                                     \n",
       "619            1.0           0.0          0.0                    0.0   \n",
       "871            0.0           0.0          1.0                    0.0   \n",
       "93             0.0           0.0          1.0                    0.0   \n",
       "818            0.0           0.0          1.0                    0.0   \n",
       "303            0.0           0.0          1.0                    0.0   \n",
       "...            ...           ...          ...                    ...   \n",
       "764            0.0           0.0          1.0                    0.0   \n",
       "836            0.0           0.0          1.0                    0.0   \n",
       "1217           0.0           0.0          1.0                    0.0   \n",
       "560            0.0           0.0          1.0                    0.0   \n",
       "685            0.0           0.0          1.0                    0.0   \n",
       "\n",
       "      SaleCondition_AdjLand  SaleCondition_Alloca  SaleCondition_Family  \\\n",
       "Id                                                                        \n",
       "619                     0.0                   0.0                   0.0   \n",
       "871                     0.0                   0.0                   0.0   \n",
       "93                      0.0                   0.0                   0.0   \n",
       "818                     0.0                   0.0                   0.0   \n",
       "303                     0.0                   0.0                   0.0   \n",
       "...                     ...                   ...                   ...   \n",
       "764                     0.0                   0.0                   0.0   \n",
       "836                     0.0                   0.0                   0.0   \n",
       "1217                    0.0                   0.0                   0.0   \n",
       "560                     0.0                   0.0                   0.0   \n",
       "685                     0.0                   0.0                   0.0   \n",
       "\n",
       "      SaleCondition_Normal  SaleCondition_Partial  \n",
       "Id                                                 \n",
       "619                    0.0                    1.0  \n",
       "871                    1.0                    0.0  \n",
       "93                     1.0                    0.0  \n",
       "818                    1.0                    0.0  \n",
       "303                    1.0                    0.0  \n",
       "...                    ...                    ...  \n",
       "764                    1.0                    0.0  \n",
       "836                    1.0                    0.0  \n",
       "1217                   1.0                    0.0  \n",
       "560                    1.0                    0.0  \n",
       "685                    1.0                    0.0  \n",
       "\n",
       "[1168 rows x 155 columns]"
      ]
     },
     "execution_count": 28,
     "metadata": {},
     "output_type": "execute_result"
    }
   ],
   "source": [
    "OH_X_train"
   ]
  },
  {
   "cell_type": "code",
   "execution_count": 29,
   "id": "b5ec7a35",
   "metadata": {
    "execution": {
     "iopub.execute_input": "2025-03-06T02:02:32.945477Z",
     "iopub.status.busy": "2025-03-06T02:02:32.945134Z",
     "iopub.status.idle": "2025-03-06T02:02:32.949419Z",
     "shell.execute_reply": "2025-03-06T02:02:32.947987Z"
    },
    "papermill": {
     "duration": 0.015148,
     "end_time": "2025-03-06T02:02:32.950926",
     "exception": false,
     "start_time": "2025-03-06T02:02:32.935778",
     "status": "completed"
    },
    "tags": []
   },
   "outputs": [],
   "source": [
    "# Lines below will give you a hint or solution code\n",
    "#step_4.hint()\n",
    "#step_4.solution()"
   ]
  },
  {
   "cell_type": "markdown",
   "id": "bc2c41c4",
   "metadata": {
    "papermill": {
     "duration": 0.008194,
     "end_time": "2025-03-06T02:02:32.968134",
     "exception": false,
     "start_time": "2025-03-06T02:02:32.959940",
     "status": "completed"
    },
    "tags": []
   },
   "source": [
    "Run the next code cell to get the MAE for this approach."
   ]
  },
  {
   "cell_type": "code",
   "execution_count": 30,
   "id": "bce896f6",
   "metadata": {
    "execution": {
     "iopub.execute_input": "2025-03-06T02:02:32.986584Z",
     "iopub.status.busy": "2025-03-06T02:02:32.986252Z",
     "iopub.status.idle": "2025-03-06T02:02:34.301090Z",
     "shell.execute_reply": "2025-03-06T02:02:34.299815Z"
    },
    "papermill": {
     "duration": 1.326291,
     "end_time": "2025-03-06T02:02:34.302992",
     "exception": false,
     "start_time": "2025-03-06T02:02:32.976701",
     "status": "completed"
    },
    "tags": []
   },
   "outputs": [
    {
     "name": "stdout",
     "output_type": "stream",
     "text": [
      "MAE from Approach 3 (One-Hot Encoding):\n",
      "17525.345719178084\n"
     ]
    }
   ],
   "source": [
    "print(\"MAE from Approach 3 (One-Hot Encoding):\") \n",
    "print(score_dataset(OH_X_train, OH_X_valid, y_train, y_valid))"
   ]
  },
  {
   "cell_type": "markdown",
   "id": "b3dc85e1",
   "metadata": {
    "papermill": {
     "duration": 0.008389,
     "end_time": "2025-03-06T02:02:34.320440",
     "exception": false,
     "start_time": "2025-03-06T02:02:34.312051",
     "status": "completed"
    },
    "tags": []
   },
   "source": [
    "# Generate test predictions and submit your results\n",
    "\n",
    "After you complete Step 4, if you'd like to use what you've learned to submit your results to the leaderboard, you'll need to preprocess the test data before generating predictions.\n",
    "\n",
    "**This step is completely optional, and you do not need to submit results to the leaderboard to successfully complete the exercise.**\n",
    "\n",
    "Check out the previous exercise if you need help with remembering how to [join the competition](https://www.kaggle.com/c/home-data-for-ml-course) or save your results to CSV.  Once you have generated a file with your results, follow the instructions below:\n",
    "1. Begin by clicking on the **Save Version** button in the top right corner of the window.  This will generate a pop-up window.  \n",
    "2. Ensure that the **Save and Run All** option is selected, and then click on the **Save** button.\n",
    "3. This generates a window in the bottom left corner of the notebook.  After it has finished running, click on the number to the right of the **Save Version** button.  This pulls up a list of versions on the right of the screen.  Click on the ellipsis **(...)** to the right of the most recent version, and select **Open in Viewer**.  This brings you into view mode of the same page. You will need to scroll down to get back to these instructions.\n",
    "4. Click on the **Data** tab near the top of the screen.  Then, click on the file you would like to submit, and click on the **Submit** button to submit your results to the leaderboard.\n",
    "\n",
    "You have now successfully submitted to the competition!\n",
    "\n",
    "If you want to keep working to improve your performance, select the **Edit** button in the top right of the screen. Then you can change your code and repeat the process. There's a lot of room to improve, and you will climb up the leaderboard as you work.\n"
   ]
  },
  {
   "cell_type": "code",
   "execution_count": 31,
   "id": "17f54797",
   "metadata": {
    "execution": {
     "iopub.execute_input": "2025-03-06T02:02:34.338138Z",
     "iopub.status.busy": "2025-03-06T02:02:34.337853Z",
     "iopub.status.idle": "2025-03-06T02:02:34.341977Z",
     "shell.execute_reply": "2025-03-06T02:02:34.340796Z"
    },
    "papermill": {
     "duration": 0.015152,
     "end_time": "2025-03-06T02:02:34.343743",
     "exception": false,
     "start_time": "2025-03-06T02:02:34.328591",
     "status": "completed"
    },
    "tags": []
   },
   "outputs": [],
   "source": [
    "# (Optional) Your code here"
   ]
  },
  {
   "cell_type": "markdown",
   "id": "938402f5",
   "metadata": {
    "papermill": {
     "duration": 0.008449,
     "end_time": "2025-03-06T02:02:34.361638",
     "exception": false,
     "start_time": "2025-03-06T02:02:34.353189",
     "status": "completed"
    },
    "tags": []
   },
   "source": [
    "# Keep going\n",
    "\n",
    "With missing value handling and categorical encoding, your modeling process is getting complex. This complexity gets worse when you want to save your model to use in the future. The key to managing this complexity is something called **pipelines**. \n",
    "\n",
    "**[Learn to use pipelines](https://www.kaggle.com/alexisbcook/pipelines)** to preprocess datasets with categorical variables, missing values and any other messiness your data throws at you."
   ]
  },
  {
   "cell_type": "markdown",
   "id": "1c11f0db",
   "metadata": {
    "papermill": {
     "duration": 0.008028,
     "end_time": "2025-03-06T02:02:34.378058",
     "exception": false,
     "start_time": "2025-03-06T02:02:34.370030",
     "status": "completed"
    },
    "tags": []
   },
   "source": [
    "---\n",
    "\n",
    "\n",
    "\n",
    "\n",
    "*Have questions or comments? Visit the [course discussion forum](https://www.kaggle.com/learn/intermediate-machine-learning/discussion) to chat with other learners.*"
   ]
  }
 ],
 "metadata": {
  "kaggle": {
   "accelerator": "none",
   "dataSources": [
    {
     "databundleVersionId": 111096,
     "sourceId": 10211,
     "sourceType": "competition"
    }
   ],
   "isGpuEnabled": false,
   "isInternetEnabled": false,
   "language": "python",
   "sourceType": "notebook"
  },
  "kernelspec": {
   "display_name": "Python 3",
   "language": "python",
   "name": "python3"
  },
  "language_info": {
   "codemirror_mode": {
    "name": "ipython",
    "version": 3
   },
   "file_extension": ".py",
   "mimetype": "text/x-python",
   "name": "python",
   "nbconvert_exporter": "python",
   "pygments_lexer": "ipython3",
   "version": "3.10.12"
  },
  "papermill": {
   "default_parameters": {},
   "duration": 11.329899,
   "end_time": "2025-03-06T02:02:35.006582",
   "environment_variables": {},
   "exception": null,
   "input_path": "__notebook__.ipynb",
   "output_path": "__notebook__.ipynb",
   "parameters": {},
   "start_time": "2025-03-06T02:02:23.676683",
   "version": "2.6.0"
  }
 },
 "nbformat": 4,
 "nbformat_minor": 5
}
