{
 "cells": [
  {
   "cell_type": "markdown",
   "id": "71bc17f0",
   "metadata": {
    "papermill": {
     "duration": 0.006621,
     "end_time": "2025-03-06T02:13:39.682054",
     "exception": false,
     "start_time": "2025-03-06T02:13:39.675433",
     "status": "completed"
    },
    "tags": []
   },
   "source": [
    "**This notebook is an exercise in the [Intermediate Machine Learning](https://www.kaggle.com/learn/intermediate-machine-learning) course.  You can reference the tutorial at [this link](https://www.kaggle.com/alexisbcook/pipelines).**\n",
    "\n",
    "---\n"
   ]
  },
  {
   "cell_type": "markdown",
   "id": "eb263499",
   "metadata": {
    "papermill": {
     "duration": 0.005686,
     "end_time": "2025-03-06T02:13:39.693805",
     "exception": false,
     "start_time": "2025-03-06T02:13:39.688119",
     "status": "completed"
    },
    "tags": []
   },
   "source": [
    "In this exercise, you will use **pipelines** to improve the efficiency of your machine learning code.\n",
    "\n",
    "# Setup\n",
    "\n",
    "The questions below will give you feedback on your work. Run the following cell to set up the feedback system."
   ]
  },
  {
   "cell_type": "code",
   "execution_count": 1,
   "id": "91f6d29c",
   "metadata": {
    "execution": {
     "iopub.execute_input": "2025-03-06T02:13:39.707008Z",
     "iopub.status.busy": "2025-03-06T02:13:39.706508Z",
     "iopub.status.idle": "2025-03-06T02:13:42.252613Z",
     "shell.execute_reply": "2025-03-06T02:13:42.251263Z"
    },
    "papermill": {
     "duration": 2.554638,
     "end_time": "2025-03-06T02:13:42.254266",
     "exception": false,
     "start_time": "2025-03-06T02:13:39.699628",
     "status": "completed"
    },
    "tags": []
   },
   "outputs": [
    {
     "name": "stdout",
     "output_type": "stream",
     "text": [
      "Setup Complete\n"
     ]
    }
   ],
   "source": [
    "# Set up code checking\n",
    "import os\n",
    "if not os.path.exists(\"../input/train.csv\"):\n",
    "    os.symlink(\"../input/home-data-for-ml-course/train.csv\", \"../input/train.csv\")  \n",
    "    os.symlink(\"../input/home-data-for-ml-course/test.csv\", \"../input/test.csv\") \n",
    "from learntools.core import binder\n",
    "binder.bind(globals())\n",
    "from learntools.ml_intermediate.ex4 import *\n",
    "print(\"Setup Complete\")"
   ]
  },
  {
   "cell_type": "markdown",
   "id": "13bce153",
   "metadata": {
    "papermill": {
     "duration": 0.005658,
     "end_time": "2025-03-06T02:13:42.266091",
     "exception": false,
     "start_time": "2025-03-06T02:13:42.260433",
     "status": "completed"
    },
    "tags": []
   },
   "source": [
    "You will work with data from the [Housing Prices Competition for Kaggle Learn Users](https://www.kaggle.com/c/home-data-for-ml-course). \n",
    "\n",
    "![Ames Housing dataset image](https://storage.googleapis.com/kaggle-media/learn/images/lTJVG4e.png)\n",
    "\n",
    "Run the next code cell without changes to load the training and validation sets in `X_train`, `X_valid`, `y_train`, and `y_valid`.  The test set is loaded in `X_test`."
   ]
  },
  {
   "cell_type": "code",
   "execution_count": 2,
   "id": "755f5633",
   "metadata": {
    "execution": {
     "iopub.execute_input": "2025-03-06T02:13:42.279232Z",
     "iopub.status.busy": "2025-03-06T02:13:42.278729Z",
     "iopub.status.idle": "2025-03-06T02:13:42.520687Z",
     "shell.execute_reply": "2025-03-06T02:13:42.519515Z"
    },
    "papermill": {
     "duration": 0.25085,
     "end_time": "2025-03-06T02:13:42.522719",
     "exception": false,
     "start_time": "2025-03-06T02:13:42.271869",
     "status": "completed"
    },
    "tags": []
   },
   "outputs": [],
   "source": [
    "import pandas as pd\n",
    "from sklearn.model_selection import train_test_split\n",
    "\n",
    "# Read the data\n",
    "X_full = pd.read_csv('../input/train.csv', index_col='Id')\n",
    "X_test_full = pd.read_csv('../input/test.csv', index_col='Id')\n",
    "\n",
    "# Remove rows with missing target, separate target from predictors\n",
    "X_full.dropna(axis=0, subset=['SalePrice'], inplace=True)\n",
    "y = X_full.SalePrice\n",
    "X_full.drop(['SalePrice'], axis=1, inplace=True)\n",
    "\n",
    "# Break off validation set from training data\n",
    "X_train_full, X_valid_full, y_train, y_valid = train_test_split(X_full, y, \n",
    "                                                                train_size=0.8, test_size=0.2,\n",
    "                                                                random_state=0)\n",
    "\n",
    "# \"Cardinality\" means the number of unique values in a column\n",
    "# Select categorical columns with relatively low cardinality (convenient but arbitrary)\n",
    "categorical_cols = [cname for cname in X_train_full.columns if\n",
    "                    X_train_full[cname].nunique() < 10 and \n",
    "                    X_train_full[cname].dtype == \"object\"]\n",
    "\n",
    "# Select numerical columns\n",
    "numerical_cols = [cname for cname in X_train_full.columns if \n",
    "                X_train_full[cname].dtype in ['int64', 'float64']]\n",
    "\n",
    "# Keep selected columns only\n",
    "my_cols = categorical_cols + numerical_cols\n",
    "X_train = X_train_full[my_cols].copy()\n",
    "X_valid = X_valid_full[my_cols].copy()\n",
    "X_test = X_test_full[my_cols].copy()"
   ]
  },
  {
   "cell_type": "code",
   "execution_count": 3,
   "id": "81a34b4c",
   "metadata": {
    "execution": {
     "iopub.execute_input": "2025-03-06T02:13:42.536002Z",
     "iopub.status.busy": "2025-03-06T02:13:42.535594Z",
     "iopub.status.idle": "2025-03-06T02:13:42.564862Z",
     "shell.execute_reply": "2025-03-06T02:13:42.563798Z"
    },
    "papermill": {
     "duration": 0.037676,
     "end_time": "2025-03-06T02:13:42.566490",
     "exception": false,
     "start_time": "2025-03-06T02:13:42.528814",
     "status": "completed"
    },
    "tags": []
   },
   "outputs": [
    {
     "data": {
      "text/html": [
       "<div>\n",
       "<style scoped>\n",
       "    .dataframe tbody tr th:only-of-type {\n",
       "        vertical-align: middle;\n",
       "    }\n",
       "\n",
       "    .dataframe tbody tr th {\n",
       "        vertical-align: top;\n",
       "    }\n",
       "\n",
       "    .dataframe thead th {\n",
       "        text-align: right;\n",
       "    }\n",
       "</style>\n",
       "<table border=\"1\" class=\"dataframe\">\n",
       "  <thead>\n",
       "    <tr style=\"text-align: right;\">\n",
       "      <th></th>\n",
       "      <th>MSZoning</th>\n",
       "      <th>Street</th>\n",
       "      <th>Alley</th>\n",
       "      <th>LotShape</th>\n",
       "      <th>LandContour</th>\n",
       "      <th>Utilities</th>\n",
       "      <th>LotConfig</th>\n",
       "      <th>LandSlope</th>\n",
       "      <th>Condition1</th>\n",
       "      <th>Condition2</th>\n",
       "      <th>...</th>\n",
       "      <th>GarageArea</th>\n",
       "      <th>WoodDeckSF</th>\n",
       "      <th>OpenPorchSF</th>\n",
       "      <th>EnclosedPorch</th>\n",
       "      <th>3SsnPorch</th>\n",
       "      <th>ScreenPorch</th>\n",
       "      <th>PoolArea</th>\n",
       "      <th>MiscVal</th>\n",
       "      <th>MoSold</th>\n",
       "      <th>YrSold</th>\n",
       "    </tr>\n",
       "    <tr>\n",
       "      <th>Id</th>\n",
       "      <th></th>\n",
       "      <th></th>\n",
       "      <th></th>\n",
       "      <th></th>\n",
       "      <th></th>\n",
       "      <th></th>\n",
       "      <th></th>\n",
       "      <th></th>\n",
       "      <th></th>\n",
       "      <th></th>\n",
       "      <th></th>\n",
       "      <th></th>\n",
       "      <th></th>\n",
       "      <th></th>\n",
       "      <th></th>\n",
       "      <th></th>\n",
       "      <th></th>\n",
       "      <th></th>\n",
       "      <th></th>\n",
       "      <th></th>\n",
       "      <th></th>\n",
       "    </tr>\n",
       "  </thead>\n",
       "  <tbody>\n",
       "    <tr>\n",
       "      <th>619</th>\n",
       "      <td>RL</td>\n",
       "      <td>Pave</td>\n",
       "      <td>NaN</td>\n",
       "      <td>Reg</td>\n",
       "      <td>Lvl</td>\n",
       "      <td>AllPub</td>\n",
       "      <td>Inside</td>\n",
       "      <td>Gtl</td>\n",
       "      <td>Norm</td>\n",
       "      <td>Norm</td>\n",
       "      <td>...</td>\n",
       "      <td>774</td>\n",
       "      <td>0</td>\n",
       "      <td>108</td>\n",
       "      <td>0</td>\n",
       "      <td>0</td>\n",
       "      <td>260</td>\n",
       "      <td>0</td>\n",
       "      <td>0</td>\n",
       "      <td>7</td>\n",
       "      <td>2007</td>\n",
       "    </tr>\n",
       "    <tr>\n",
       "      <th>871</th>\n",
       "      <td>RL</td>\n",
       "      <td>Pave</td>\n",
       "      <td>NaN</td>\n",
       "      <td>Reg</td>\n",
       "      <td>Lvl</td>\n",
       "      <td>AllPub</td>\n",
       "      <td>Inside</td>\n",
       "      <td>Gtl</td>\n",
       "      <td>PosN</td>\n",
       "      <td>Norm</td>\n",
       "      <td>...</td>\n",
       "      <td>308</td>\n",
       "      <td>0</td>\n",
       "      <td>0</td>\n",
       "      <td>0</td>\n",
       "      <td>0</td>\n",
       "      <td>0</td>\n",
       "      <td>0</td>\n",
       "      <td>0</td>\n",
       "      <td>8</td>\n",
       "      <td>2009</td>\n",
       "    </tr>\n",
       "    <tr>\n",
       "      <th>93</th>\n",
       "      <td>RL</td>\n",
       "      <td>Pave</td>\n",
       "      <td>Grvl</td>\n",
       "      <td>IR1</td>\n",
       "      <td>HLS</td>\n",
       "      <td>AllPub</td>\n",
       "      <td>Inside</td>\n",
       "      <td>Gtl</td>\n",
       "      <td>Norm</td>\n",
       "      <td>Norm</td>\n",
       "      <td>...</td>\n",
       "      <td>432</td>\n",
       "      <td>0</td>\n",
       "      <td>0</td>\n",
       "      <td>44</td>\n",
       "      <td>0</td>\n",
       "      <td>0</td>\n",
       "      <td>0</td>\n",
       "      <td>0</td>\n",
       "      <td>8</td>\n",
       "      <td>2009</td>\n",
       "    </tr>\n",
       "    <tr>\n",
       "      <th>818</th>\n",
       "      <td>RL</td>\n",
       "      <td>Pave</td>\n",
       "      <td>NaN</td>\n",
       "      <td>IR1</td>\n",
       "      <td>Lvl</td>\n",
       "      <td>AllPub</td>\n",
       "      <td>CulDSac</td>\n",
       "      <td>Gtl</td>\n",
       "      <td>Norm</td>\n",
       "      <td>Norm</td>\n",
       "      <td>...</td>\n",
       "      <td>857</td>\n",
       "      <td>150</td>\n",
       "      <td>59</td>\n",
       "      <td>0</td>\n",
       "      <td>0</td>\n",
       "      <td>0</td>\n",
       "      <td>0</td>\n",
       "      <td>0</td>\n",
       "      <td>7</td>\n",
       "      <td>2008</td>\n",
       "    </tr>\n",
       "    <tr>\n",
       "      <th>303</th>\n",
       "      <td>RL</td>\n",
       "      <td>Pave</td>\n",
       "      <td>NaN</td>\n",
       "      <td>IR1</td>\n",
       "      <td>Lvl</td>\n",
       "      <td>AllPub</td>\n",
       "      <td>Corner</td>\n",
       "      <td>Gtl</td>\n",
       "      <td>Norm</td>\n",
       "      <td>Norm</td>\n",
       "      <td>...</td>\n",
       "      <td>843</td>\n",
       "      <td>468</td>\n",
       "      <td>81</td>\n",
       "      <td>0</td>\n",
       "      <td>0</td>\n",
       "      <td>0</td>\n",
       "      <td>0</td>\n",
       "      <td>0</td>\n",
       "      <td>1</td>\n",
       "      <td>2006</td>\n",
       "    </tr>\n",
       "  </tbody>\n",
       "</table>\n",
       "<p>5 rows × 76 columns</p>\n",
       "</div>"
      ],
      "text/plain": [
       "    MSZoning Street Alley LotShape LandContour Utilities LotConfig LandSlope  \\\n",
       "Id                                                                             \n",
       "619       RL   Pave   NaN      Reg         Lvl    AllPub    Inside       Gtl   \n",
       "871       RL   Pave   NaN      Reg         Lvl    AllPub    Inside       Gtl   \n",
       "93        RL   Pave  Grvl      IR1         HLS    AllPub    Inside       Gtl   \n",
       "818       RL   Pave   NaN      IR1         Lvl    AllPub   CulDSac       Gtl   \n",
       "303       RL   Pave   NaN      IR1         Lvl    AllPub    Corner       Gtl   \n",
       "\n",
       "    Condition1 Condition2  ... GarageArea WoodDeckSF OpenPorchSF  \\\n",
       "Id                         ...                                     \n",
       "619       Norm       Norm  ...        774          0         108   \n",
       "871       PosN       Norm  ...        308          0           0   \n",
       "93        Norm       Norm  ...        432          0           0   \n",
       "818       Norm       Norm  ...        857        150          59   \n",
       "303       Norm       Norm  ...        843        468          81   \n",
       "\n",
       "    EnclosedPorch 3SsnPorch ScreenPorch PoolArea MiscVal MoSold YrSold  \n",
       "Id                                                                      \n",
       "619             0         0         260        0       0      7   2007  \n",
       "871             0         0           0        0       0      8   2009  \n",
       "93             44         0           0        0       0      8   2009  \n",
       "818             0         0           0        0       0      7   2008  \n",
       "303             0         0           0        0       0      1   2006  \n",
       "\n",
       "[5 rows x 76 columns]"
      ]
     },
     "execution_count": 3,
     "metadata": {},
     "output_type": "execute_result"
    }
   ],
   "source": [
    "X_train.head()"
   ]
  },
  {
   "cell_type": "markdown",
   "id": "3a2a96ca",
   "metadata": {
    "papermill": {
     "duration": 0.00609,
     "end_time": "2025-03-06T02:13:42.579017",
     "exception": false,
     "start_time": "2025-03-06T02:13:42.572927",
     "status": "completed"
    },
    "tags": []
   },
   "source": [
    "The next code cell uses code from the tutorial to preprocess the data and train a model.  Run this code without changes."
   ]
  },
  {
   "cell_type": "code",
   "execution_count": 4,
   "id": "8beaa738",
   "metadata": {
    "execution": {
     "iopub.execute_input": "2025-03-06T02:13:42.593002Z",
     "iopub.status.busy": "2025-03-06T02:13:42.592667Z",
     "iopub.status.idle": "2025-03-06T02:13:45.594138Z",
     "shell.execute_reply": "2025-03-06T02:13:45.592709Z"
    },
    "papermill": {
     "duration": 3.010958,
     "end_time": "2025-03-06T02:13:45.596140",
     "exception": false,
     "start_time": "2025-03-06T02:13:42.585182",
     "status": "completed"
    },
    "tags": []
   },
   "outputs": [
    {
     "name": "stdout",
     "output_type": "stream",
     "text": [
      "MAE: 17614.81993150685\n"
     ]
    }
   ],
   "source": [
    "from sklearn.compose import ColumnTransformer\n",
    "from sklearn.pipeline import Pipeline\n",
    "from sklearn.impute import SimpleImputer\n",
    "from sklearn.preprocessing import OneHotEncoder, PolynomialFeatures, OrdinalEncoder\n",
    "from sklearn.ensemble import RandomForestRegressor\n",
    "from sklearn.metrics import mean_absolute_error\n",
    "\n",
    "# Preprocessing for numerical data\n",
    "numerical_transformer = SimpleImputer(strategy='constant')\n",
    "\n",
    "# Preprocessing for categorical data\n",
    "categorical_transformer = Pipeline(steps=[\n",
    "    ('imputer', SimpleImputer(strategy='most_frequent')),\n",
    "    ('onehot', OneHotEncoder(handle_unknown='ignore'))\n",
    "])\n",
    "\n",
    "# Bundle preprocessing for numerical and categorical data\n",
    "preprocessor = ColumnTransformer(\n",
    "    transformers=[\n",
    "        ('num', numerical_transformer, numerical_cols),\n",
    "        ('cat', categorical_transformer, categorical_cols)\n",
    "    ])\n",
    "\n",
    "# Define model\n",
    "model = RandomForestRegressor(n_estimators=100, random_state=0)\n",
    "\n",
    "# Bundle preprocessing and modeling code in a pipeline\n",
    "clf = Pipeline(steps=[('preprocessor', preprocessor),\n",
    "                      ('model', model)\n",
    "                     ])\n",
    "\n",
    "# Preprocessing of training data, fit model \n",
    "clf.fit(X_train, y_train)\n",
    "\n",
    "# Preprocessing of validation data, get predictions\n",
    "preds = clf.predict(X_valid)\n",
    "\n",
    "print('MAE:', mean_absolute_error(y_valid, preds))"
   ]
  },
  {
   "cell_type": "markdown",
   "id": "fd8cd778",
   "metadata": {
    "papermill": {
     "duration": 0.005946,
     "end_time": "2025-03-06T02:13:45.608622",
     "exception": false,
     "start_time": "2025-03-06T02:13:45.602676",
     "status": "completed"
    },
    "tags": []
   },
   "source": [
    "The code yields a value around 17862 for the mean absolute error (MAE).  In the next step, you will amend the code to do better.\n",
    "\n",
    "# Step 1: Improve the performance\n",
    "\n",
    "### Part A\n",
    "\n",
    "Now, it's your turn!  In the code cell below, define your own preprocessing steps and random forest model.  Fill in values for the following variables:\n",
    "- `numerical_transformer`\n",
    "- `categorical_transformer`\n",
    "- `model`\n",
    "\n",
    "To pass this part of the exercise, you need only define valid preprocessing steps and a random forest model."
   ]
  },
  {
   "cell_type": "code",
   "execution_count": 5,
   "id": "ed98f57f",
   "metadata": {
    "execution": {
     "iopub.execute_input": "2025-03-06T02:13:45.622511Z",
     "iopub.status.busy": "2025-03-06T02:13:45.622168Z",
     "iopub.status.idle": "2025-03-06T02:13:45.642873Z",
     "shell.execute_reply": "2025-03-06T02:13:45.641787Z"
    },
    "papermill": {
     "duration": 0.029828,
     "end_time": "2025-03-06T02:13:45.644809",
     "exception": false,
     "start_time": "2025-03-06T02:13:45.614981",
     "status": "completed"
    },
    "tags": []
   },
   "outputs": [
    {
     "data": {
      "text/html": [
       "<div>\n",
       "<style scoped>\n",
       "    .dataframe tbody tr th:only-of-type {\n",
       "        vertical-align: middle;\n",
       "    }\n",
       "\n",
       "    .dataframe tbody tr th {\n",
       "        vertical-align: top;\n",
       "    }\n",
       "\n",
       "    .dataframe thead th {\n",
       "        text-align: right;\n",
       "    }\n",
       "</style>\n",
       "<table border=\"1\" class=\"dataframe\">\n",
       "  <thead>\n",
       "    <tr style=\"text-align: right;\">\n",
       "      <th></th>\n",
       "      <th>MSZoning</th>\n",
       "      <th>Street</th>\n",
       "      <th>Alley</th>\n",
       "      <th>LotShape</th>\n",
       "      <th>LandContour</th>\n",
       "      <th>Utilities</th>\n",
       "      <th>LotConfig</th>\n",
       "      <th>LandSlope</th>\n",
       "      <th>Condition1</th>\n",
       "      <th>Condition2</th>\n",
       "      <th>...</th>\n",
       "      <th>GarageType</th>\n",
       "      <th>GarageFinish</th>\n",
       "      <th>GarageQual</th>\n",
       "      <th>GarageCond</th>\n",
       "      <th>PavedDrive</th>\n",
       "      <th>PoolQC</th>\n",
       "      <th>Fence</th>\n",
       "      <th>MiscFeature</th>\n",
       "      <th>SaleType</th>\n",
       "      <th>SaleCondition</th>\n",
       "    </tr>\n",
       "    <tr>\n",
       "      <th>Id</th>\n",
       "      <th></th>\n",
       "      <th></th>\n",
       "      <th></th>\n",
       "      <th></th>\n",
       "      <th></th>\n",
       "      <th></th>\n",
       "      <th></th>\n",
       "      <th></th>\n",
       "      <th></th>\n",
       "      <th></th>\n",
       "      <th></th>\n",
       "      <th></th>\n",
       "      <th></th>\n",
       "      <th></th>\n",
       "      <th></th>\n",
       "      <th></th>\n",
       "      <th></th>\n",
       "      <th></th>\n",
       "      <th></th>\n",
       "      <th></th>\n",
       "      <th></th>\n",
       "    </tr>\n",
       "  </thead>\n",
       "  <tbody>\n",
       "    <tr>\n",
       "      <th>619</th>\n",
       "      <td>RL</td>\n",
       "      <td>Pave</td>\n",
       "      <td>NaN</td>\n",
       "      <td>Reg</td>\n",
       "      <td>Lvl</td>\n",
       "      <td>AllPub</td>\n",
       "      <td>Inside</td>\n",
       "      <td>Gtl</td>\n",
       "      <td>Norm</td>\n",
       "      <td>Norm</td>\n",
       "      <td>...</td>\n",
       "      <td>Attchd</td>\n",
       "      <td>Unf</td>\n",
       "      <td>TA</td>\n",
       "      <td>TA</td>\n",
       "      <td>Y</td>\n",
       "      <td>NaN</td>\n",
       "      <td>NaN</td>\n",
       "      <td>NaN</td>\n",
       "      <td>New</td>\n",
       "      <td>Partial</td>\n",
       "    </tr>\n",
       "    <tr>\n",
       "      <th>871</th>\n",
       "      <td>RL</td>\n",
       "      <td>Pave</td>\n",
       "      <td>NaN</td>\n",
       "      <td>Reg</td>\n",
       "      <td>Lvl</td>\n",
       "      <td>AllPub</td>\n",
       "      <td>Inside</td>\n",
       "      <td>Gtl</td>\n",
       "      <td>PosN</td>\n",
       "      <td>Norm</td>\n",
       "      <td>...</td>\n",
       "      <td>Detchd</td>\n",
       "      <td>Unf</td>\n",
       "      <td>TA</td>\n",
       "      <td>TA</td>\n",
       "      <td>Y</td>\n",
       "      <td>NaN</td>\n",
       "      <td>NaN</td>\n",
       "      <td>NaN</td>\n",
       "      <td>WD</td>\n",
       "      <td>Normal</td>\n",
       "    </tr>\n",
       "    <tr>\n",
       "      <th>93</th>\n",
       "      <td>RL</td>\n",
       "      <td>Pave</td>\n",
       "      <td>Grvl</td>\n",
       "      <td>IR1</td>\n",
       "      <td>HLS</td>\n",
       "      <td>AllPub</td>\n",
       "      <td>Inside</td>\n",
       "      <td>Gtl</td>\n",
       "      <td>Norm</td>\n",
       "      <td>Norm</td>\n",
       "      <td>...</td>\n",
       "      <td>Detchd</td>\n",
       "      <td>Unf</td>\n",
       "      <td>TA</td>\n",
       "      <td>TA</td>\n",
       "      <td>Y</td>\n",
       "      <td>NaN</td>\n",
       "      <td>NaN</td>\n",
       "      <td>NaN</td>\n",
       "      <td>WD</td>\n",
       "      <td>Normal</td>\n",
       "    </tr>\n",
       "    <tr>\n",
       "      <th>818</th>\n",
       "      <td>RL</td>\n",
       "      <td>Pave</td>\n",
       "      <td>NaN</td>\n",
       "      <td>IR1</td>\n",
       "      <td>Lvl</td>\n",
       "      <td>AllPub</td>\n",
       "      <td>CulDSac</td>\n",
       "      <td>Gtl</td>\n",
       "      <td>Norm</td>\n",
       "      <td>Norm</td>\n",
       "      <td>...</td>\n",
       "      <td>Attchd</td>\n",
       "      <td>RFn</td>\n",
       "      <td>TA</td>\n",
       "      <td>TA</td>\n",
       "      <td>Y</td>\n",
       "      <td>NaN</td>\n",
       "      <td>NaN</td>\n",
       "      <td>NaN</td>\n",
       "      <td>WD</td>\n",
       "      <td>Normal</td>\n",
       "    </tr>\n",
       "    <tr>\n",
       "      <th>303</th>\n",
       "      <td>RL</td>\n",
       "      <td>Pave</td>\n",
       "      <td>NaN</td>\n",
       "      <td>IR1</td>\n",
       "      <td>Lvl</td>\n",
       "      <td>AllPub</td>\n",
       "      <td>Corner</td>\n",
       "      <td>Gtl</td>\n",
       "      <td>Norm</td>\n",
       "      <td>Norm</td>\n",
       "      <td>...</td>\n",
       "      <td>Attchd</td>\n",
       "      <td>RFn</td>\n",
       "      <td>TA</td>\n",
       "      <td>TA</td>\n",
       "      <td>Y</td>\n",
       "      <td>NaN</td>\n",
       "      <td>NaN</td>\n",
       "      <td>NaN</td>\n",
       "      <td>WD</td>\n",
       "      <td>Normal</td>\n",
       "    </tr>\n",
       "  </tbody>\n",
       "</table>\n",
       "<p>5 rows × 40 columns</p>\n",
       "</div>"
      ],
      "text/plain": [
       "    MSZoning Street Alley LotShape LandContour Utilities LotConfig LandSlope  \\\n",
       "Id                                                                             \n",
       "619       RL   Pave   NaN      Reg         Lvl    AllPub    Inside       Gtl   \n",
       "871       RL   Pave   NaN      Reg         Lvl    AllPub    Inside       Gtl   \n",
       "93        RL   Pave  Grvl      IR1         HLS    AllPub    Inside       Gtl   \n",
       "818       RL   Pave   NaN      IR1         Lvl    AllPub   CulDSac       Gtl   \n",
       "303       RL   Pave   NaN      IR1         Lvl    AllPub    Corner       Gtl   \n",
       "\n",
       "    Condition1 Condition2  ... GarageType GarageFinish GarageQual GarageCond  \\\n",
       "Id                         ...                                                 \n",
       "619       Norm       Norm  ...     Attchd          Unf         TA         TA   \n",
       "871       PosN       Norm  ...     Detchd          Unf         TA         TA   \n",
       "93        Norm       Norm  ...     Detchd          Unf         TA         TA   \n",
       "818       Norm       Norm  ...     Attchd          RFn         TA         TA   \n",
       "303       Norm       Norm  ...     Attchd          RFn         TA         TA   \n",
       "\n",
       "    PavedDrive PoolQC Fence MiscFeature SaleType SaleCondition  \n",
       "Id                                                              \n",
       "619          Y    NaN   NaN         NaN      New       Partial  \n",
       "871          Y    NaN   NaN         NaN       WD        Normal  \n",
       "93           Y    NaN   NaN         NaN       WD        Normal  \n",
       "818          Y    NaN   NaN         NaN       WD        Normal  \n",
       "303          Y    NaN   NaN         NaN       WD        Normal  \n",
       "\n",
       "[5 rows x 40 columns]"
      ]
     },
     "execution_count": 5,
     "metadata": {},
     "output_type": "execute_result"
    }
   ],
   "source": [
    "X_train[categorical_cols].head()"
   ]
  },
  {
   "cell_type": "code",
   "execution_count": 6,
   "id": "20d01cc2",
   "metadata": {
    "execution": {
     "iopub.execute_input": "2025-03-06T02:13:45.659843Z",
     "iopub.status.busy": "2025-03-06T02:13:45.659449Z",
     "iopub.status.idle": "2025-03-06T02:13:45.664016Z",
     "shell.execute_reply": "2025-03-06T02:13:45.662996Z"
    },
    "papermill": {
     "duration": 0.013717,
     "end_time": "2025-03-06T02:13:45.665440",
     "exception": false,
     "start_time": "2025-03-06T02:13:45.651723",
     "status": "completed"
    },
    "tags": []
   },
   "outputs": [],
   "source": [
    "ordinal_cat_cols = ['Utilities', 'LandSlope', 'HouseStyle', 'OverallQual', 'OverallCond', 'ExterQual', 'ExterCond', 'BsmtQual', 'BsmtCond', 'BsmtFinType1', 'BsmtFinType2', 'HeatingQC', 'KitchenQual', 'FireplaceQu', 'GarageFinish', 'GarageQual', 'GarageCond', 'PoolQC']"
   ]
  },
  {
   "cell_type": "code",
   "execution_count": 7,
   "id": "48b7544e",
   "metadata": {
    "execution": {
     "iopub.execute_input": "2025-03-06T02:13:45.686487Z",
     "iopub.status.busy": "2025-03-06T02:13:45.685933Z",
     "iopub.status.idle": "2025-03-06T02:13:45.691235Z",
     "shell.execute_reply": "2025-03-06T02:13:45.690251Z"
    },
    "papermill": {
     "duration": 0.019476,
     "end_time": "2025-03-06T02:13:45.693318",
     "exception": false,
     "start_time": "2025-03-06T02:13:45.673842",
     "status": "completed"
    },
    "tags": []
   },
   "outputs": [],
   "source": [
    "cardinal_cat_cols = set(categorical_cols)-set(ordinal_cat_cols)"
   ]
  },
  {
   "cell_type": "code",
   "execution_count": 8,
   "id": "47aafea3",
   "metadata": {
    "execution": {
     "iopub.execute_input": "2025-03-06T02:13:45.710936Z",
     "iopub.status.busy": "2025-03-06T02:13:45.710391Z",
     "iopub.status.idle": "2025-03-06T02:13:45.721739Z",
     "shell.execute_reply": "2025-03-06T02:13:45.720049Z"
    },
    "papermill": {
     "duration": 0.022812,
     "end_time": "2025-03-06T02:13:45.723780",
     "exception": false,
     "start_time": "2025-03-06T02:13:45.700968",
     "status": "completed"
    },
    "tags": []
   },
   "outputs": [
    {
     "data": {
      "application/javascript": [
       "parent.postMessage({\"jupyterEvent\": \"custom.exercise_interaction\", \"data\": {\"outcomeType\": 1, \"valueTowardsCompletion\": 1.0, \"interactionType\": 1, \"questionType\": 2, \"questionId\": \"1.1_YourTurnModel\", \"learnToolsVersion\": \"0.3.4\", \"failureMessage\": \"\", \"exceptionClass\": \"\", \"trace\": \"\"}}, \"*\")"
      ],
      "text/plain": [
       "<IPython.core.display.Javascript object>"
      ]
     },
     "metadata": {},
     "output_type": "display_data"
    },
    {
     "data": {
      "text/markdown": [
       "<span style=\"color:#33cc33\">Correct</span>"
      ],
      "text/plain": [
       "Correct"
      ]
     },
     "metadata": {},
     "output_type": "display_data"
    }
   ],
   "source": [
    "# Preprocessing for numerical data\n",
    "numerical_transformer = SimpleImputer(strategy='median') # Your code here\n",
    "\n",
    "# Preprocessing for categorical data\n",
    "categorical_transformer = Pipeline(steps=[\n",
    "    ('imputer', SimpleImputer(strategy='most_frequent')),\n",
    "    ('onehot', OneHotEncoder(handle_unknown='ignore')),\n",
    "    #('poly', PolynomialFeatures(interaction_only=True, include_bias=False))\n",
    "]) # Your code here\n",
    "\n",
    "# Bundle preprocessing for numerical and categorical data\n",
    "preprocessor = ColumnTransformer(\n",
    "    transformers=[\n",
    "        ('num', numerical_transformer, numerical_cols),\n",
    "        ('cat', categorical_transformer, categorical_cols)\n",
    "    ])\n",
    "\n",
    "# Define model\n",
    "model = RandomForestRegressor(n_estimators=100, random_state=0)\n",
    "\n",
    "# Check your answer\n",
    "step_1.a.check()"
   ]
  },
  {
   "cell_type": "code",
   "execution_count": null,
   "id": "11ec5706",
   "metadata": {
    "papermill": {
     "duration": 0.007001,
     "end_time": "2025-03-06T02:13:45.738021",
     "exception": false,
     "start_time": "2025-03-06T02:13:45.731020",
     "status": "completed"
    },
    "tags": []
   },
   "outputs": [],
   "source": []
  },
  {
   "cell_type": "code",
   "execution_count": 9,
   "id": "fd70826e",
   "metadata": {
    "execution": {
     "iopub.execute_input": "2025-03-06T02:13:45.752869Z",
     "iopub.status.busy": "2025-03-06T02:13:45.752464Z",
     "iopub.status.idle": "2025-03-06T02:13:45.761543Z",
     "shell.execute_reply": "2025-03-06T02:13:45.760694Z"
    },
    "papermill": {
     "duration": 0.018387,
     "end_time": "2025-03-06T02:13:45.763239",
     "exception": false,
     "start_time": "2025-03-06T02:13:45.744852",
     "status": "completed"
    },
    "tags": []
   },
   "outputs": [
    {
     "data": {
      "application/javascript": [
       "parent.postMessage({\"jupyterEvent\": \"custom.exercise_interaction\", \"data\": {\"outcomeType\": 1, \"valueTowardsCompletion\": 1.0, \"interactionType\": 1, \"questionType\": 2, \"questionId\": \"1.1_YourTurnModel\", \"learnToolsVersion\": \"0.3.4\", \"failureMessage\": \"\", \"exceptionClass\": \"\", \"trace\": \"\"}}, \"*\")"
      ],
      "text/plain": [
       "<IPython.core.display.Javascript object>"
      ]
     },
     "metadata": {},
     "output_type": "display_data"
    },
    {
     "data": {
      "text/markdown": [
       "<span style=\"color:#33cc33\">Correct</span>"
      ],
      "text/plain": [
       "Correct"
      ]
     },
     "metadata": {},
     "output_type": "display_data"
    }
   ],
   "source": [
    "# Preprocessing for numerical data\n",
    "numerical_transformer = SimpleImputer(strategy='median') # Your code here\n",
    "\n",
    "# Preprocessing for categorical data\n",
    "ordinal_categorical_transformer = Pipeline(steps=[\n",
    "    ('imputer', SimpleImputer(strategy='most_frequent')),\n",
    "    ('ordinal', OrdinalEncoder()),\n",
    "    #('poly', PolynomialFeatures(interaction_only=True, include_bias=False))\n",
    "]) # Your code here\n",
    "\n",
    "\n",
    "cardinal_categorical_transformer = Pipeline(steps=[\n",
    "    ('imputer', SimpleImputer(strategy='most_frequent')),\n",
    "    ('onehot', OneHotEncoder(handle_unknown='ignore')),\n",
    "    #('poly', PolynomialFeatures(interaction_only=True, include_bias=False))\n",
    "]) # Your code here\n",
    "\n",
    "# Bundle preprocessing for numerical and categorical data\n",
    "preprocessor = ColumnTransformer(\n",
    "    transformers=[\n",
    "        ('num', numerical_transformer, numerical_cols),\n",
    "        ('cat1', ordinal_categorical_transformer, ordinal_cat_cols),\n",
    "        ('cat2', cardinal_categorical_transformer, list(cardinal_cat_cols))\n",
    "    ])\n",
    "\n",
    "# Define model\n",
    "model = RandomForestRegressor(n_estimators=100, random_state=0)\n",
    "\n",
    "# Check your answer\n",
    "step_1.a.check()"
   ]
  },
  {
   "cell_type": "code",
   "execution_count": 10,
   "id": "bab41bc2",
   "metadata": {
    "execution": {
     "iopub.execute_input": "2025-03-06T02:13:45.778835Z",
     "iopub.status.busy": "2025-03-06T02:13:45.778350Z",
     "iopub.status.idle": "2025-03-06T02:13:45.782162Z",
     "shell.execute_reply": "2025-03-06T02:13:45.781220Z"
    },
    "papermill": {
     "duration": 0.013402,
     "end_time": "2025-03-06T02:13:45.783852",
     "exception": false,
     "start_time": "2025-03-06T02:13:45.770450",
     "status": "completed"
    },
    "tags": []
   },
   "outputs": [],
   "source": [
    "# Lines below will give you a hint or solution code\n",
    "#step_1.a.hint()\n",
    "#step_1.a.solution()"
   ]
  },
  {
   "cell_type": "markdown",
   "id": "9f3c08fd",
   "metadata": {
    "papermill": {
     "duration": 0.006869,
     "end_time": "2025-03-06T02:13:45.797954",
     "exception": false,
     "start_time": "2025-03-06T02:13:45.791085",
     "status": "completed"
    },
    "tags": []
   },
   "source": [
    "### Part B\n",
    "\n",
    "Run the code cell below without changes.\n",
    "\n",
    "To pass this step, you need to have defined a pipeline in **Part A** that achieves lower MAE than the code above.  You're encouraged to take your time here and try out many different approaches, to see how low you can get the MAE!  (_If your code does not pass, please amend the preprocessing steps and model in Part A._)"
   ]
  },
  {
   "cell_type": "code",
   "execution_count": 11,
   "id": "90717bdf",
   "metadata": {
    "execution": {
     "iopub.execute_input": "2025-03-06T02:13:45.813269Z",
     "iopub.status.busy": "2025-03-06T02:13:45.812915Z",
     "iopub.status.idle": "2025-03-06T02:13:48.106077Z",
     "shell.execute_reply": "2025-03-06T02:13:48.105088Z"
    },
    "papermill": {
     "duration": 2.302607,
     "end_time": "2025-03-06T02:13:48.107477",
     "exception": false,
     "start_time": "2025-03-06T02:13:45.804870",
     "status": "completed"
    },
    "tags": []
   },
   "outputs": [
    {
     "name": "stdout",
     "output_type": "stream",
     "text": [
      "MAE: 17364.705993150685\n"
     ]
    },
    {
     "data": {
      "application/javascript": [
       "parent.postMessage({\"jupyterEvent\": \"custom.exercise_interaction\", \"data\": {\"outcomeType\": 1, \"valueTowardsCompletion\": 1.0, \"interactionType\": 1, \"questionType\": 2, \"questionId\": \"1.2_YourTurnPredict\", \"learnToolsVersion\": \"0.3.4\", \"failureMessage\": \"\", \"exceptionClass\": \"\", \"trace\": \"\"}}, \"*\")"
      ],
      "text/plain": [
       "<IPython.core.display.Javascript object>"
      ]
     },
     "metadata": {},
     "output_type": "display_data"
    },
    {
     "data": {
      "text/markdown": [
       "<span style=\"color:#33cc33\">Correct</span>"
      ],
      "text/plain": [
       "Correct"
      ]
     },
     "metadata": {},
     "output_type": "display_data"
    }
   ],
   "source": [
    "# Bundle preprocessing and modeling code in a pipeline\n",
    "my_pipeline = Pipeline(steps=[('preprocessor', preprocessor),\n",
    "                              ('model', model)\n",
    "                             ])\n",
    "\n",
    "# Preprocessing of training data, fit model \n",
    "my_pipeline.fit(X_train, y_train)\n",
    "\n",
    "# Preprocessing of validation data, get predictions\n",
    "preds = my_pipeline.predict(X_valid)\n",
    "\n",
    "# Evaluate the model\n",
    "score = mean_absolute_error(y_valid, preds)\n",
    "print('MAE:', score)\n",
    "\n",
    "# Check your answer\n",
    "step_1.b.check()"
   ]
  },
  {
   "cell_type": "code",
   "execution_count": 12,
   "id": "7626fcce",
   "metadata": {
    "execution": {
     "iopub.execute_input": "2025-03-06T02:13:48.123509Z",
     "iopub.status.busy": "2025-03-06T02:13:48.123173Z",
     "iopub.status.idle": "2025-03-06T02:13:48.130533Z",
     "shell.execute_reply": "2025-03-06T02:13:48.129383Z"
    },
    "papermill": {
     "duration": 0.017155,
     "end_time": "2025-03-06T02:13:48.132238",
     "exception": false,
     "start_time": "2025-03-06T02:13:48.115083",
     "status": "completed"
    },
    "tags": []
   },
   "outputs": [
    {
     "name": "stdout",
     "output_type": "stream",
     "text": [
      "Numerical columns: ['MSSubClass', 'LotFrontage', 'LotArea', 'OverallQual', 'OverallCond', 'YearBuilt', 'YearRemodAdd', 'MasVnrArea', 'BsmtFinSF1', 'BsmtFinSF2', 'BsmtUnfSF', 'TotalBsmtSF', '1stFlrSF', '2ndFlrSF', 'LowQualFinSF', 'GrLivArea', 'BsmtFullBath', 'BsmtHalfBath', 'FullBath', 'HalfBath', 'BedroomAbvGr', 'KitchenAbvGr', 'TotRmsAbvGrd', 'Fireplaces', 'GarageYrBlt', 'GarageCars', 'GarageArea', 'WoodDeckSF', 'OpenPorchSF', 'EnclosedPorch', '3SsnPorch', 'ScreenPorch', 'PoolArea', 'MiscVal', 'MoSold', 'YrSold']\n",
      "Ordinal categorical columns: ['Utilities', 'LandSlope', 'HouseStyle', 'OverallQual', 'OverallCond', 'ExterQual', 'ExterCond', 'BsmtQual', 'BsmtCond', 'BsmtFinType1', 'BsmtFinType2', 'HeatingQC', 'KitchenQual', 'FireplaceQu', 'GarageFinish', 'GarageQual', 'GarageCond', 'PoolQC']\n",
      "Cardinal categorical columns: {'Condition1', 'LotConfig', 'Alley', 'Heating', 'Electrical', 'MSZoning', 'CentralAir', 'MiscFeature', 'BsmtExposure', 'Functional', 'PavedDrive', 'RoofMatl', 'MasVnrType', 'SaleType', 'SaleCondition', 'BldgType', 'LotShape', 'GarageType', 'LandContour', 'Foundation', 'Condition2', 'Fence', 'RoofStyle', 'Street'}\n",
      "DataFrame columns: ['MSZoning', 'Street', 'Alley', 'LotShape', 'LandContour', 'Utilities', 'LotConfig', 'LandSlope', 'Condition1', 'Condition2', 'BldgType', 'HouseStyle', 'RoofStyle', 'RoofMatl', 'MasVnrType', 'ExterQual', 'ExterCond', 'Foundation', 'BsmtQual', 'BsmtCond', 'BsmtExposure', 'BsmtFinType1', 'BsmtFinType2', 'Heating', 'HeatingQC', 'CentralAir', 'Electrical', 'KitchenQual', 'Functional', 'FireplaceQu', 'GarageType', 'GarageFinish', 'GarageQual', 'GarageCond', 'PavedDrive', 'PoolQC', 'Fence', 'MiscFeature', 'SaleType', 'SaleCondition', 'MSSubClass', 'LotFrontage', 'LotArea', 'OverallQual', 'OverallCond', 'YearBuilt', 'YearRemodAdd', 'MasVnrArea', 'BsmtFinSF1', 'BsmtFinSF2', 'BsmtUnfSF', 'TotalBsmtSF', '1stFlrSF', '2ndFlrSF', 'LowQualFinSF', 'GrLivArea', 'BsmtFullBath', 'BsmtHalfBath', 'FullBath', 'HalfBath', 'BedroomAbvGr', 'KitchenAbvGr', 'TotRmsAbvGrd', 'Fireplaces', 'GarageYrBlt', 'GarageCars', 'GarageArea', 'WoodDeckSF', 'OpenPorchSF', 'EnclosedPorch', '3SsnPorch', 'ScreenPorch', 'PoolArea', 'MiscVal', 'MoSold', 'YrSold']\n"
     ]
    }
   ],
   "source": [
    "print(\"Numerical columns:\", numerical_cols)\n",
    "print(\"Ordinal categorical columns:\", ordinal_cat_cols)\n",
    "print(\"Cardinal categorical columns:\", cardinal_cat_cols)\n",
    "print(\"DataFrame columns:\", X_train.columns.tolist())\n"
   ]
  },
  {
   "cell_type": "code",
   "execution_count": 13,
   "id": "8671e01b",
   "metadata": {
    "execution": {
     "iopub.execute_input": "2025-03-06T02:13:48.148546Z",
     "iopub.status.busy": "2025-03-06T02:13:48.148151Z",
     "iopub.status.idle": "2025-03-06T02:13:48.154615Z",
     "shell.execute_reply": "2025-03-06T02:13:48.153719Z"
    },
    "papermill": {
     "duration": 0.016448,
     "end_time": "2025-03-06T02:13:48.156222",
     "exception": false,
     "start_time": "2025-03-06T02:13:48.139774",
     "status": "completed"
    },
    "tags": []
   },
   "outputs": [
    {
     "data": {
      "text/plain": [
       "True"
      ]
     },
     "execution_count": 13,
     "metadata": {},
     "output_type": "execute_result"
    }
   ],
   "source": [
    "set(cardinal_cat_cols).issubset(set(X_train.columns.tolist()))"
   ]
  },
  {
   "cell_type": "code",
   "execution_count": 14,
   "id": "87f2d7fa",
   "metadata": {
    "execution": {
     "iopub.execute_input": "2025-03-06T02:13:48.173015Z",
     "iopub.status.busy": "2025-03-06T02:13:48.172611Z",
     "iopub.status.idle": "2025-03-06T02:13:48.195685Z",
     "shell.execute_reply": "2025-03-06T02:13:48.194654Z"
    },
    "papermill": {
     "duration": 0.033288,
     "end_time": "2025-03-06T02:13:48.197360",
     "exception": false,
     "start_time": "2025-03-06T02:13:48.164072",
     "status": "completed"
    },
    "tags": []
   },
   "outputs": [
    {
     "data": {
      "text/html": [
       "<div>\n",
       "<style scoped>\n",
       "    .dataframe tbody tr th:only-of-type {\n",
       "        vertical-align: middle;\n",
       "    }\n",
       "\n",
       "    .dataframe tbody tr th {\n",
       "        vertical-align: top;\n",
       "    }\n",
       "\n",
       "    .dataframe thead th {\n",
       "        text-align: right;\n",
       "    }\n",
       "</style>\n",
       "<table border=\"1\" class=\"dataframe\">\n",
       "  <thead>\n",
       "    <tr style=\"text-align: right;\">\n",
       "      <th></th>\n",
       "      <th>Condition1</th>\n",
       "      <th>LotConfig</th>\n",
       "      <th>Alley</th>\n",
       "      <th>Heating</th>\n",
       "      <th>Electrical</th>\n",
       "      <th>MSZoning</th>\n",
       "      <th>CentralAir</th>\n",
       "      <th>MiscFeature</th>\n",
       "      <th>BsmtExposure</th>\n",
       "      <th>Functional</th>\n",
       "      <th>...</th>\n",
       "      <th>SaleCondition</th>\n",
       "      <th>BldgType</th>\n",
       "      <th>LotShape</th>\n",
       "      <th>GarageType</th>\n",
       "      <th>LandContour</th>\n",
       "      <th>Foundation</th>\n",
       "      <th>Condition2</th>\n",
       "      <th>Fence</th>\n",
       "      <th>RoofStyle</th>\n",
       "      <th>Street</th>\n",
       "    </tr>\n",
       "    <tr>\n",
       "      <th>Id</th>\n",
       "      <th></th>\n",
       "      <th></th>\n",
       "      <th></th>\n",
       "      <th></th>\n",
       "      <th></th>\n",
       "      <th></th>\n",
       "      <th></th>\n",
       "      <th></th>\n",
       "      <th></th>\n",
       "      <th></th>\n",
       "      <th></th>\n",
       "      <th></th>\n",
       "      <th></th>\n",
       "      <th></th>\n",
       "      <th></th>\n",
       "      <th></th>\n",
       "      <th></th>\n",
       "      <th></th>\n",
       "      <th></th>\n",
       "      <th></th>\n",
       "      <th></th>\n",
       "    </tr>\n",
       "  </thead>\n",
       "  <tbody>\n",
       "    <tr>\n",
       "      <th>619</th>\n",
       "      <td>Norm</td>\n",
       "      <td>Inside</td>\n",
       "      <td>NaN</td>\n",
       "      <td>GasA</td>\n",
       "      <td>SBrkr</td>\n",
       "      <td>RL</td>\n",
       "      <td>Y</td>\n",
       "      <td>NaN</td>\n",
       "      <td>Av</td>\n",
       "      <td>Typ</td>\n",
       "      <td>...</td>\n",
       "      <td>Partial</td>\n",
       "      <td>1Fam</td>\n",
       "      <td>Reg</td>\n",
       "      <td>Attchd</td>\n",
       "      <td>Lvl</td>\n",
       "      <td>PConc</td>\n",
       "      <td>Norm</td>\n",
       "      <td>NaN</td>\n",
       "      <td>Hip</td>\n",
       "      <td>Pave</td>\n",
       "    </tr>\n",
       "    <tr>\n",
       "      <th>871</th>\n",
       "      <td>PosN</td>\n",
       "      <td>Inside</td>\n",
       "      <td>NaN</td>\n",
       "      <td>GasA</td>\n",
       "      <td>SBrkr</td>\n",
       "      <td>RL</td>\n",
       "      <td>N</td>\n",
       "      <td>NaN</td>\n",
       "      <td>No</td>\n",
       "      <td>Typ</td>\n",
       "      <td>...</td>\n",
       "      <td>Normal</td>\n",
       "      <td>1Fam</td>\n",
       "      <td>Reg</td>\n",
       "      <td>Detchd</td>\n",
       "      <td>Lvl</td>\n",
       "      <td>CBlock</td>\n",
       "      <td>Norm</td>\n",
       "      <td>NaN</td>\n",
       "      <td>Hip</td>\n",
       "      <td>Pave</td>\n",
       "    </tr>\n",
       "    <tr>\n",
       "      <th>93</th>\n",
       "      <td>Norm</td>\n",
       "      <td>Inside</td>\n",
       "      <td>Grvl</td>\n",
       "      <td>GasA</td>\n",
       "      <td>SBrkr</td>\n",
       "      <td>RL</td>\n",
       "      <td>Y</td>\n",
       "      <td>NaN</td>\n",
       "      <td>No</td>\n",
       "      <td>Typ</td>\n",
       "      <td>...</td>\n",
       "      <td>Normal</td>\n",
       "      <td>1Fam</td>\n",
       "      <td>IR1</td>\n",
       "      <td>Detchd</td>\n",
       "      <td>HLS</td>\n",
       "      <td>BrkTil</td>\n",
       "      <td>Norm</td>\n",
       "      <td>NaN</td>\n",
       "      <td>Gable</td>\n",
       "      <td>Pave</td>\n",
       "    </tr>\n",
       "    <tr>\n",
       "      <th>818</th>\n",
       "      <td>Norm</td>\n",
       "      <td>CulDSac</td>\n",
       "      <td>NaN</td>\n",
       "      <td>GasA</td>\n",
       "      <td>SBrkr</td>\n",
       "      <td>RL</td>\n",
       "      <td>Y</td>\n",
       "      <td>NaN</td>\n",
       "      <td>No</td>\n",
       "      <td>Typ</td>\n",
       "      <td>...</td>\n",
       "      <td>Normal</td>\n",
       "      <td>1Fam</td>\n",
       "      <td>IR1</td>\n",
       "      <td>Attchd</td>\n",
       "      <td>Lvl</td>\n",
       "      <td>PConc</td>\n",
       "      <td>Norm</td>\n",
       "      <td>NaN</td>\n",
       "      <td>Hip</td>\n",
       "      <td>Pave</td>\n",
       "    </tr>\n",
       "    <tr>\n",
       "      <th>303</th>\n",
       "      <td>Norm</td>\n",
       "      <td>Corner</td>\n",
       "      <td>NaN</td>\n",
       "      <td>GasA</td>\n",
       "      <td>SBrkr</td>\n",
       "      <td>RL</td>\n",
       "      <td>Y</td>\n",
       "      <td>NaN</td>\n",
       "      <td>No</td>\n",
       "      <td>Typ</td>\n",
       "      <td>...</td>\n",
       "      <td>Normal</td>\n",
       "      <td>1Fam</td>\n",
       "      <td>IR1</td>\n",
       "      <td>Attchd</td>\n",
       "      <td>Lvl</td>\n",
       "      <td>PConc</td>\n",
       "      <td>Norm</td>\n",
       "      <td>NaN</td>\n",
       "      <td>Gable</td>\n",
       "      <td>Pave</td>\n",
       "    </tr>\n",
       "    <tr>\n",
       "      <th>...</th>\n",
       "      <td>...</td>\n",
       "      <td>...</td>\n",
       "      <td>...</td>\n",
       "      <td>...</td>\n",
       "      <td>...</td>\n",
       "      <td>...</td>\n",
       "      <td>...</td>\n",
       "      <td>...</td>\n",
       "      <td>...</td>\n",
       "      <td>...</td>\n",
       "      <td>...</td>\n",
       "      <td>...</td>\n",
       "      <td>...</td>\n",
       "      <td>...</td>\n",
       "      <td>...</td>\n",
       "      <td>...</td>\n",
       "      <td>...</td>\n",
       "      <td>...</td>\n",
       "      <td>...</td>\n",
       "      <td>...</td>\n",
       "      <td>...</td>\n",
       "    </tr>\n",
       "    <tr>\n",
       "      <th>764</th>\n",
       "      <td>Norm</td>\n",
       "      <td>Inside</td>\n",
       "      <td>NaN</td>\n",
       "      <td>GasA</td>\n",
       "      <td>SBrkr</td>\n",
       "      <td>RL</td>\n",
       "      <td>Y</td>\n",
       "      <td>NaN</td>\n",
       "      <td>Mn</td>\n",
       "      <td>Typ</td>\n",
       "      <td>...</td>\n",
       "      <td>Normal</td>\n",
       "      <td>1Fam</td>\n",
       "      <td>Reg</td>\n",
       "      <td>Attchd</td>\n",
       "      <td>Lvl</td>\n",
       "      <td>PConc</td>\n",
       "      <td>Norm</td>\n",
       "      <td>NaN</td>\n",
       "      <td>Gable</td>\n",
       "      <td>Pave</td>\n",
       "    </tr>\n",
       "    <tr>\n",
       "      <th>836</th>\n",
       "      <td>Norm</td>\n",
       "      <td>Inside</td>\n",
       "      <td>NaN</td>\n",
       "      <td>GasA</td>\n",
       "      <td>SBrkr</td>\n",
       "      <td>RL</td>\n",
       "      <td>Y</td>\n",
       "      <td>NaN</td>\n",
       "      <td>No</td>\n",
       "      <td>Min2</td>\n",
       "      <td>...</td>\n",
       "      <td>Normal</td>\n",
       "      <td>1Fam</td>\n",
       "      <td>Reg</td>\n",
       "      <td>Attchd</td>\n",
       "      <td>Lvl</td>\n",
       "      <td>CBlock</td>\n",
       "      <td>Norm</td>\n",
       "      <td>NaN</td>\n",
       "      <td>Gable</td>\n",
       "      <td>Pave</td>\n",
       "    </tr>\n",
       "    <tr>\n",
       "      <th>1217</th>\n",
       "      <td>RRAe</td>\n",
       "      <td>Inside</td>\n",
       "      <td>NaN</td>\n",
       "      <td>GasA</td>\n",
       "      <td>SBrkr</td>\n",
       "      <td>RM</td>\n",
       "      <td>Y</td>\n",
       "      <td>NaN</td>\n",
       "      <td>NaN</td>\n",
       "      <td>Typ</td>\n",
       "      <td>...</td>\n",
       "      <td>Normal</td>\n",
       "      <td>Duplex</td>\n",
       "      <td>Reg</td>\n",
       "      <td>Attchd</td>\n",
       "      <td>Lvl</td>\n",
       "      <td>Slab</td>\n",
       "      <td>Norm</td>\n",
       "      <td>NaN</td>\n",
       "      <td>Gable</td>\n",
       "      <td>Pave</td>\n",
       "    </tr>\n",
       "    <tr>\n",
       "      <th>560</th>\n",
       "      <td>Norm</td>\n",
       "      <td>Inside</td>\n",
       "      <td>NaN</td>\n",
       "      <td>GasA</td>\n",
       "      <td>SBrkr</td>\n",
       "      <td>RL</td>\n",
       "      <td>Y</td>\n",
       "      <td>NaN</td>\n",
       "      <td>Gd</td>\n",
       "      <td>Typ</td>\n",
       "      <td>...</td>\n",
       "      <td>Normal</td>\n",
       "      <td>TwnhsE</td>\n",
       "      <td>Reg</td>\n",
       "      <td>Attchd</td>\n",
       "      <td>Lvl</td>\n",
       "      <td>PConc</td>\n",
       "      <td>Norm</td>\n",
       "      <td>NaN</td>\n",
       "      <td>Gable</td>\n",
       "      <td>Pave</td>\n",
       "    </tr>\n",
       "    <tr>\n",
       "      <th>685</th>\n",
       "      <td>Norm</td>\n",
       "      <td>CulDSac</td>\n",
       "      <td>NaN</td>\n",
       "      <td>GasA</td>\n",
       "      <td>SBrkr</td>\n",
       "      <td>RL</td>\n",
       "      <td>Y</td>\n",
       "      <td>NaN</td>\n",
       "      <td>No</td>\n",
       "      <td>Typ</td>\n",
       "      <td>...</td>\n",
       "      <td>Normal</td>\n",
       "      <td>1Fam</td>\n",
       "      <td>IR2</td>\n",
       "      <td>Attchd</td>\n",
       "      <td>Lvl</td>\n",
       "      <td>PConc</td>\n",
       "      <td>Norm</td>\n",
       "      <td>NaN</td>\n",
       "      <td>Gable</td>\n",
       "      <td>Pave</td>\n",
       "    </tr>\n",
       "  </tbody>\n",
       "</table>\n",
       "<p>1168 rows × 24 columns</p>\n",
       "</div>"
      ],
      "text/plain": [
       "     Condition1 LotConfig Alley Heating Electrical MSZoning CentralAir  \\\n",
       "Id                                                                       \n",
       "619        Norm    Inside   NaN    GasA      SBrkr       RL          Y   \n",
       "871        PosN    Inside   NaN    GasA      SBrkr       RL          N   \n",
       "93         Norm    Inside  Grvl    GasA      SBrkr       RL          Y   \n",
       "818        Norm   CulDSac   NaN    GasA      SBrkr       RL          Y   \n",
       "303        Norm    Corner   NaN    GasA      SBrkr       RL          Y   \n",
       "...         ...       ...   ...     ...        ...      ...        ...   \n",
       "764        Norm    Inside   NaN    GasA      SBrkr       RL          Y   \n",
       "836        Norm    Inside   NaN    GasA      SBrkr       RL          Y   \n",
       "1217       RRAe    Inside   NaN    GasA      SBrkr       RM          Y   \n",
       "560        Norm    Inside   NaN    GasA      SBrkr       RL          Y   \n",
       "685        Norm   CulDSac   NaN    GasA      SBrkr       RL          Y   \n",
       "\n",
       "     MiscFeature BsmtExposure Functional  ... SaleCondition BldgType LotShape  \\\n",
       "Id                                        ...                                   \n",
       "619          NaN           Av        Typ  ...       Partial     1Fam      Reg   \n",
       "871          NaN           No        Typ  ...        Normal     1Fam      Reg   \n",
       "93           NaN           No        Typ  ...        Normal     1Fam      IR1   \n",
       "818          NaN           No        Typ  ...        Normal     1Fam      IR1   \n",
       "303          NaN           No        Typ  ...        Normal     1Fam      IR1   \n",
       "...          ...          ...        ...  ...           ...      ...      ...   \n",
       "764          NaN           Mn        Typ  ...        Normal     1Fam      Reg   \n",
       "836          NaN           No       Min2  ...        Normal     1Fam      Reg   \n",
       "1217         NaN          NaN        Typ  ...        Normal   Duplex      Reg   \n",
       "560          NaN           Gd        Typ  ...        Normal   TwnhsE      Reg   \n",
       "685          NaN           No        Typ  ...        Normal     1Fam      IR2   \n",
       "\n",
       "     GarageType LandContour Foundation Condition2 Fence RoofStyle Street  \n",
       "Id                                                                        \n",
       "619      Attchd         Lvl      PConc       Norm   NaN       Hip   Pave  \n",
       "871      Detchd         Lvl     CBlock       Norm   NaN       Hip   Pave  \n",
       "93       Detchd         HLS     BrkTil       Norm   NaN     Gable   Pave  \n",
       "818      Attchd         Lvl      PConc       Norm   NaN       Hip   Pave  \n",
       "303      Attchd         Lvl      PConc       Norm   NaN     Gable   Pave  \n",
       "...         ...         ...        ...        ...   ...       ...    ...  \n",
       "764      Attchd         Lvl      PConc       Norm   NaN     Gable   Pave  \n",
       "836      Attchd         Lvl     CBlock       Norm   NaN     Gable   Pave  \n",
       "1217     Attchd         Lvl       Slab       Norm   NaN     Gable   Pave  \n",
       "560      Attchd         Lvl      PConc       Norm   NaN     Gable   Pave  \n",
       "685      Attchd         Lvl      PConc       Norm   NaN     Gable   Pave  \n",
       "\n",
       "[1168 rows x 24 columns]"
      ]
     },
     "execution_count": 14,
     "metadata": {},
     "output_type": "execute_result"
    }
   ],
   "source": [
    "X_train[list(cardinal_cat_cols)]"
   ]
  },
  {
   "cell_type": "code",
   "execution_count": 15,
   "id": "8d1c2660",
   "metadata": {
    "execution": {
     "iopub.execute_input": "2025-03-06T02:13:48.214570Z",
     "iopub.status.busy": "2025-03-06T02:13:48.214227Z",
     "iopub.status.idle": "2025-03-06T02:13:48.220471Z",
     "shell.execute_reply": "2025-03-06T02:13:48.219610Z"
    },
    "papermill": {
     "duration": 0.016634,
     "end_time": "2025-03-06T02:13:48.222061",
     "exception": false,
     "start_time": "2025-03-06T02:13:48.205427",
     "status": "completed"
    },
    "tags": []
   },
   "outputs": [
    {
     "data": {
      "text/plain": [
       "\"# Preprocessing for numerical data\\nnumerical_transformer = SimpleImputer(strategy='median')\\n\\n# Preprocessing for ordinal categorical data\\nordinal_categorical_transformer = Pipeline(steps=[\\n    ('imputer', SimpleImputer(strategy='most_frequent')),\\n    ('ordinal', OrdinalEncoder())\\n])\\n\\n# Preprocessing for cardinal categorical data\\ncardinal_categorical_transformer = Pipeline(steps=[\\n    ('imputer', SimpleImputer(strategy='most_frequent')),\\n    ('onehot', OneHotEncoder(handle_unknown='ignore'))\\n])\\n\\n# Bundle preprocessing for numerical and categorical data\\npreprocessor = ColumnTransformer(\\n    transformers=[\\n        ('num', numerical_transformer, numerical_cols),\\n        ('cat1', ordinal_categorical_transformer, ordinal_cat_cols),\\n        ('cat2', cardinal_categorical_transformer, list(cardinal_cat_cols))\\n    ])\\n\\n# Define the model\\nmodel = RandomForestRegressor(n_estimators=100, random_state=0)\\n\\n# Bundle preprocessing and modeling code in a pipeline\\nmy_pipeline = Pipeline(steps=[('preprocessor', preprocessor),\\n                              ('model', model)\\n                             ])\\n\\n# Preprocessing of training data, fit model \\nmy_pipeline.fit(X_train, y_train)\\n\\n# Preprocessing of validation data, get predictions\\npreds = my_pipeline.predict(X_valid)\\n\\n# Evaluate the model\\nscore = mean_absolute_error(y_valid, preds)\\nprint('MAE:', score)\""
      ]
     },
     "execution_count": 15,
     "metadata": {},
     "output_type": "execute_result"
    }
   ],
   "source": [
    "## Old method\n",
    "'''# Preprocessing for numerical data\n",
    "numerical_transformer = SimpleImputer(strategy='median')\n",
    "\n",
    "# Preprocessing for ordinal categorical data\n",
    "ordinal_categorical_transformer = Pipeline(steps=[\n",
    "    ('imputer', SimpleImputer(strategy='most_frequent')),\n",
    "    ('ordinal', OrdinalEncoder())\n",
    "])\n",
    "\n",
    "# Preprocessing for cardinal categorical data\n",
    "cardinal_categorical_transformer = Pipeline(steps=[\n",
    "    ('imputer', SimpleImputer(strategy='most_frequent')),\n",
    "    ('onehot', OneHotEncoder(handle_unknown='ignore'))\n",
    "])\n",
    "\n",
    "# Bundle preprocessing for numerical and categorical data\n",
    "preprocessor = ColumnTransformer(\n",
    "    transformers=[\n",
    "        ('num', numerical_transformer, numerical_cols),\n",
    "        ('cat1', ordinal_categorical_transformer, ordinal_cat_cols),\n",
    "        ('cat2', cardinal_categorical_transformer, list(cardinal_cat_cols))\n",
    "    ])\n",
    "\n",
    "# Define the model\n",
    "model = RandomForestRegressor(n_estimators=100, random_state=0)\n",
    "\n",
    "# Bundle preprocessing and modeling code in a pipeline\n",
    "my_pipeline = Pipeline(steps=[('preprocessor', preprocessor),\n",
    "                              ('model', model)\n",
    "                             ])\n",
    "\n",
    "# Preprocessing of training data, fit model \n",
    "my_pipeline.fit(X_train, y_train)\n",
    "\n",
    "# Preprocessing of validation data, get predictions\n",
    "preds = my_pipeline.predict(X_valid)\n",
    "\n",
    "# Evaluate the model\n",
    "score = mean_absolute_error(y_valid, preds)\n",
    "print('MAE:', score)'''"
   ]
  },
  {
   "cell_type": "code",
   "execution_count": null,
   "id": "a7c329e4",
   "metadata": {
    "papermill": {
     "duration": 0.007762,
     "end_time": "2025-03-06T02:13:48.237952",
     "exception": false,
     "start_time": "2025-03-06T02:13:48.230190",
     "status": "completed"
    },
    "tags": []
   },
   "outputs": [],
   "source": []
  },
  {
   "cell_type": "code",
   "execution_count": null,
   "id": "31a9d868",
   "metadata": {
    "papermill": {
     "duration": 0.007715,
     "end_time": "2025-03-06T02:13:48.253567",
     "exception": false,
     "start_time": "2025-03-06T02:13:48.245852",
     "status": "completed"
    },
    "tags": []
   },
   "outputs": [],
   "source": []
  },
  {
   "cell_type": "code",
   "execution_count": 16,
   "id": "c444077f",
   "metadata": {
    "execution": {
     "iopub.execute_input": "2025-03-06T02:13:48.271113Z",
     "iopub.status.busy": "2025-03-06T02:13:48.270744Z",
     "iopub.status.idle": "2025-03-06T02:13:48.274674Z",
     "shell.execute_reply": "2025-03-06T02:13:48.273551Z"
    },
    "papermill": {
     "duration": 0.014789,
     "end_time": "2025-03-06T02:13:48.276350",
     "exception": false,
     "start_time": "2025-03-06T02:13:48.261561",
     "status": "completed"
    },
    "tags": []
   },
   "outputs": [],
   "source": [
    "# Line below will give you a hint\n",
    "#step_1.b.hint()"
   ]
  },
  {
   "cell_type": "markdown",
   "id": "07453a5b",
   "metadata": {
    "papermill": {
     "duration": 0.007732,
     "end_time": "2025-03-06T02:13:48.292066",
     "exception": false,
     "start_time": "2025-03-06T02:13:48.284334",
     "status": "completed"
    },
    "tags": []
   },
   "source": [
    "# Step 2: Generate test predictions\n",
    "\n",
    "Now, you'll use your trained model to generate predictions with the test data."
   ]
  },
  {
   "cell_type": "code",
   "execution_count": 17,
   "id": "98453991",
   "metadata": {
    "execution": {
     "iopub.execute_input": "2025-03-06T02:13:48.308851Z",
     "iopub.status.busy": "2025-03-06T02:13:48.308467Z",
     "iopub.status.idle": "2025-03-06T02:13:48.374211Z",
     "shell.execute_reply": "2025-03-06T02:13:48.373235Z"
    },
    "papermill": {
     "duration": 0.075988,
     "end_time": "2025-03-06T02:13:48.375886",
     "exception": false,
     "start_time": "2025-03-06T02:13:48.299898",
     "status": "completed"
    },
    "tags": []
   },
   "outputs": [
    {
     "data": {
      "application/javascript": [
       "parent.postMessage({\"jupyterEvent\": \"custom.exercise_interaction\", \"data\": {\"outcomeType\": 1, \"valueTowardsCompletion\": 1.0, \"interactionType\": 1, \"questionType\": 2, \"questionId\": \"2_TestPreds\", \"learnToolsVersion\": \"0.3.4\", \"failureMessage\": \"\", \"exceptionClass\": \"\", \"trace\": \"\"}}, \"*\")"
      ],
      "text/plain": [
       "<IPython.core.display.Javascript object>"
      ]
     },
     "metadata": {},
     "output_type": "display_data"
    },
    {
     "data": {
      "text/markdown": [
       "<span style=\"color:#33cc33\">Correct</span>"
      ],
      "text/plain": [
       "Correct"
      ]
     },
     "metadata": {},
     "output_type": "display_data"
    }
   ],
   "source": [
    "# Preprocessing of test data, fit model\n",
    "preds_test = my_pipeline.predict(X_test) # Your code here\n",
    "\n",
    "# Check your answer\n",
    "step_2.check()"
   ]
  },
  {
   "cell_type": "code",
   "execution_count": 18,
   "id": "2ac4337b",
   "metadata": {
    "execution": {
     "iopub.execute_input": "2025-03-06T02:13:48.393547Z",
     "iopub.status.busy": "2025-03-06T02:13:48.393217Z",
     "iopub.status.idle": "2025-03-06T02:13:48.397190Z",
     "shell.execute_reply": "2025-03-06T02:13:48.396207Z"
    },
    "papermill": {
     "duration": 0.014599,
     "end_time": "2025-03-06T02:13:48.398863",
     "exception": false,
     "start_time": "2025-03-06T02:13:48.384264",
     "status": "completed"
    },
    "tags": []
   },
   "outputs": [],
   "source": [
    "# Lines below will give you a hint or solution code\n",
    "#step_2.hint()\n",
    "#step_2.solution()"
   ]
  },
  {
   "cell_type": "markdown",
   "id": "d78c68e2",
   "metadata": {
    "papermill": {
     "duration": 0.008367,
     "end_time": "2025-03-06T02:13:48.415445",
     "exception": false,
     "start_time": "2025-03-06T02:13:48.407078",
     "status": "completed"
    },
    "tags": []
   },
   "source": [
    "Run the next code cell without changes to save your results to a CSV file that can be submitted directly to the competition."
   ]
  },
  {
   "cell_type": "code",
   "execution_count": 19,
   "id": "cedb9d32",
   "metadata": {
    "execution": {
     "iopub.execute_input": "2025-03-06T02:13:48.432541Z",
     "iopub.status.busy": "2025-03-06T02:13:48.432200Z",
     "iopub.status.idle": "2025-03-06T02:13:48.444702Z",
     "shell.execute_reply": "2025-03-06T02:13:48.443783Z"
    },
    "papermill": {
     "duration": 0.023183,
     "end_time": "2025-03-06T02:13:48.446571",
     "exception": false,
     "start_time": "2025-03-06T02:13:48.423388",
     "status": "completed"
    },
    "tags": []
   },
   "outputs": [],
   "source": [
    "# Save test predictions to file\n",
    "output = pd.DataFrame({'Id': X_test.index,\n",
    "                       'SalePrice': preds_test})\n",
    "output.to_csv('submission.csv', index=False)"
   ]
  },
  {
   "cell_type": "markdown",
   "id": "17a3c5ca",
   "metadata": {
    "papermill": {
     "duration": 0.008032,
     "end_time": "2025-03-06T02:13:48.463396",
     "exception": false,
     "start_time": "2025-03-06T02:13:48.455364",
     "status": "completed"
    },
    "tags": []
   },
   "source": [
    "# Submit your results\n",
    "\n",
    "Once you have successfully completed Step 2, you're ready to submit your results to the leaderboard!  If you choose to do so, make sure that you have already joined the competition by clicking on the **Join Competition** button at [this link](https://www.kaggle.com/c/home-data-for-ml-course).  \n",
    "1. Begin by clicking on the **Save Version** button in the top right corner of the window.  This will generate a pop-up window.  \n",
    "2. Ensure that the **Save and Run All** option is selected, and then click on the **Save** button.\n",
    "3. This generates a window in the bottom left corner of the notebook.  After it has finished running, click on the number to the right of the **Save Version** button.  This pulls up a list of versions on the right of the screen.  Click on the ellipsis **(...)** to the right of the most recent version, and select **Open in Viewer**.  This brings you into view mode of the same page. You will need to scroll down to get back to these instructions.\n",
    "4. Click on the **Data** tab near the top of the screen.  Then, click on the file you would like to submit, and click on the **Submit** button to submit your results to the leaderboard.\n",
    "\n",
    "You have now successfully submitted to the competition!\n",
    "\n",
    "If you want to keep working to improve your performance, select the **Edit** button in the top right of the screen. Then you can change your code and repeat the process. There's a lot of room to improve, and you will climb up the leaderboard as you work.\n",
    "\n",
    "\n",
    "# Keep going\n",
    "\n",
    "Move on to learn about [**cross-validation**](https://www.kaggle.com/alexisbcook/cross-validation), a technique you can use to obtain more accurate estimates of model performance!"
   ]
  },
  {
   "cell_type": "markdown",
   "id": "ff1da7c7",
   "metadata": {
    "papermill": {
     "duration": 0.008165,
     "end_time": "2025-03-06T02:13:48.479699",
     "exception": false,
     "start_time": "2025-03-06T02:13:48.471534",
     "status": "completed"
    },
    "tags": []
   },
   "source": [
    "---\n",
    "\n",
    "\n",
    "\n",
    "\n",
    "*Have questions or comments? Visit the [course discussion forum](https://www.kaggle.com/learn/intermediate-machine-learning/discussion) to chat with other learners.*"
   ]
  }
 ],
 "metadata": {
  "kaggle": {
   "accelerator": "none",
   "dataSources": [
    {
     "databundleVersionId": 111096,
     "sourceId": 10211,
     "sourceType": "competition"
    }
   ],
   "isGpuEnabled": false,
   "isInternetEnabled": false,
   "language": "python",
   "sourceType": "notebook"
  },
  "kernelspec": {
   "display_name": "Python 3",
   "language": "python",
   "name": "python3"
  },
  "language_info": {
   "codemirror_mode": {
    "name": "ipython",
    "version": 3
   },
   "file_extension": ".py",
   "mimetype": "text/x-python",
   "name": "python",
   "nbconvert_exporter": "python",
   "pygments_lexer": "ipython3",
   "version": "3.10.12"
  },
  "papermill": {
   "default_parameters": {},
   "duration": 12.409094,
   "end_time": "2025-03-06T02:13:49.208438",
   "environment_variables": {},
   "exception": null,
   "input_path": "__notebook__.ipynb",
   "output_path": "__notebook__.ipynb",
   "parameters": {},
   "start_time": "2025-03-06T02:13:36.799344",
   "version": "2.6.0"
  }
 },
 "nbformat": 4,
 "nbformat_minor": 5
}
