{
 "cells": [
  {
   "cell_type": "markdown",
   "id": "8da116a7",
   "metadata": {
    "papermill": {
     "duration": 0.008204,
     "end_time": "2025-02-23T20:08:35.788867",
     "exception": false,
     "start_time": "2025-02-23T20:08:35.780663",
     "status": "completed"
    },
    "tags": []
   },
   "source": [
    "**This notebook is an exercise in the [Time Series](https://www.kaggle.com/learn/time-series) course.  You can reference the tutorial at [this link](https://www.kaggle.com/ryanholbrook/forecasting-with-machine-learning).**\n",
    "\n",
    "---\n"
   ]
  },
  {
   "cell_type": "markdown",
   "id": "88232273",
   "metadata": {
    "papermill": {
     "duration": 0.00705,
     "end_time": "2025-02-23T20:08:35.803601",
     "exception": false,
     "start_time": "2025-02-23T20:08:35.796551",
     "status": "completed"
    },
    "tags": []
   },
   "source": [
    "# Introduction #\n",
    "\n",
    "Run this cell to set everything up!"
   ]
  },
  {
   "cell_type": "code",
   "execution_count": 1,
   "id": "68545674",
   "metadata": {
    "execution": {
     "iopub.execute_input": "2025-02-23T20:08:35.820083Z",
     "iopub.status.busy": "2025-02-23T20:08:35.819576Z",
     "iopub.status.idle": "2025-02-23T20:09:07.116394Z",
     "shell.execute_reply": "2025-02-23T20:09:07.115286Z"
    },
    "papermill": {
     "duration": 31.307635,
     "end_time": "2025-02-23T20:09:07.118528",
     "exception": false,
     "start_time": "2025-02-23T20:08:35.810893",
     "status": "completed"
    },
    "tags": []
   },
   "outputs": [
    {
     "name": "stderr",
     "output_type": "stream",
     "text": [
      "/usr/local/lib/python3.10/dist-packages/learntools/time_series/checking_utils.py:16: FutureWarning: The argument 'infer_datetime_format' is deprecated and will be removed in a future version. A strict version of it is now the default, see https://pandas.pydata.org/pdeps/0004-consistent-to-datetime-parsing.html. You can safely remove this argument.\n",
      "  store_sales = pd.read_csv(\n",
      "/usr/local/lib/python3.10/dist-packages/learntools/time_series/checking_utils.py:36: FutureWarning: The default of observed=False is deprecated and will be changed to True in a future version of pandas. Pass observed=False to retain current behavior or observed=True to adopt the future default and silence this warning.\n",
      "  .groupby(['family', 'date'])  #\n"
     ]
    }
   ],
   "source": [
    "# Setup feedback system\n",
    "from learntools.core import binder\n",
    "binder.bind(globals())\n",
    "from learntools.time_series.ex6 import *\n",
    "\n",
    "# Setup notebook\n",
    "from pathlib import Path\n",
    "import ipywidgets as widgets\n",
    "from learntools.time_series.style import *  # plot style settings\n",
    "from learntools.time_series.utils import (create_multistep_example,\n",
    "                                          load_multistep_data,\n",
    "                                          make_lags,\n",
    "                                          make_multistep_target,\n",
    "                                          plot_multistep)\n",
    "\n",
    "import pandas as pd\n",
    "import matplotlib.pyplot as plt\n",
    "from sklearn.linear_model import LinearRegression\n",
    "from sklearn.multioutput import RegressorChain\n",
    "from sklearn.preprocessing import LabelEncoder\n",
    "from xgboost import XGBRegressor\n",
    "\n",
    "\n",
    "comp_dir = Path('../input/store-sales-time-series-forecasting')\n",
    "\n",
    "store_sales = pd.read_csv(\n",
    "    comp_dir / 'train.csv',\n",
    "    usecols=['store_nbr', 'family', 'date', 'sales', 'onpromotion'],\n",
    "    dtype={\n",
    "        'store_nbr': 'category',\n",
    "        'family': 'category',\n",
    "        'sales': 'float32',\n",
    "        'onpromotion': 'uint32',\n",
    "    },\n",
    "    parse_dates=['date'],\n",
    "    infer_datetime_format=True,\n",
    ")\n",
    "store_sales['date'] = store_sales.date.dt.to_period('D')\n",
    "store_sales = store_sales.set_index(['store_nbr', 'family', 'date']).sort_index()\n",
    "\n",
    "family_sales = (\n",
    "    store_sales\n",
    "    .groupby(['family', 'date'])\n",
    "    .mean()\n",
    "    .unstack('family')\n",
    "    .loc['2017']\n",
    ")\n",
    "\n",
    "test = pd.read_csv(\n",
    "    comp_dir / 'test.csv',\n",
    "    dtype={\n",
    "        'store_nbr': 'category',\n",
    "        'family': 'category',\n",
    "        'onpromotion': 'uint32',\n",
    "    },\n",
    "    parse_dates=['date'],\n",
    "    infer_datetime_format=True,\n",
    ")\n",
    "test['date'] = test.date.dt.to_period('D')\n",
    "test = test.set_index(['store_nbr', 'family', 'date']).sort_index()"
   ]
  },
  {
   "cell_type": "markdown",
   "id": "d6125a61",
   "metadata": {
    "papermill": {
     "duration": 0.007165,
     "end_time": "2025-02-23T20:09:07.133769",
     "exception": false,
     "start_time": "2025-02-23T20:09:07.126604",
     "status": "completed"
    },
    "tags": []
   },
   "source": [
    "-------------------------------------------------------------------------------\n",
    "\n",
    "Consider the following three forecasting tasks:\n",
    "\n",
    "a. 3-step forecast using 4 lag features with a 2-step lead time<br>\n",
    "b. 1-step forecast using 3 lag features with a 1-step lead time<br>\n",
    "c. 3-step forecast using 4 lag features with a 1-step lead time<br>\n",
    "\n",
    "Run the next cell to see three datasets, each representing one of the tasks above."
   ]
  },
  {
   "cell_type": "code",
   "execution_count": 2,
   "id": "021466b9",
   "metadata": {
    "execution": {
     "iopub.execute_input": "2025-02-23T20:09:07.150455Z",
     "iopub.status.busy": "2025-02-23T20:09:07.150050Z",
     "iopub.status.idle": "2025-02-23T20:09:07.320846Z",
     "shell.execute_reply": "2025-02-23T20:09:07.319811Z"
    },
    "papermill": {
     "duration": 0.181156,
     "end_time": "2025-02-23T20:09:07.322500",
     "exception": false,
     "start_time": "2025-02-23T20:09:07.141344",
     "status": "completed"
    },
    "tags": []
   },
   "outputs": [
    {
     "data": {
      "application/vnd.jupyter.widget-view+json": {
       "model_id": "7cd89c92fa3c4a8bbe42e99136cbcf9d",
       "version_major": 2,
       "version_minor": 0
      },
      "text/plain": [
       "Tab(children=(Output(), Output(), Output()), selected_index=0, titles=('Dataset 1', 'Dataset 2', 'Dataset 3'))"
      ]
     },
     "metadata": {},
     "output_type": "display_data"
    }
   ],
   "source": [
    "datasets = load_multistep_data()\n",
    "\n",
    "data_tabs = widgets.Tab([widgets.Output() for _ in enumerate(datasets)])\n",
    "for i, df in enumerate(datasets):\n",
    "    data_tabs.set_title(i, f'Dataset {i+1}')\n",
    "    with data_tabs.children[i]:\n",
    "        display(df)\n",
    "\n",
    "display(data_tabs)"
   ]
  },
  {
   "cell_type": "markdown",
   "id": "ce306e48",
   "metadata": {
    "papermill": {
     "duration": 0.007348,
     "end_time": "2025-02-23T20:09:07.340565",
     "exception": false,
     "start_time": "2025-02-23T20:09:07.333217",
     "status": "completed"
    },
    "tags": []
   },
   "source": [
    "# 1) Match description to dataset\n",
    "\n",
    "Can you match each task to the appropriate dataset?"
   ]
  },
  {
   "cell_type": "code",
   "execution_count": 3,
   "id": "2330e02f",
   "metadata": {
    "execution": {
     "iopub.execute_input": "2025-02-23T20:09:07.357469Z",
     "iopub.status.busy": "2025-02-23T20:09:07.357076Z",
     "iopub.status.idle": "2025-02-23T20:09:07.364693Z",
     "shell.execute_reply": "2025-02-23T20:09:07.363657Z"
    },
    "papermill": {
     "duration": 0.018255,
     "end_time": "2025-02-23T20:09:07.366537",
     "exception": false,
     "start_time": "2025-02-23T20:09:07.348282",
     "status": "completed"
    },
    "tags": []
   },
   "outputs": [
    {
     "data": {
      "application/javascript": [
       "parent.postMessage({\"jupyterEvent\": \"custom.exercise_interaction\", \"data\": {\"outcomeType\": 1, \"valueTowardsCompletion\": 0.25, \"interactionType\": 1, \"questionType\": 1, \"questionId\": \"1_Q1\", \"learnToolsVersion\": \"0.3.4\", \"failureMessage\": \"\", \"exceptionClass\": \"\", \"trace\": \"\"}}, \"*\")"
      ],
      "text/plain": [
       "<IPython.core.display.Javascript object>"
      ]
     },
     "metadata": {},
     "output_type": "display_data"
    },
    {
     "data": {
      "text/markdown": [
       "<span style=\"color:#33cc33\">Correct</span>"
      ],
      "text/plain": [
       "Correct"
      ]
     },
     "metadata": {},
     "output_type": "display_data"
    }
   ],
   "source": [
    "# YOUR CODE HERE: Match the task to the dataset. Answer 1, 2, or 3.\n",
    "task_a = 2\n",
    "task_b = 1\n",
    "task_c = 3\n",
    "\n",
    "# Check your answer\n",
    "q_1.check()"
   ]
  },
  {
   "cell_type": "code",
   "execution_count": 4,
   "id": "741d06d9",
   "metadata": {
    "execution": {
     "iopub.execute_input": "2025-02-23T20:09:07.384621Z",
     "iopub.status.busy": "2025-02-23T20:09:07.384245Z",
     "iopub.status.idle": "2025-02-23T20:09:07.388047Z",
     "shell.execute_reply": "2025-02-23T20:09:07.387074Z"
    },
    "papermill": {
     "duration": 0.014704,
     "end_time": "2025-02-23T20:09:07.389675",
     "exception": false,
     "start_time": "2025-02-23T20:09:07.374971",
     "status": "completed"
    },
    "tags": []
   },
   "outputs": [],
   "source": [
    "# Lines below will give you a hint or solution code\n",
    "#q_1.hint()\n",
    "#q_1.solution()"
   ]
  },
  {
   "cell_type": "markdown",
   "id": "37608d0b",
   "metadata": {
    "papermill": {
     "duration": 0.007725,
     "end_time": "2025-02-23T20:09:07.405648",
     "exception": false,
     "start_time": "2025-02-23T20:09:07.397923",
     "status": "completed"
    },
    "tags": []
   },
   "source": [
    "-------------------------------------------------------------------------------\n",
    "\n",
    "Look at the time indexes of the training and test sets. From this information, can you identify the forecasting task for *Store Sales*?"
   ]
  },
  {
   "cell_type": "code",
   "execution_count": 5,
   "id": "308588ba",
   "metadata": {
    "execution": {
     "iopub.execute_input": "2025-02-23T20:09:07.423052Z",
     "iopub.status.busy": "2025-02-23T20:09:07.422702Z",
     "iopub.status.idle": "2025-02-23T20:09:07.441503Z",
     "shell.execute_reply": "2025-02-23T20:09:07.439919Z"
    },
    "papermill": {
     "duration": 0.029942,
     "end_time": "2025-02-23T20:09:07.443588",
     "exception": false,
     "start_time": "2025-02-23T20:09:07.413646",
     "status": "completed"
    },
    "tags": []
   },
   "outputs": [
    {
     "name": "stdout",
     "output_type": "stream",
     "text": [
      "Training Data \n",
      "-------------\n",
      "                                      sales  onpromotion\n",
      "store_nbr family     date                              \n",
      "1         AUTOMOTIVE 2013-01-01   0.000000            0\n",
      "                     2013-01-02   2.000000            0\n",
      "                     2013-01-03   3.000000            0\n",
      "                     2013-01-04   3.000000            0\n",
      "                     2013-01-05   5.000000            0\n",
      "...                                    ...          ...\n",
      "9         SEAFOOD    2017-08-11  23.830999            0\n",
      "                     2017-08-12  16.859001            4\n",
      "                     2017-08-13  20.000000            0\n",
      "                     2017-08-14  17.000000            0\n",
      "                     2017-08-15  16.000000            0\n",
      "\n",
      "[3000888 rows x 2 columns]\n",
      "\n",
      "\n",
      "Test Data \n",
      "---------\n",
      "                                       id  onpromotion\n",
      "store_nbr family     date                            \n",
      "1         AUTOMOTIVE 2017-08-16  3000888            0\n",
      "                     2017-08-17  3002670            0\n",
      "                     2017-08-18  3004452            0\n",
      "                     2017-08-19  3006234            0\n",
      "                     2017-08-20  3008016            0\n",
      "...                                  ...          ...\n",
      "9         SEAFOOD    2017-08-27  3022271            0\n",
      "                     2017-08-28  3024053            0\n",
      "                     2017-08-29  3025835            0\n",
      "                     2017-08-30  3027617            0\n",
      "                     2017-08-31  3029399            0\n",
      "\n",
      "[28512 rows x 2 columns]\n"
     ]
    }
   ],
   "source": [
    "print(\"Training Data\", \"\\n\" + \"-\" * 13 + \"\\n\", store_sales)\n",
    "print(\"\\n\")\n",
    "print(\"Test Data\", \"\\n\" + \"-\" * 9 + \"\\n\", test)"
   ]
  },
  {
   "cell_type": "markdown",
   "id": "d4e93033",
   "metadata": {
    "papermill": {
     "duration": 0.007792,
     "end_time": "2025-02-23T20:09:07.459798",
     "exception": false,
     "start_time": "2025-02-23T20:09:07.452006",
     "status": "completed"
    },
    "tags": []
   },
   "source": [
    "# 2) Identify the forecasting task for *Store Sales* competition\n",
    "\n",
    "Try to identify the *forecast origin* and the *forecast horizon*. How many steps are within the forecast horizon? What is the lead time for the forecast?\n",
    "\n",
    "Run this cell after you've thought about your answer."
   ]
  },
  {
   "cell_type": "code",
   "execution_count": 6,
   "id": "407d46d1",
   "metadata": {
    "execution": {
     "iopub.execute_input": "2025-02-23T20:09:07.477239Z",
     "iopub.status.busy": "2025-02-23T20:09:07.476826Z",
     "iopub.status.idle": "2025-02-23T20:09:07.484907Z",
     "shell.execute_reply": "2025-02-23T20:09:07.483826Z"
    },
    "papermill": {
     "duration": 0.018836,
     "end_time": "2025-02-23T20:09:07.486611",
     "exception": false,
     "start_time": "2025-02-23T20:09:07.467775",
     "status": "completed"
    },
    "tags": []
   },
   "outputs": [
    {
     "data": {
      "application/javascript": [
       "parent.postMessage({\"jupyterEvent\": \"custom.exercise_interaction\", \"data\": {\"outcomeType\": 1, \"valueTowardsCompletion\": 0.25, \"interactionType\": 1, \"questionType\": 4, \"questionId\": \"2_Q2\", \"learnToolsVersion\": \"0.3.4\", \"failureMessage\": \"\", \"exceptionClass\": \"\", \"trace\": \"\"}}, \"*\")"
      ],
      "text/plain": [
       "<IPython.core.display.Javascript object>"
      ]
     },
     "metadata": {},
     "output_type": "display_data"
    },
    {
     "data": {
      "text/markdown": [
       "<span style=\"color:#33cc33\">Correct:</span> \n",
       "\n",
       "The training set ends on `2017-08-15`, which gives us the forecast origin. The test set comprises the dates `2017-08-16` to `2017-08-31`, and this gives us the forecast horizon. There is one step between the origin and horizon, so we have a lead time of one day.\n",
       "\n",
       "Put another way, we need a 16-step forecast with a 1-step lead time. We can use lags starting with lag 1, and we make the entire 16-step forecast using features from `2017-08-15`.\n"
      ],
      "text/plain": [
       "Correct: \n",
       "\n",
       "The training set ends on `2017-08-15`, which gives us the forecast origin. The test set comprises the dates `2017-08-16` to `2017-08-31`, and this gives us the forecast horizon. There is one step between the origin and horizon, so we have a lead time of one day.\n",
       "\n",
       "Put another way, we need a 16-step forecast with a 1-step lead time. We can use lags starting with lag 1, and we make the entire 16-step forecast using features from `2017-08-15`."
      ]
     },
     "metadata": {},
     "output_type": "display_data"
    }
   ],
   "source": [
    "# View the solution (Run this cell to receive credit!)\n",
    "q_2.check()"
   ]
  },
  {
   "cell_type": "markdown",
   "id": "ff01ca3a",
   "metadata": {
    "papermill": {
     "duration": 0.008611,
     "end_time": "2025-02-23T20:09:07.503822",
     "exception": false,
     "start_time": "2025-02-23T20:09:07.495211",
     "status": "completed"
    },
    "tags": []
   },
   "source": [
    "-------------------------------------------------------------------------------\n",
    "\n",
    "In the tutorial we saw how to create a multistep dataset for a single time series. Fortunately, we can use exactly the same procedure for datasets of multiple series.\n",
    "\n",
    "# 3) Create multistep dataset for *Store Sales*\n",
    "\n",
    "Create targets suitable for the *Store Sales* forecasting task. Use 4 days of lag features. Drop any missing values from both targets and features."
   ]
  },
  {
   "cell_type": "code",
   "execution_count": 7,
   "id": "ce702b0d",
   "metadata": {
    "execution": {
     "iopub.execute_input": "2025-02-23T20:09:07.523218Z",
     "iopub.status.busy": "2025-02-23T20:09:07.522821Z",
     "iopub.status.idle": "2025-02-23T20:09:07.543635Z",
     "shell.execute_reply": "2025-02-23T20:09:07.542556Z"
    },
    "papermill": {
     "duration": 0.032673,
     "end_time": "2025-02-23T20:09:07.545315",
     "exception": false,
     "start_time": "2025-02-23T20:09:07.512642",
     "status": "completed"
    },
    "tags": []
   },
   "outputs": [
    {
     "data": {
      "application/javascript": [
       "parent.postMessage({\"jupyterEvent\": \"custom.exercise_interaction\", \"data\": {\"outcomeType\": 1, \"valueTowardsCompletion\": 0.25, \"interactionType\": 1, \"questionType\": 1, \"questionId\": \"3_Q3\", \"learnToolsVersion\": \"0.3.4\", \"failureMessage\": \"\", \"exceptionClass\": \"\", \"trace\": \"\"}}, \"*\")"
      ],
      "text/plain": [
       "<IPython.core.display.Javascript object>"
      ]
     },
     "metadata": {},
     "output_type": "display_data"
    },
    {
     "data": {
      "text/markdown": [
       "<span style=\"color:#33cc33\">Correct</span>"
      ],
      "text/plain": [
       "Correct"
      ]
     },
     "metadata": {},
     "output_type": "display_data"
    }
   ],
   "source": [
    "# YOUR CODE HERE\n",
    "y = family_sales.loc[:, 'sales']\n",
    "\n",
    "# YOUR CODE HERE: Make 4 lag features\n",
    "X = make_lags(y, lags=4).dropna()\n",
    "\n",
    "# YOUR CODE HERE: Make multistep target\n",
    "y = make_multistep_target(y,steps=16).dropna()\n",
    "\n",
    "y, X = y.align(X, join='inner', axis=0)\n",
    "\n",
    "# Check your answer\n",
    "q_3.check()"
   ]
  },
  {
   "cell_type": "code",
   "execution_count": 8,
   "id": "95e0e5e2",
   "metadata": {
    "execution": {
     "iopub.execute_input": "2025-02-23T20:09:07.563916Z",
     "iopub.status.busy": "2025-02-23T20:09:07.563579Z",
     "iopub.status.idle": "2025-02-23T20:09:07.567545Z",
     "shell.execute_reply": "2025-02-23T20:09:07.566604Z"
    },
    "papermill": {
     "duration": 0.015169,
     "end_time": "2025-02-23T20:09:07.569236",
     "exception": false,
     "start_time": "2025-02-23T20:09:07.554067",
     "status": "completed"
    },
    "tags": []
   },
   "outputs": [],
   "source": [
    "# Lines below will give you a hint or solution code\n",
    "# q_3.hint()\n",
    "#q_3.solution()"
   ]
  },
  {
   "cell_type": "markdown",
   "id": "741f70d3",
   "metadata": {
    "papermill": {
     "duration": 0.008358,
     "end_time": "2025-02-23T20:09:07.586183",
     "exception": false,
     "start_time": "2025-02-23T20:09:07.577825",
     "status": "completed"
    },
    "tags": []
   },
   "source": [
    "-------------------------------------------------------------------------------\n",
    "\n",
    "In the tutorial, we saw how to forecast with the MultiOutput and Direct strategies on the *Flu Trends* series. Now, you'll apply the DirRec strategy to the multiple time series of *Store Sales*.\n",
    "\n",
    "Make sure you've successfully completed the previous exercise and then run this cell to prepare the data for XGBoost."
   ]
  },
  {
   "cell_type": "code",
   "execution_count": 9,
   "id": "c605891e",
   "metadata": {
    "execution": {
     "iopub.execute_input": "2025-02-23T20:09:07.606028Z",
     "iopub.status.busy": "2025-02-23T20:09:07.605685Z",
     "iopub.status.idle": "2025-02-23T20:09:07.655605Z",
     "shell.execute_reply": "2025-02-23T20:09:07.654465Z"
    },
    "papermill": {
     "duration": 0.062666,
     "end_time": "2025-02-23T20:09:07.657565",
     "exception": false,
     "start_time": "2025-02-23T20:09:07.594899",
     "status": "completed"
    },
    "tags": []
   },
   "outputs": [
    {
     "data": {
      "text/html": [
       "<div>\n",
       "<style scoped>\n",
       "    .dataframe tbody tr th:only-of-type {\n",
       "        vertical-align: middle;\n",
       "    }\n",
       "\n",
       "    .dataframe tbody tr th {\n",
       "        vertical-align: top;\n",
       "    }\n",
       "\n",
       "    .dataframe thead th {\n",
       "        text-align: right;\n",
       "    }\n",
       "</style>\n",
       "<table border=\"1\" class=\"dataframe\">\n",
       "  <thead>\n",
       "    <tr style=\"text-align: right;\">\n",
       "      <th></th>\n",
       "      <th></th>\n",
       "      <th>y_step_1</th>\n",
       "      <th>y_step_2</th>\n",
       "      <th>y_step_3</th>\n",
       "      <th>y_step_4</th>\n",
       "      <th>y_step_5</th>\n",
       "      <th>y_step_6</th>\n",
       "      <th>y_step_7</th>\n",
       "      <th>y_step_8</th>\n",
       "      <th>y_step_9</th>\n",
       "      <th>y_step_10</th>\n",
       "      <th>y_step_11</th>\n",
       "      <th>y_step_12</th>\n",
       "      <th>y_step_13</th>\n",
       "      <th>y_step_14</th>\n",
       "      <th>y_step_15</th>\n",
       "      <th>y_step_16</th>\n",
       "    </tr>\n",
       "    <tr>\n",
       "      <th>date</th>\n",
       "      <th>family</th>\n",
       "      <th></th>\n",
       "      <th></th>\n",
       "      <th></th>\n",
       "      <th></th>\n",
       "      <th></th>\n",
       "      <th></th>\n",
       "      <th></th>\n",
       "      <th></th>\n",
       "      <th></th>\n",
       "      <th></th>\n",
       "      <th></th>\n",
       "      <th></th>\n",
       "      <th></th>\n",
       "      <th></th>\n",
       "      <th></th>\n",
       "      <th></th>\n",
       "    </tr>\n",
       "  </thead>\n",
       "  <tbody>\n",
       "    <tr>\n",
       "      <th rowspan=\"5\" valign=\"top\">2017-01-05</th>\n",
       "      <th>AUTOMOTIVE</th>\n",
       "      <td>6.333333</td>\n",
       "      <td>6.018518</td>\n",
       "      <td>10.259259</td>\n",
       "      <td>9.388889</td>\n",
       "      <td>5.944445</td>\n",
       "      <td>4.777778</td>\n",
       "      <td>6.314815</td>\n",
       "      <td>5.388889</td>\n",
       "      <td>5.240741</td>\n",
       "      <td>8.500000</td>\n",
       "      <td>10.259259</td>\n",
       "      <td>6.407407</td>\n",
       "      <td>5.685185</td>\n",
       "      <td>5.703704</td>\n",
       "      <td>4.777778</td>\n",
       "      <td>5.148148</td>\n",
       "    </tr>\n",
       "    <tr>\n",
       "      <th>BABY CARE</th>\n",
       "      <td>0.351852</td>\n",
       "      <td>0.277778</td>\n",
       "      <td>0.259259</td>\n",
       "      <td>0.240741</td>\n",
       "      <td>0.444444</td>\n",
       "      <td>0.240741</td>\n",
       "      <td>0.277778</td>\n",
       "      <td>0.296296</td>\n",
       "      <td>0.296296</td>\n",
       "      <td>0.388889</td>\n",
       "      <td>0.425926</td>\n",
       "      <td>0.314815</td>\n",
       "      <td>0.166667</td>\n",
       "      <td>0.222222</td>\n",
       "      <td>0.129630</td>\n",
       "      <td>0.166667</td>\n",
       "    </tr>\n",
       "    <tr>\n",
       "      <th>BEAUTY</th>\n",
       "      <td>5.925926</td>\n",
       "      <td>6.518518</td>\n",
       "      <td>10.037037</td>\n",
       "      <td>11.611111</td>\n",
       "      <td>5.648148</td>\n",
       "      <td>6.500000</td>\n",
       "      <td>5.277778</td>\n",
       "      <td>4.370370</td>\n",
       "      <td>4.703704</td>\n",
       "      <td>7.777778</td>\n",
       "      <td>9.037037</td>\n",
       "      <td>5.648148</td>\n",
       "      <td>5.351852</td>\n",
       "      <td>4.740741</td>\n",
       "      <td>3.981482</td>\n",
       "      <td>4.592593</td>\n",
       "    </tr>\n",
       "    <tr>\n",
       "      <th>BEVERAGES</th>\n",
       "      <td>3258.796387</td>\n",
       "      <td>3507.277832</td>\n",
       "      <td>4848.518555</td>\n",
       "      <td>5503.647949</td>\n",
       "      <td>3448.203613</td>\n",
       "      <td>3171.740723</td>\n",
       "      <td>3046.870361</td>\n",
       "      <td>2693.722168</td>\n",
       "      <td>3226.037109</td>\n",
       "      <td>4667.296387</td>\n",
       "      <td>5580.611328</td>\n",
       "      <td>3700.370361</td>\n",
       "      <td>3409.796387</td>\n",
       "      <td>3263.462891</td>\n",
       "      <td>2676.573975</td>\n",
       "      <td>3003.555664</td>\n",
       "    </tr>\n",
       "    <tr>\n",
       "      <th>BOOKS</th>\n",
       "      <td>0.407407</td>\n",
       "      <td>0.537037</td>\n",
       "      <td>0.481481</td>\n",
       "      <td>0.722222</td>\n",
       "      <td>0.500000</td>\n",
       "      <td>0.518519</td>\n",
       "      <td>0.481481</td>\n",
       "      <td>0.388889</td>\n",
       "      <td>0.444444</td>\n",
       "      <td>0.574074</td>\n",
       "      <td>0.555556</td>\n",
       "      <td>0.388889</td>\n",
       "      <td>0.500000</td>\n",
       "      <td>0.407407</td>\n",
       "      <td>0.277778</td>\n",
       "      <td>0.351852</td>\n",
       "    </tr>\n",
       "    <tr>\n",
       "      <th>...</th>\n",
       "      <th>...</th>\n",
       "      <td>...</td>\n",
       "      <td>...</td>\n",
       "      <td>...</td>\n",
       "      <td>...</td>\n",
       "      <td>...</td>\n",
       "      <td>...</td>\n",
       "      <td>...</td>\n",
       "      <td>...</td>\n",
       "      <td>...</td>\n",
       "      <td>...</td>\n",
       "      <td>...</td>\n",
       "      <td>...</td>\n",
       "      <td>...</td>\n",
       "      <td>...</td>\n",
       "      <td>...</td>\n",
       "      <td>...</td>\n",
       "    </tr>\n",
       "    <tr>\n",
       "      <th rowspan=\"5\" valign=\"top\">2017-07-31</th>\n",
       "      <th>POULTRY</th>\n",
       "      <td>364.955658</td>\n",
       "      <td>403.601349</td>\n",
       "      <td>377.313995</td>\n",
       "      <td>316.436096</td>\n",
       "      <td>533.497009</td>\n",
       "      <td>416.454041</td>\n",
       "      <td>464.596558</td>\n",
       "      <td>344.051758</td>\n",
       "      <td>313.780884</td>\n",
       "      <td>305.270233</td>\n",
       "      <td>278.819885</td>\n",
       "      <td>468.857391</td>\n",
       "      <td>354.342773</td>\n",
       "      <td>379.801208</td>\n",
       "      <td>344.398285</td>\n",
       "      <td>325.679840</td>\n",
       "    </tr>\n",
       "    <tr>\n",
       "      <th>PREPARED FOODS</th>\n",
       "      <td>84.698647</td>\n",
       "      <td>87.836800</td>\n",
       "      <td>88.735970</td>\n",
       "      <td>77.172997</td>\n",
       "      <td>91.886765</td>\n",
       "      <td>100.384964</td>\n",
       "      <td>102.248146</td>\n",
       "      <td>86.627441</td>\n",
       "      <td>77.344131</td>\n",
       "      <td>84.796539</td>\n",
       "      <td>78.791443</td>\n",
       "      <td>96.286926</td>\n",
       "      <td>84.693810</td>\n",
       "      <td>91.509422</td>\n",
       "      <td>86.062500</td>\n",
       "      <td>85.954132</td>\n",
       "    </tr>\n",
       "    <tr>\n",
       "      <th>PRODUCE</th>\n",
       "      <td>2257.140625</td>\n",
       "      <td>2609.180176</td>\n",
       "      <td>3122.895752</td>\n",
       "      <td>1792.220947</td>\n",
       "      <td>2079.319336</td>\n",
       "      <td>2418.970215</td>\n",
       "      <td>2675.105957</td>\n",
       "      <td>2111.133301</td>\n",
       "      <td>2168.535400</td>\n",
       "      <td>2663.076416</td>\n",
       "      <td>1670.264893</td>\n",
       "      <td>2198.854492</td>\n",
       "      <td>2070.154541</td>\n",
       "      <td>2331.922363</td>\n",
       "      <td>2134.399902</td>\n",
       "      <td>2316.832764</td>\n",
       "    </tr>\n",
       "    <tr>\n",
       "      <th>SCHOOL AND OFFICE SUPPLIES</th>\n",
       "      <td>30.111111</td>\n",
       "      <td>49.333332</td>\n",
       "      <td>57.481480</td>\n",
       "      <td>51.907406</td>\n",
       "      <td>63.222221</td>\n",
       "      <td>85.203705</td>\n",
       "      <td>100.277779</td>\n",
       "      <td>64.407410</td>\n",
       "      <td>59.759258</td>\n",
       "      <td>53.740742</td>\n",
       "      <td>42.962963</td>\n",
       "      <td>65.240738</td>\n",
       "      <td>67.481483</td>\n",
       "      <td>68.851852</td>\n",
       "      <td>52.333332</td>\n",
       "      <td>46.851852</td>\n",
       "    </tr>\n",
       "    <tr>\n",
       "      <th>SEAFOOD</th>\n",
       "      <td>20.488333</td>\n",
       "      <td>20.346851</td>\n",
       "      <td>20.801037</td>\n",
       "      <td>17.116297</td>\n",
       "      <td>25.553965</td>\n",
       "      <td>24.209518</td>\n",
       "      <td>23.512852</td>\n",
       "      <td>18.419851</td>\n",
       "      <td>18.481131</td>\n",
       "      <td>18.181425</td>\n",
       "      <td>13.284463</td>\n",
       "      <td>23.566963</td>\n",
       "      <td>19.037594</td>\n",
       "      <td>20.704575</td>\n",
       "      <td>17.975555</td>\n",
       "      <td>17.966240</td>\n",
       "    </tr>\n",
       "  </tbody>\n",
       "</table>\n",
       "<p>6864 rows × 16 columns</p>\n",
       "</div>"
      ],
      "text/plain": [
       "                                          y_step_1     y_step_2     y_step_3  \\\n",
       "date       family                                                              \n",
       "2017-01-05 AUTOMOTIVE                     6.333333     6.018518    10.259259   \n",
       "           BABY CARE                      0.351852     0.277778     0.259259   \n",
       "           BEAUTY                         5.925926     6.518518    10.037037   \n",
       "           BEVERAGES                   3258.796387  3507.277832  4848.518555   \n",
       "           BOOKS                          0.407407     0.537037     0.481481   \n",
       "...                                            ...          ...          ...   \n",
       "2017-07-31 POULTRY                      364.955658   403.601349   377.313995   \n",
       "           PREPARED FOODS                84.698647    87.836800    88.735970   \n",
       "           PRODUCE                     2257.140625  2609.180176  3122.895752   \n",
       "           SCHOOL AND OFFICE SUPPLIES    30.111111    49.333332    57.481480   \n",
       "           SEAFOOD                       20.488333    20.346851    20.801037   \n",
       "\n",
       "                                          y_step_4     y_step_5     y_step_6  \\\n",
       "date       family                                                              \n",
       "2017-01-05 AUTOMOTIVE                     9.388889     5.944445     4.777778   \n",
       "           BABY CARE                      0.240741     0.444444     0.240741   \n",
       "           BEAUTY                        11.611111     5.648148     6.500000   \n",
       "           BEVERAGES                   5503.647949  3448.203613  3171.740723   \n",
       "           BOOKS                          0.722222     0.500000     0.518519   \n",
       "...                                            ...          ...          ...   \n",
       "2017-07-31 POULTRY                      316.436096   533.497009   416.454041   \n",
       "           PREPARED FOODS                77.172997    91.886765   100.384964   \n",
       "           PRODUCE                     1792.220947  2079.319336  2418.970215   \n",
       "           SCHOOL AND OFFICE SUPPLIES    51.907406    63.222221    85.203705   \n",
       "           SEAFOOD                       17.116297    25.553965    24.209518   \n",
       "\n",
       "                                          y_step_7     y_step_8     y_step_9  \\\n",
       "date       family                                                              \n",
       "2017-01-05 AUTOMOTIVE                     6.314815     5.388889     5.240741   \n",
       "           BABY CARE                      0.277778     0.296296     0.296296   \n",
       "           BEAUTY                         5.277778     4.370370     4.703704   \n",
       "           BEVERAGES                   3046.870361  2693.722168  3226.037109   \n",
       "           BOOKS                          0.481481     0.388889     0.444444   \n",
       "...                                            ...          ...          ...   \n",
       "2017-07-31 POULTRY                      464.596558   344.051758   313.780884   \n",
       "           PREPARED FOODS               102.248146    86.627441    77.344131   \n",
       "           PRODUCE                     2675.105957  2111.133301  2168.535400   \n",
       "           SCHOOL AND OFFICE SUPPLIES   100.277779    64.407410    59.759258   \n",
       "           SEAFOOD                       23.512852    18.419851    18.481131   \n",
       "\n",
       "                                         y_step_10    y_step_11    y_step_12  \\\n",
       "date       family                                                              \n",
       "2017-01-05 AUTOMOTIVE                     8.500000    10.259259     6.407407   \n",
       "           BABY CARE                      0.388889     0.425926     0.314815   \n",
       "           BEAUTY                         7.777778     9.037037     5.648148   \n",
       "           BEVERAGES                   4667.296387  5580.611328  3700.370361   \n",
       "           BOOKS                          0.574074     0.555556     0.388889   \n",
       "...                                            ...          ...          ...   \n",
       "2017-07-31 POULTRY                      305.270233   278.819885   468.857391   \n",
       "           PREPARED FOODS                84.796539    78.791443    96.286926   \n",
       "           PRODUCE                     2663.076416  1670.264893  2198.854492   \n",
       "           SCHOOL AND OFFICE SUPPLIES    53.740742    42.962963    65.240738   \n",
       "           SEAFOOD                       18.181425    13.284463    23.566963   \n",
       "\n",
       "                                         y_step_13    y_step_14    y_step_15  \\\n",
       "date       family                                                              \n",
       "2017-01-05 AUTOMOTIVE                     5.685185     5.703704     4.777778   \n",
       "           BABY CARE                      0.166667     0.222222     0.129630   \n",
       "           BEAUTY                         5.351852     4.740741     3.981482   \n",
       "           BEVERAGES                   3409.796387  3263.462891  2676.573975   \n",
       "           BOOKS                          0.500000     0.407407     0.277778   \n",
       "...                                            ...          ...          ...   \n",
       "2017-07-31 POULTRY                      354.342773   379.801208   344.398285   \n",
       "           PREPARED FOODS                84.693810    91.509422    86.062500   \n",
       "           PRODUCE                     2070.154541  2331.922363  2134.399902   \n",
       "           SCHOOL AND OFFICE SUPPLIES    67.481483    68.851852    52.333332   \n",
       "           SEAFOOD                       19.037594    20.704575    17.975555   \n",
       "\n",
       "                                         y_step_16  \n",
       "date       family                                   \n",
       "2017-01-05 AUTOMOTIVE                     5.148148  \n",
       "           BABY CARE                      0.166667  \n",
       "           BEAUTY                         4.592593  \n",
       "           BEVERAGES                   3003.555664  \n",
       "           BOOKS                          0.351852  \n",
       "...                                            ...  \n",
       "2017-07-31 POULTRY                      325.679840  \n",
       "           PREPARED FOODS                85.954132  \n",
       "           PRODUCE                     2316.832764  \n",
       "           SCHOOL AND OFFICE SUPPLIES    46.851852  \n",
       "           SEAFOOD                       17.966240  \n",
       "\n",
       "[6864 rows x 16 columns]"
      ]
     },
     "metadata": {},
     "output_type": "display_data"
    }
   ],
   "source": [
    "le = LabelEncoder()\n",
    "X = (X\n",
    "    .stack('family')  # wide to long\n",
    "    .reset_index('family')  # convert index to column\n",
    "    .assign(family=lambda x: le.fit_transform(x.family))  # label encode\n",
    ")\n",
    "y = y.stack('family')  # wide to long\n",
    "\n",
    "display(y)"
   ]
  },
  {
   "cell_type": "code",
   "execution_count": 10,
   "id": "45bcab3b",
   "metadata": {
    "execution": {
     "iopub.execute_input": "2025-02-23T20:09:07.677811Z",
     "iopub.status.busy": "2025-02-23T20:09:07.677466Z",
     "iopub.status.idle": "2025-02-23T20:09:07.689404Z",
     "shell.execute_reply": "2025-02-23T20:09:07.688395Z"
    },
    "papermill": {
     "duration": 0.024366,
     "end_time": "2025-02-23T20:09:07.691615",
     "exception": false,
     "start_time": "2025-02-23T20:09:07.667249",
     "status": "completed"
    },
    "tags": []
   },
   "outputs": [
    {
     "data": {
      "text/html": [
       "<div>\n",
       "<style scoped>\n",
       "    .dataframe tbody tr th:only-of-type {\n",
       "        vertical-align: middle;\n",
       "    }\n",
       "\n",
       "    .dataframe tbody tr th {\n",
       "        vertical-align: top;\n",
       "    }\n",
       "\n",
       "    .dataframe thead th {\n",
       "        text-align: right;\n",
       "    }\n",
       "</style>\n",
       "<table border=\"1\" class=\"dataframe\">\n",
       "  <thead>\n",
       "    <tr style=\"text-align: right;\">\n",
       "      <th></th>\n",
       "      <th>family</th>\n",
       "      <th>y_lag_1</th>\n",
       "      <th>y_lag_2</th>\n",
       "      <th>y_lag_3</th>\n",
       "      <th>y_lag_4</th>\n",
       "    </tr>\n",
       "    <tr>\n",
       "      <th>date</th>\n",
       "      <th></th>\n",
       "      <th></th>\n",
       "      <th></th>\n",
       "      <th></th>\n",
       "      <th></th>\n",
       "    </tr>\n",
       "  </thead>\n",
       "  <tbody>\n",
       "    <tr>\n",
       "      <th>2017-01-05</th>\n",
       "      <td>0</td>\n",
       "      <td>6.833333</td>\n",
       "      <td>8.296296</td>\n",
       "      <td>11.481482</td>\n",
       "      <td>0.092593</td>\n",
       "    </tr>\n",
       "    <tr>\n",
       "      <th>2017-01-06</th>\n",
       "      <td>0</td>\n",
       "      <td>6.333333</td>\n",
       "      <td>6.833333</td>\n",
       "      <td>8.296296</td>\n",
       "      <td>11.481482</td>\n",
       "    </tr>\n",
       "    <tr>\n",
       "      <th>2017-01-07</th>\n",
       "      <td>0</td>\n",
       "      <td>6.018518</td>\n",
       "      <td>6.333333</td>\n",
       "      <td>6.833333</td>\n",
       "      <td>8.296296</td>\n",
       "    </tr>\n",
       "    <tr>\n",
       "      <th>2017-01-08</th>\n",
       "      <td>0</td>\n",
       "      <td>10.259259</td>\n",
       "      <td>6.018518</td>\n",
       "      <td>6.333333</td>\n",
       "      <td>6.833333</td>\n",
       "    </tr>\n",
       "    <tr>\n",
       "      <th>2017-01-09</th>\n",
       "      <td>0</td>\n",
       "      <td>9.388889</td>\n",
       "      <td>10.259259</td>\n",
       "      <td>6.018518</td>\n",
       "      <td>6.333333</td>\n",
       "    </tr>\n",
       "  </tbody>\n",
       "</table>\n",
       "</div>"
      ],
      "text/plain": [
       "            family    y_lag_1    y_lag_2    y_lag_3    y_lag_4\n",
       "date                                                          \n",
       "2017-01-05       0   6.833333   8.296296  11.481482   0.092593\n",
       "2017-01-06       0   6.333333   6.833333   8.296296  11.481482\n",
       "2017-01-07       0   6.018518   6.333333   6.833333   8.296296\n",
       "2017-01-08       0  10.259259   6.018518   6.333333   6.833333\n",
       "2017-01-09       0   9.388889  10.259259   6.018518   6.333333"
      ]
     },
     "execution_count": 10,
     "metadata": {},
     "output_type": "execute_result"
    }
   ],
   "source": [
    "X[X.family==0].head()"
   ]
  },
  {
   "attachments": {
    "5ecc24cc-b309-4dcf-9cdf-4915c0c82826.png": {
     "image/png": "[encoded data removed]"
    },
    "723f38c1-8a5b-4b55-b77d-f0dc37e48f85.png": {
     "image/png": "[encoded data removed]"
    },
    "b16b7f67-39f4-4ccf-8bec-cdcf956dea79.png": {
     "image/png": "[encoded data removed]"
    }
   },
   "cell_type": "markdown",
   "id": "a881d204",
   "metadata": {
    "papermill": {
     "duration": 0.009121,
     "end_time": "2025-02-23T20:09:07.710193",
     "exception": false,
     "start_time": "2025-02-23T20:09:07.701072",
     "status": "completed"
    },
    "tags": []
   },
   "source": [
    "# 4) Forecast with the DirRec strategy\n",
    "\n",
    "Instatiate a model that applies the DirRec strategy to XGBoost. DirRec stands for direct - recursive strategy\n",
    "\n",
    "<img src=\"https://storage.googleapis.com/kaggle-media/learn/images/B7KAvAO.png\"/>"
   ]
  },
  {
   "cell_type": "code",
   "execution_count": 11,
   "id": "bb89c7b2",
   "metadata": {
    "execution": {
     "iopub.execute_input": "2025-02-23T20:09:07.730274Z",
     "iopub.status.busy": "2025-02-23T20:09:07.729924Z",
     "iopub.status.idle": "2025-02-23T20:09:07.737539Z",
     "shell.execute_reply": "2025-02-23T20:09:07.736498Z"
    },
    "papermill": {
     "duration": 0.019846,
     "end_time": "2025-02-23T20:09:07.739484",
     "exception": false,
     "start_time": "2025-02-23T20:09:07.719638",
     "status": "completed"
    },
    "tags": []
   },
   "outputs": [
    {
     "data": {
      "application/javascript": [
       "parent.postMessage({\"jupyterEvent\": \"custom.exercise_interaction\", \"data\": {\"outcomeType\": 1, \"valueTowardsCompletion\": 0.25, \"interactionType\": 1, \"questionType\": 2, \"questionId\": \"4_Q4\", \"learnToolsVersion\": \"0.3.4\", \"failureMessage\": \"\", \"exceptionClass\": \"\", \"trace\": \"\"}}, \"*\")"
      ],
      "text/plain": [
       "<IPython.core.display.Javascript object>"
      ]
     },
     "metadata": {},
     "output_type": "display_data"
    },
    {
     "data": {
      "text/markdown": [
       "<span style=\"color:#33cc33\">Correct</span>"
      ],
      "text/plain": [
       "Correct"
      ]
     },
     "metadata": {},
     "output_type": "display_data"
    }
   ],
   "source": [
    "from sklearn.multioutput import RegressorChain\n",
    "\n",
    "# YOUR CODE HERE\n",
    "model = RegressorChain(XGBRegressor())\n",
    "\n",
    "# Check your answer\n",
    "q_4.check()"
   ]
  },
  {
   "cell_type": "code",
   "execution_count": 12,
   "id": "c20a2fb1",
   "metadata": {
    "execution": {
     "iopub.execute_input": "2025-02-23T20:09:07.760158Z",
     "iopub.status.busy": "2025-02-23T20:09:07.759805Z",
     "iopub.status.idle": "2025-02-23T20:09:07.763651Z",
     "shell.execute_reply": "2025-02-23T20:09:07.762601Z"
    },
    "papermill": {
     "duration": 0.01624,
     "end_time": "2025-02-23T20:09:07.765400",
     "exception": false,
     "start_time": "2025-02-23T20:09:07.749160",
     "status": "completed"
    },
    "tags": []
   },
   "outputs": [],
   "source": [
    "# Lines below will give you a hint or solution code\n",
    "#q_4.hint()\n",
    "#q_4.solution()"
   ]
  },
  {
   "cell_type": "markdown",
   "id": "9590bfb5",
   "metadata": {
    "papermill": {
     "duration": 0.009078,
     "end_time": "2025-02-23T20:09:07.784015",
     "exception": false,
     "start_time": "2025-02-23T20:09:07.774937",
     "status": "completed"
    },
    "tags": []
   },
   "source": [
    "Run this cell if you'd like to train this model."
   ]
  },
  {
   "cell_type": "code",
   "execution_count": 13,
   "id": "f91a39f4",
   "metadata": {
    "execution": {
     "iopub.execute_input": "2025-02-23T20:09:07.804074Z",
     "iopub.status.busy": "2025-02-23T20:09:07.803744Z",
     "iopub.status.idle": "2025-02-23T20:09:10.889731Z",
     "shell.execute_reply": "2025-02-23T20:09:10.888880Z"
    },
    "papermill": {
     "duration": 3.098672,
     "end_time": "2025-02-23T20:09:10.891958",
     "exception": false,
     "start_time": "2025-02-23T20:09:07.793286",
     "status": "completed"
    },
    "tags": []
   },
   "outputs": [],
   "source": [
    "model.fit(X, y)\n",
    "\n",
    "y_pred = pd.DataFrame(\n",
    "    model.predict(X),\n",
    "    index=y.index,\n",
    "    columns=y.columns,\n",
    ").clip(0.0)"
   ]
  },
  {
   "cell_type": "markdown",
   "id": "b90c0d5e",
   "metadata": {
    "papermill": {
     "duration": 0.009359,
     "end_time": "2025-02-23T20:09:10.913142",
     "exception": false,
     "start_time": "2025-02-23T20:09:10.903783",
     "status": "completed"
    },
    "tags": []
   },
   "source": [
    "And use this code to see a sample of the 16-step predictions this model makes on the training data."
   ]
  },
  {
   "cell_type": "code",
   "execution_count": 14,
   "id": "34900447",
   "metadata": {
    "execution": {
     "iopub.execute_input": "2025-02-23T20:09:10.933699Z",
     "iopub.status.busy": "2025-02-23T20:09:10.933299Z",
     "iopub.status.idle": "2025-02-23T20:09:11.637395Z",
     "shell.execute_reply": "2025-02-23T20:09:11.636201Z"
    },
    "lines_to_next_cell": 2,
    "papermill": {
     "duration": 0.716654,
     "end_time": "2025-02-23T20:09:11.639410",
     "exception": false,
     "start_time": "2025-02-23T20:09:10.922756",
     "status": "completed"
    },
    "tags": []
   },
   "outputs": [
    {
     "data": {
      "image/png": "[encoded data removed]",
      "text/plain": [
       "<Figure size 1100x400 with 1 Axes>"
      ]
     },
     "metadata": {},
     "output_type": "display_data"
    }
   ],
   "source": [
    "FAMILY = 'BABY CARE'\n",
    "START = '2017-04-01'\n",
    "EVERY = 16\n",
    "\n",
    "y_pred_ = y_pred.xs(FAMILY, level='family', axis=0).loc[START:]\n",
    "y_ = family_sales.loc[START:, 'sales'].loc[:, FAMILY]\n",
    "\n",
    "fig, ax = plt.subplots(1, 1, figsize=(11, 4))\n",
    "ax = y_.plot(**plot_params, ax=ax, alpha=0.5)\n",
    "ax = plot_multistep(y_pred_, ax=ax, every=EVERY)\n",
    "_ = ax.legend([FAMILY, FAMILY + ' Forecast'])"
   ]
  },
  {
   "cell_type": "markdown",
   "id": "24d845e6",
   "metadata": {
    "papermill": {
     "duration": 0.011192,
     "end_time": "2025-02-23T20:09:11.663096",
     "exception": false,
     "start_time": "2025-02-23T20:09:11.651904",
     "status": "completed"
    },
    "tags": []
   },
   "source": [
    "# Next Steps #\n",
    "\n",
    "Congratulations! You've completed Kaggle's *Time Series* course. If you haven't already, join our companion competition: [Store Sales - Time Series Forecasting](https://www.kaggle.com/c/29781) and apply the skills you've learned.\n",
    "\n",
    "For inspiration, check out Kaggle's previous forecasting competitions. Studying winning competition solutions is a great way to upgrade your skills.\n",
    "\n",
    "- [**Corporación Favorita**](https://www.kaggle.com/c/favorita-grocery-sales-forecasting): the competition *Store Sales* is derived from.\n",
    "- [**Rossmann Store Sales**](https://www.kaggle.com/c/rossmann-store-sales)\n",
    "- [**Wikipedia Web Traffic**](https://www.kaggle.com/c/web-traffic-time-series-forecasting/)\n",
    "- [**Walmart Store Sales**](https://www.kaggle.com/c/walmart-recruiting-store-sales-forecasting)\n",
    "- [**Walmart Sales in Stormy Weather**](https://www.kaggle.com/c/walmart-recruiting-sales-in-stormy-weather)\n",
    "- [**M5 Forecasting - Accuracy**](https://www.kaggle.com/c/m5-forecasting-accuracy)\n",
    "\n",
    "# References #\n",
    "\n",
    "Here are some great resources you might like to consult for more on time series and forecasting. They all played a part in shaping this course:\n",
    "\n",
    "- *Learnings from Kaggle's forecasting competitions*, an article by Casper Solheim Bojer and Jens Peder Meldgaard.\n",
    "- *Forecasting: Principles and Practice*, a book by Rob J Hyndmann and George Athanasopoulos.\n",
    "- *Practical Time Series Forecasting with R*, a book by Galit Shmueli and Kenneth C. Lichtendahl Jr.\n",
    "- *Time Series Analysis and Its Applications*, a book by Robert H. Shumway and David S. Stoffer.\n",
    "- *Machine learning strategies for time series forecasting*, an article by Gianluca Bontempi, Souhaib Ben Taieb, and Yann-Aël Le Borgne.\n",
    "- *On the use of cross-validation for time series predictor evaluation*, an article by Christoph Bergmeir and José M. Benítez.\n"
   ]
  },
  {
   "cell_type": "markdown",
   "id": "11d903dd",
   "metadata": {
    "papermill": {
     "duration": 0.011172,
     "end_time": "2025-02-23T20:09:11.686011",
     "exception": false,
     "start_time": "2025-02-23T20:09:11.674839",
     "status": "completed"
    },
    "tags": []
   },
   "source": [
    "---\n",
    "\n",
    "\n",
    "\n",
    "\n",
    "*Have questions or comments? Visit the [course discussion forum](https://www.kaggle.com/learn/time-series/discussion) to chat with other learners.*"
   ]
  }
 ],
 "metadata": {
  "jupytext": {
   "cell_metadata_filter": "-all",
   "formats": "ipynb,md"
  },
  "kaggle": {
   "accelerator": "none",
   "dataSources": [
    {
     "databundleVersionId": 2887556,
     "sourceId": 29781,
     "sourceType": "competition"
    },
    {
     "datasetId": 1169793,
     "sourceId": 2484624,
     "sourceType": "datasetVersion"
    }
   ],
   "isGpuEnabled": false,
   "isInternetEnabled": false,
   "language": "python",
   "sourceType": "notebook"
  },
  "kernelspec": {
   "display_name": "Python 3",
   "language": "python",
   "name": "python3"
  },
  "language_info": {
   "codemirror_mode": {
    "name": "ipython",
    "version": 3
   },
   "file_extension": ".py",
   "mimetype": "text/x-python",
   "name": "python",
   "nbconvert_exporter": "python",
   "pygments_lexer": "ipython3",
   "version": "3.10.12"
  },
  "papermill": {
   "default_parameters": {},
   "duration": 39.647311,
   "end_time": "2025-02-23T20:09:12.519890",
   "environment_variables": {},
   "exception": null,
   "input_path": "__notebook__.ipynb",
   "output_path": "__notebook__.ipynb",
   "parameters": {},
   "start_time": "2025-02-23T20:08:32.872579",
   "version": "2.6.0"
  },
  "widgets": {
   "application/vnd.jupyter.widget-state+json": {
    "state": {
     "21f5f3fcd4c6461aa72d3aac9e4049dd": {
      "model_module": "@jupyter-widgets/base",
      "model_module_version": "2.0.0",
      "model_name": "LayoutModel",
      "state": {
       "_model_module": "@jupyter-widgets/base",
       "_model_module_version": "2.0.0",
       "_model_name": "LayoutModel",
       "_view_count": null,
       "_view_module": "@jupyter-widgets/base",
       "_view_module_version": "2.0.0",
       "_view_name": "LayoutView",
       "align_content": null,
       "align_items": null,
       "align_self": null,
       "border_bottom": null,
       "border_left": null,
       "border_right": null,
       "border_top": null,
       "bottom": null,
       "display": null,
       "flex": null,
       "flex_flow": null,
       "grid_area": null,
       "grid_auto_columns": null,
       "grid_auto_flow": null,
       "grid_auto_rows": null,
       "grid_column": null,
       "grid_gap": null,
       "grid_row": null,
       "grid_template_areas": null,
       "grid_template_columns": null,
       "grid_template_rows": null,
       "height": null,
       "justify_content": null,
       "justify_items": null,
       "left": null,
       "margin": null,
       "max_height": null,
       "max_width": null,
       "min_height": null,
       "min_width": null,
       "object_fit": null,
       "object_position": null,
       "order": null,
       "overflow": null,
       "padding": null,
       "right": null,
       "top": null,
       "visibility": null,
       "width": null
      }
     },
     "224370dd50114543a2d99e71ae6291d3": {
      "model_module": "@jupyter-widgets/base",
      "model_module_version": "2.0.0",
      "model_name": "LayoutModel",
      "state": {
       "_model_module": "@jupyter-widgets/base",
       "_model_module_version": "2.0.0",
       "_model_name": "LayoutModel",
       "_view_count": null,
       "_view_module": "@jupyter-widgets/base",
       "_view_module_version": "2.0.0",
       "_view_name": "LayoutView",
       "align_content": null,
       "align_items": null,
       "align_self": null,
       "border_bottom": null,
       "border_left": null,
       "border_right": null,
       "border_top": null,
       "bottom": null,
       "display": null,
       "flex": null,
       "flex_flow": null,
       "grid_area": null,
       "grid_auto_columns": null,
       "grid_auto_flow": null,
       "grid_auto_rows": null,
       "grid_column": null,
       "grid_gap": null,
       "grid_row": null,
       "grid_template_areas": null,
       "grid_template_columns": null,
       "grid_template_rows": null,
       "height": null,
       "justify_content": null,
       "justify_items": null,
       "left": null,
       "margin": null,
       "max_height": null,
       "max_width": null,
       "min_height": null,
       "min_width": null,
       "object_fit": null,
       "object_position": null,
       "order": null,
       "overflow": null,
       "padding": null,
       "right": null,
       "top": null,
       "visibility": null,
       "width": null
      }
     },
     "42afa2c2587c41af891f3fb0686c47b1": {
      "model_module": "@jupyter-widgets/output",
      "model_module_version": "1.0.0",
      "model_name": "OutputModel",
      "state": {
       "_dom_classes": [],
       "_model_module": "@jupyter-widgets/output",
       "_model_module_version": "1.0.0",
       "_model_name": "OutputModel",
       "_view_count": null,
       "_view_module": "@jupyter-widgets/output",
       "_view_module_version": "1.0.0",
       "_view_name": "OutputView",
       "layout": "IPY_MODEL_9221deab141a47449df21d741a586ec5",
       "msg_id": "",
       "outputs": [
        {
         "data": {
          "text/html": "<style type=\"text/css\">\n#T_07050_row0_col0, #T_07050_row0_col1, #T_07050_row0_col2, #T_07050_row1_col0, #T_07050_row1_col1, #T_07050_row1_col2, #T_07050_row2_col0, #T_07050_row2_col1, #T_07050_row2_col2, #T_07050_row3_col0, #T_07050_row3_col1, #T_07050_row3_col2, #T_07050_row4_col0, #T_07050_row4_col1, #T_07050_row4_col2, #T_07050_row5_col0, #T_07050_row5_col1, #T_07050_row5_col2, #T_07050_row6_col0, #T_07050_row6_col1, #T_07050_row6_col2, #T_07050_row7_col0, #T_07050_row7_col1, #T_07050_row7_col2, #T_07050_row8_col0, #T_07050_row8_col1, #T_07050_row8_col2, #T_07050_row9_col0, #T_07050_row9_col1, #T_07050_row9_col2 {\n  background-color: LavenderBlush;\n}\n#T_07050_row0_col3, #T_07050_row0_col4, #T_07050_row0_col5, #T_07050_row0_col6, #T_07050_row1_col3, #T_07050_row1_col4, #T_07050_row1_col5, #T_07050_row1_col6, #T_07050_row2_col3, #T_07050_row2_col4, #T_07050_row2_col5, #T_07050_row2_col6, #T_07050_row3_col3, #T_07050_row3_col4, #T_07050_row3_col5, #T_07050_row3_col6, #T_07050_row4_col3, #T_07050_row4_col4, #T_07050_row4_col5, #T_07050_row4_col6, #T_07050_row5_col3, #T_07050_row5_col4, #T_07050_row5_col5, #T_07050_row5_col6, #T_07050_row6_col3, #T_07050_row6_col4, #T_07050_row6_col5, #T_07050_row6_col6, #T_07050_row7_col3, #T_07050_row7_col4, #T_07050_row7_col5, #T_07050_row7_col6, #T_07050_row8_col3, #T_07050_row8_col4, #T_07050_row8_col5, #T_07050_row8_col6, #T_07050_row9_col3, #T_07050_row9_col4, #T_07050_row9_col5, #T_07050_row9_col6 {\n  background-color: Lavender;\n}\n</style>\n<table id=\"T_07050\">\n  <thead>\n    <tr>\n      <th class=\"blank level0\" >&nbsp;</th>\n      <th id=\"T_07050_level0_col0\" class=\"col_heading level0 col0\" colspan=\"3\">Targets</th>\n      <th id=\"T_07050_level0_col3\" class=\"col_heading level0 col3\" colspan=\"4\">Features</th>\n    </tr>\n    <tr>\n      <th class=\"blank level1\" >&nbsp;</th>\n      <th id=\"T_07050_level1_col0\" class=\"col_heading level1 col0\" >y_step_3</th>\n      <th id=\"T_07050_level1_col1\" class=\"col_heading level1 col1\" >y_step_2</th>\n      <th id=\"T_07050_level1_col2\" class=\"col_heading level1 col2\" >y_step_1</th>\n      <th id=\"T_07050_level1_col3\" class=\"col_heading level1 col3\" >y_lag_1</th>\n      <th id=\"T_07050_level1_col4\" class=\"col_heading level1 col4\" >y_lag_2</th>\n      <th id=\"T_07050_level1_col5\" class=\"col_heading level1 col5\" >y_lag_3</th>\n      <th id=\"T_07050_level1_col6\" class=\"col_heading level1 col6\" >y_lag_4</th>\n    </tr>\n    <tr>\n      <th class=\"index_name level0\" >Year</th>\n      <th class=\"blank col0\" >&nbsp;</th>\n      <th class=\"blank col1\" >&nbsp;</th>\n      <th class=\"blank col2\" >&nbsp;</th>\n      <th class=\"blank col3\" >&nbsp;</th>\n      <th class=\"blank col4\" >&nbsp;</th>\n      <th class=\"blank col5\" >&nbsp;</th>\n      <th class=\"blank col6\" >&nbsp;</th>\n    </tr>\n  </thead>\n  <tbody>\n    <tr>\n      <th id=\"T_07050_level0_row0\" class=\"row_heading level0 row0\" >2010</th>\n      <td id=\"T_07050_row0_col0\" class=\"data row0 col0\" >2</td>\n      <td id=\"T_07050_row0_col1\" class=\"data row0 col1\" >1</td>\n      <td id=\"T_07050_row0_col2\" class=\"data row0 col2\" >0</td>\n      <td id=\"T_07050_row0_col3\" class=\"data row0 col3\" ><NA></td>\n      <td id=\"T_07050_row0_col4\" class=\"data row0 col4\" ><NA></td>\n      <td id=\"T_07050_row0_col5\" class=\"data row0 col5\" ><NA></td>\n      <td id=\"T_07050_row0_col6\" class=\"data row0 col6\" ><NA></td>\n    </tr>\n    <tr>\n      <th id=\"T_07050_level0_row1\" class=\"row_heading level0 row1\" >2011</th>\n      <td id=\"T_07050_row1_col0\" class=\"data row1 col0\" >3</td>\n      <td id=\"T_07050_row1_col1\" class=\"data row1 col1\" >2</td>\n      <td id=\"T_07050_row1_col2\" class=\"data row1 col2\" >1</td>\n      <td id=\"T_07050_row1_col3\" class=\"data row1 col3\" >0</td>\n      <td id=\"T_07050_row1_col4\" class=\"data row1 col4\" ><NA></td>\n      <td id=\"T_07050_row1_col5\" class=\"data row1 col5\" ><NA></td>\n      <td id=\"T_07050_row1_col6\" class=\"data row1 col6\" ><NA></td>\n    </tr>\n    <tr>\n      <th id=\"T_07050_level0_row2\" class=\"row_heading level0 row2\" >2012</th>\n      <td id=\"T_07050_row2_col0\" class=\"data row2 col0\" >4</td>\n      <td id=\"T_07050_row2_col1\" class=\"data row2 col1\" >3</td>\n      <td id=\"T_07050_row2_col2\" class=\"data row2 col2\" >2</td>\n      <td id=\"T_07050_row2_col3\" class=\"data row2 col3\" >1</td>\n      <td id=\"T_07050_row2_col4\" class=\"data row2 col4\" >0</td>\n      <td id=\"T_07050_row2_col5\" class=\"data row2 col5\" ><NA></td>\n      <td id=\"T_07050_row2_col6\" class=\"data row2 col6\" ><NA></td>\n    </tr>\n    <tr>\n      <th id=\"T_07050_level0_row3\" class=\"row_heading level0 row3\" >2013</th>\n      <td id=\"T_07050_row3_col0\" class=\"data row3 col0\" >5</td>\n      <td id=\"T_07050_row3_col1\" class=\"data row3 col1\" >4</td>\n      <td id=\"T_07050_row3_col2\" class=\"data row3 col2\" >3</td>\n      <td id=\"T_07050_row3_col3\" class=\"data row3 col3\" >2</td>\n      <td id=\"T_07050_row3_col4\" class=\"data row3 col4\" >1</td>\n      <td id=\"T_07050_row3_col5\" class=\"data row3 col5\" >0</td>\n      <td id=\"T_07050_row3_col6\" class=\"data row3 col6\" ><NA></td>\n    </tr>\n    <tr>\n      <th id=\"T_07050_level0_row4\" class=\"row_heading level0 row4\" >2014</th>\n      <td id=\"T_07050_row4_col0\" class=\"data row4 col0\" >6</td>\n      <td id=\"T_07050_row4_col1\" class=\"data row4 col1\" >5</td>\n      <td id=\"T_07050_row4_col2\" class=\"data row4 col2\" >4</td>\n      <td id=\"T_07050_row4_col3\" class=\"data row4 col3\" >3</td>\n      <td id=\"T_07050_row4_col4\" class=\"data row4 col4\" >2</td>\n      <td id=\"T_07050_row4_col5\" class=\"data row4 col5\" >1</td>\n      <td id=\"T_07050_row4_col6\" class=\"data row4 col6\" >0</td>\n    </tr>\n    <tr>\n      <th id=\"T_07050_level0_row5\" class=\"row_heading level0 row5\" >2015</th>\n      <td id=\"T_07050_row5_col0\" class=\"data row5 col0\" >7</td>\n      <td id=\"T_07050_row5_col1\" class=\"data row5 col1\" >6</td>\n      <td id=\"T_07050_row5_col2\" class=\"data row5 col2\" >5</td>\n      <td id=\"T_07050_row5_col3\" class=\"data row5 col3\" >4</td>\n      <td id=\"T_07050_row5_col4\" class=\"data row5 col4\" >3</td>\n      <td id=\"T_07050_row5_col5\" class=\"data row5 col5\" >2</td>\n      <td id=\"T_07050_row5_col6\" class=\"data row5 col6\" >1</td>\n    </tr>\n    <tr>\n      <th id=\"T_07050_level0_row6\" class=\"row_heading level0 row6\" >2016</th>\n      <td id=\"T_07050_row6_col0\" class=\"data row6 col0\" >8</td>\n      <td id=\"T_07050_row6_col1\" class=\"data row6 col1\" >7</td>\n      <td id=\"T_07050_row6_col2\" class=\"data row6 col2\" >6</td>\n      <td id=\"T_07050_row6_col3\" class=\"data row6 col3\" >5</td>\n      <td id=\"T_07050_row6_col4\" class=\"data row6 col4\" >4</td>\n      <td id=\"T_07050_row6_col5\" class=\"data row6 col5\" >3</td>\n      <td id=\"T_07050_row6_col6\" class=\"data row6 col6\" >2</td>\n    </tr>\n    <tr>\n      <th id=\"T_07050_level0_row7\" class=\"row_heading level0 row7\" >2017</th>\n      <td id=\"T_07050_row7_col0\" class=\"data row7 col0\" >9</td>\n      <td id=\"T_07050_row7_col1\" class=\"data row7 col1\" >8</td>\n      <td id=\"T_07050_row7_col2\" class=\"data row7 col2\" >7</td>\n      <td id=\"T_07050_row7_col3\" class=\"data row7 col3\" >6</td>\n      <td id=\"T_07050_row7_col4\" class=\"data row7 col4\" >5</td>\n      <td id=\"T_07050_row7_col5\" class=\"data row7 col5\" >4</td>\n      <td id=\"T_07050_row7_col6\" class=\"data row7 col6\" >3</td>\n    </tr>\n    <tr>\n      <th id=\"T_07050_level0_row8\" class=\"row_heading level0 row8\" >2018</th>\n      <td id=\"T_07050_row8_col0\" class=\"data row8 col0\" ><NA></td>\n      <td id=\"T_07050_row8_col1\" class=\"data row8 col1\" >9</td>\n      <td id=\"T_07050_row8_col2\" class=\"data row8 col2\" >8</td>\n      <td id=\"T_07050_row8_col3\" class=\"data row8 col3\" >7</td>\n      <td id=\"T_07050_row8_col4\" class=\"data row8 col4\" >6</td>\n      <td id=\"T_07050_row8_col5\" class=\"data row8 col5\" >5</td>\n      <td id=\"T_07050_row8_col6\" class=\"data row8 col6\" >4</td>\n    </tr>\n    <tr>\n      <th id=\"T_07050_level0_row9\" class=\"row_heading level0 row9\" >2019</th>\n      <td id=\"T_07050_row9_col0\" class=\"data row9 col0\" ><NA></td>\n      <td id=\"T_07050_row9_col1\" class=\"data row9 col1\" ><NA></td>\n      <td id=\"T_07050_row9_col2\" class=\"data row9 col2\" >9</td>\n      <td id=\"T_07050_row9_col3\" class=\"data row9 col3\" >8</td>\n      <td id=\"T_07050_row9_col4\" class=\"data row9 col4\" >7</td>\n      <td id=\"T_07050_row9_col5\" class=\"data row9 col5\" >6</td>\n      <td id=\"T_07050_row9_col6\" class=\"data row9 col6\" >5</td>\n    </tr>\n  </tbody>\n</table>\n",
          "text/plain": "<pandas.io.formats.style.Styler at 0x7d2ff77522c0>"
         },
         "metadata": {},
         "output_type": "display_data"
        }
       ],
       "tabbable": null,
       "tooltip": null
      }
     },
     "7cd89c92fa3c4a8bbe42e99136cbcf9d": {
      "model_module": "@jupyter-widgets/controls",
      "model_module_version": "2.0.0",
      "model_name": "TabModel",
      "state": {
       "_dom_classes": [],
       "_model_module": "@jupyter-widgets/controls",
       "_model_module_version": "2.0.0",
       "_model_name": "TabModel",
       "_view_count": null,
       "_view_module": "@jupyter-widgets/controls",
       "_view_module_version": "2.0.0",
       "_view_name": "TabView",
       "box_style": "",
       "children": [
        "IPY_MODEL_916cb6052a87493bb704f4823c02c35a",
        "IPY_MODEL_f395d9958097477a83f2ad0c7fde2500",
        "IPY_MODEL_42afa2c2587c41af891f3fb0686c47b1"
       ],
       "layout": "IPY_MODEL_21f5f3fcd4c6461aa72d3aac9e4049dd",
       "selected_index": 0,
       "tabbable": null,
       "titles": [
        "Dataset 1",
        "Dataset 2",
        "Dataset 3"
       ],
       "tooltip": null
      }
     },
     "9055e8846af24b9c9bd67c2323e95314": {
      "model_module": "@jupyter-widgets/base",
      "model_module_version": "2.0.0",
      "model_name": "LayoutModel",
      "state": {
       "_model_module": "@jupyter-widgets/base",
       "_model_module_version": "2.0.0",
       "_model_name": "LayoutModel",
       "_view_count": null,
       "_view_module": "@jupyter-widgets/base",
       "_view_module_version": "2.0.0",
       "_view_name": "LayoutView",
       "align_content": null,
       "align_items": null,
       "align_self": null,
       "border_bottom": null,
       "border_left": null,
       "border_right": null,
       "border_top": null,
       "bottom": null,
       "display": null,
       "flex": null,
       "flex_flow": null,
       "grid_area": null,
       "grid_auto_columns": null,
       "grid_auto_flow": null,
       "grid_auto_rows": null,
       "grid_column": null,
       "grid_gap": null,
       "grid_row": null,
       "grid_template_areas": null,
       "grid_template_columns": null,
       "grid_template_rows": null,
       "height": null,
       "justify_content": null,
       "justify_items": null,
       "left": null,
       "margin": null,
       "max_height": null,
       "max_width": null,
       "min_height": null,
       "min_width": null,
       "object_fit": null,
       "object_position": null,
       "order": null,
       "overflow": null,
       "padding": null,
       "right": null,
       "top": null,
       "visibility": null,
       "width": null
      }
     },
     "916cb6052a87493bb704f4823c02c35a": {
      "model_module": "@jupyter-widgets/output",
      "model_module_version": "1.0.0",
      "model_name": "OutputModel",
      "state": {
       "_dom_classes": [],
       "_model_module": "@jupyter-widgets/output",
       "_model_module_version": "1.0.0",
       "_model_name": "OutputModel",
       "_view_count": null,
       "_view_module": "@jupyter-widgets/output",
       "_view_module_version": "1.0.0",
       "_view_name": "OutputView",
       "layout": "IPY_MODEL_224370dd50114543a2d99e71ae6291d3",
       "msg_id": "",
       "outputs": [
        {
         "data": {
          "text/html": "<style type=\"text/css\">\n#T_b5069_row0_col0, #T_b5069_row1_col0, #T_b5069_row2_col0, #T_b5069_row3_col0, #T_b5069_row4_col0, #T_b5069_row5_col0, #T_b5069_row6_col0, #T_b5069_row7_col0, #T_b5069_row8_col0, #T_b5069_row9_col0 {\n  background-color: LavenderBlush;\n}\n#T_b5069_row0_col1, #T_b5069_row0_col2, #T_b5069_row0_col3, #T_b5069_row1_col1, #T_b5069_row1_col2, #T_b5069_row1_col3, #T_b5069_row2_col1, #T_b5069_row2_col2, #T_b5069_row2_col3, #T_b5069_row3_col1, #T_b5069_row3_col2, #T_b5069_row3_col3, #T_b5069_row4_col1, #T_b5069_row4_col2, #T_b5069_row4_col3, #T_b5069_row5_col1, #T_b5069_row5_col2, #T_b5069_row5_col3, #T_b5069_row6_col1, #T_b5069_row6_col2, #T_b5069_row6_col3, #T_b5069_row7_col1, #T_b5069_row7_col2, #T_b5069_row7_col3, #T_b5069_row8_col1, #T_b5069_row8_col2, #T_b5069_row8_col3, #T_b5069_row9_col1, #T_b5069_row9_col2, #T_b5069_row9_col3 {\n  background-color: Lavender;\n}\n</style>\n<table id=\"T_b5069\">\n  <thead>\n    <tr>\n      <th class=\"blank level0\" >&nbsp;</th>\n      <th id=\"T_b5069_level0_col0\" class=\"col_heading level0 col0\" >Targets</th>\n      <th id=\"T_b5069_level0_col1\" class=\"col_heading level0 col1\" colspan=\"3\">Features</th>\n    </tr>\n    <tr>\n      <th class=\"blank level1\" >&nbsp;</th>\n      <th id=\"T_b5069_level1_col0\" class=\"col_heading level1 col0\" >y_step_1</th>\n      <th id=\"T_b5069_level1_col1\" class=\"col_heading level1 col1\" >y_lag_1</th>\n      <th id=\"T_b5069_level1_col2\" class=\"col_heading level1 col2\" >y_lag_2</th>\n      <th id=\"T_b5069_level1_col3\" class=\"col_heading level1 col3\" >y_lag_3</th>\n    </tr>\n    <tr>\n      <th class=\"index_name level0\" >Year</th>\n      <th class=\"blank col0\" >&nbsp;</th>\n      <th class=\"blank col1\" >&nbsp;</th>\n      <th class=\"blank col2\" >&nbsp;</th>\n      <th class=\"blank col3\" >&nbsp;</th>\n    </tr>\n  </thead>\n  <tbody>\n    <tr>\n      <th id=\"T_b5069_level0_row0\" class=\"row_heading level0 row0\" >2010</th>\n      <td id=\"T_b5069_row0_col0\" class=\"data row0 col0\" >0</td>\n      <td id=\"T_b5069_row0_col1\" class=\"data row0 col1\" ><NA></td>\n      <td id=\"T_b5069_row0_col2\" class=\"data row0 col2\" ><NA></td>\n      <td id=\"T_b5069_row0_col3\" class=\"data row0 col3\" ><NA></td>\n    </tr>\n    <tr>\n      <th id=\"T_b5069_level0_row1\" class=\"row_heading level0 row1\" >2011</th>\n      <td id=\"T_b5069_row1_col0\" class=\"data row1 col0\" >1</td>\n      <td id=\"T_b5069_row1_col1\" class=\"data row1 col1\" >0</td>\n      <td id=\"T_b5069_row1_col2\" class=\"data row1 col2\" ><NA></td>\n      <td id=\"T_b5069_row1_col3\" class=\"data row1 col3\" ><NA></td>\n    </tr>\n    <tr>\n      <th id=\"T_b5069_level0_row2\" class=\"row_heading level0 row2\" >2012</th>\n      <td id=\"T_b5069_row2_col0\" class=\"data row2 col0\" >2</td>\n      <td id=\"T_b5069_row2_col1\" class=\"data row2 col1\" >1</td>\n      <td id=\"T_b5069_row2_col2\" class=\"data row2 col2\" >0</td>\n      <td id=\"T_b5069_row2_col3\" class=\"data row2 col3\" ><NA></td>\n    </tr>\n    <tr>\n      <th id=\"T_b5069_level0_row3\" class=\"row_heading level0 row3\" >2013</th>\n      <td id=\"T_b5069_row3_col0\" class=\"data row3 col0\" >3</td>\n      <td id=\"T_b5069_row3_col1\" class=\"data row3 col1\" >2</td>\n      <td id=\"T_b5069_row3_col2\" class=\"data row3 col2\" >1</td>\n      <td id=\"T_b5069_row3_col3\" class=\"data row3 col3\" >0</td>\n    </tr>\n    <tr>\n      <th id=\"T_b5069_level0_row4\" class=\"row_heading level0 row4\" >2014</th>\n      <td id=\"T_b5069_row4_col0\" class=\"data row4 col0\" >4</td>\n      <td id=\"T_b5069_row4_col1\" class=\"data row4 col1\" >3</td>\n      <td id=\"T_b5069_row4_col2\" class=\"data row4 col2\" >2</td>\n      <td id=\"T_b5069_row4_col3\" class=\"data row4 col3\" >1</td>\n    </tr>\n    <tr>\n      <th id=\"T_b5069_level0_row5\" class=\"row_heading level0 row5\" >2015</th>\n      <td id=\"T_b5069_row5_col0\" class=\"data row5 col0\" >5</td>\n      <td id=\"T_b5069_row5_col1\" class=\"data row5 col1\" >4</td>\n      <td id=\"T_b5069_row5_col2\" class=\"data row5 col2\" >3</td>\n      <td id=\"T_b5069_row5_col3\" class=\"data row5 col3\" >2</td>\n    </tr>\n    <tr>\n      <th id=\"T_b5069_level0_row6\" class=\"row_heading level0 row6\" >2016</th>\n      <td id=\"T_b5069_row6_col0\" class=\"data row6 col0\" >6</td>\n      <td id=\"T_b5069_row6_col1\" class=\"data row6 col1\" >5</td>\n      <td id=\"T_b5069_row6_col2\" class=\"data row6 col2\" >4</td>\n      <td id=\"T_b5069_row6_col3\" class=\"data row6 col3\" >3</td>\n    </tr>\n    <tr>\n      <th id=\"T_b5069_level0_row7\" class=\"row_heading level0 row7\" >2017</th>\n      <td id=\"T_b5069_row7_col0\" class=\"data row7 col0\" >7</td>\n      <td id=\"T_b5069_row7_col1\" class=\"data row7 col1\" >6</td>\n      <td id=\"T_b5069_row7_col2\" class=\"data row7 col2\" >5</td>\n      <td id=\"T_b5069_row7_col3\" class=\"data row7 col3\" >4</td>\n    </tr>\n    <tr>\n      <th id=\"T_b5069_level0_row8\" class=\"row_heading level0 row8\" >2018</th>\n      <td id=\"T_b5069_row8_col0\" class=\"data row8 col0\" >8</td>\n      <td id=\"T_b5069_row8_col1\" class=\"data row8 col1\" >7</td>\n      <td id=\"T_b5069_row8_col2\" class=\"data row8 col2\" >6</td>\n      <td id=\"T_b5069_row8_col3\" class=\"data row8 col3\" >5</td>\n    </tr>\n    <tr>\n      <th id=\"T_b5069_level0_row9\" class=\"row_heading level0 row9\" >2019</th>\n      <td id=\"T_b5069_row9_col0\" class=\"data row9 col0\" >9</td>\n      <td id=\"T_b5069_row9_col1\" class=\"data row9 col1\" >8</td>\n      <td id=\"T_b5069_row9_col2\" class=\"data row9 col2\" >7</td>\n      <td id=\"T_b5069_row9_col3\" class=\"data row9 col3\" >6</td>\n    </tr>\n  </tbody>\n</table>\n",
          "text/plain": "<pandas.io.formats.style.Styler at 0x7d2fb532d9f0>"
         },
         "metadata": {},
         "output_type": "display_data"
        }
       ],
       "tabbable": null,
       "tooltip": null
      }
     },
     "9221deab141a47449df21d741a586ec5": {
      "model_module": "@jupyter-widgets/base",
      "model_module_version": "2.0.0",
      "model_name": "LayoutModel",
      "state": {
       "_model_module": "@jupyter-widgets/base",
       "_model_module_version": "2.0.0",
       "_model_name": "LayoutModel",
       "_view_count": null,
       "_view_module": "@jupyter-widgets/base",
       "_view_module_version": "2.0.0",
       "_view_name": "LayoutView",
       "align_content": null,
       "align_items": null,
       "align_self": null,
       "border_bottom": null,
       "border_left": null,
       "border_right": null,
       "border_top": null,
       "bottom": null,
       "display": null,
       "flex": null,
       "flex_flow": null,
       "grid_area": null,
       "grid_auto_columns": null,
       "grid_auto_flow": null,
       "grid_auto_rows": null,
       "grid_column": null,
       "grid_gap": null,
       "grid_row": null,
       "grid_template_areas": null,
       "grid_template_columns": null,
       "grid_template_rows": null,
       "height": null,
       "justify_content": null,
       "justify_items": null,
       "left": null,
       "margin": null,
       "max_height": null,
       "max_width": null,
       "min_height": null,
       "min_width": null,
       "object_fit": null,
       "object_position": null,
       "order": null,
       "overflow": null,
       "padding": null,
       "right": null,
       "top": null,
       "visibility": null,
       "width": null
      }
     },
     "f395d9958097477a83f2ad0c7fde2500": {
      "model_module": "@jupyter-widgets/output",
      "model_module_version": "1.0.0",
      "model_name": "OutputModel",
      "state": {
       "_dom_classes": [],
       "_model_module": "@jupyter-widgets/output",
       "_model_module_version": "1.0.0",
       "_model_name": "OutputModel",
       "_view_count": null,
       "_view_module": "@jupyter-widgets/output",
       "_view_module_version": "1.0.0",
       "_view_name": "OutputView",
       "layout": "IPY_MODEL_9055e8846af24b9c9bd67c2323e95314",
       "msg_id": "",
       "outputs": [
        {
         "data": {
          "text/html": "<style type=\"text/css\">\n#T_d7232_row0_col0, #T_d7232_row0_col1, #T_d7232_row0_col2, #T_d7232_row1_col0, #T_d7232_row1_col1, #T_d7232_row1_col2, #T_d7232_row2_col0, #T_d7232_row2_col1, #T_d7232_row2_col2, #T_d7232_row3_col0, #T_d7232_row3_col1, #T_d7232_row3_col2, #T_d7232_row4_col0, #T_d7232_row4_col1, #T_d7232_row4_col2, #T_d7232_row5_col0, #T_d7232_row5_col1, #T_d7232_row5_col2, #T_d7232_row6_col0, #T_d7232_row6_col1, #T_d7232_row6_col2, #T_d7232_row7_col0, #T_d7232_row7_col1, #T_d7232_row7_col2, #T_d7232_row8_col0, #T_d7232_row8_col1, #T_d7232_row8_col2, #T_d7232_row9_col0, #T_d7232_row9_col1, #T_d7232_row9_col2 {\n  background-color: LavenderBlush;\n}\n#T_d7232_row0_col3, #T_d7232_row0_col4, #T_d7232_row0_col5, #T_d7232_row0_col6, #T_d7232_row1_col3, #T_d7232_row1_col4, #T_d7232_row1_col5, #T_d7232_row1_col6, #T_d7232_row2_col3, #T_d7232_row2_col4, #T_d7232_row2_col5, #T_d7232_row2_col6, #T_d7232_row3_col3, #T_d7232_row3_col4, #T_d7232_row3_col5, #T_d7232_row3_col6, #T_d7232_row4_col3, #T_d7232_row4_col4, #T_d7232_row4_col5, #T_d7232_row4_col6, #T_d7232_row5_col3, #T_d7232_row5_col4, #T_d7232_row5_col5, #T_d7232_row5_col6, #T_d7232_row6_col3, #T_d7232_row6_col4, #T_d7232_row6_col5, #T_d7232_row6_col6, #T_d7232_row7_col3, #T_d7232_row7_col4, #T_d7232_row7_col5, #T_d7232_row7_col6, #T_d7232_row8_col3, #T_d7232_row8_col4, #T_d7232_row8_col5, #T_d7232_row8_col6, #T_d7232_row9_col3, #T_d7232_row9_col4, #T_d7232_row9_col5, #T_d7232_row9_col6 {\n  background-color: Lavender;\n}\n</style>\n<table id=\"T_d7232\">\n  <thead>\n    <tr>\n      <th class=\"blank level0\" >&nbsp;</th>\n      <th id=\"T_d7232_level0_col0\" class=\"col_heading level0 col0\" colspan=\"3\">Targets</th>\n      <th id=\"T_d7232_level0_col3\" class=\"col_heading level0 col3\" colspan=\"4\">Features</th>\n    </tr>\n    <tr>\n      <th class=\"blank level1\" >&nbsp;</th>\n      <th id=\"T_d7232_level1_col0\" class=\"col_heading level1 col0\" >y_step_3</th>\n      <th id=\"T_d7232_level1_col1\" class=\"col_heading level1 col1\" >y_step_2</th>\n      <th id=\"T_d7232_level1_col2\" class=\"col_heading level1 col2\" >y_step_1</th>\n      <th id=\"T_d7232_level1_col3\" class=\"col_heading level1 col3\" >y_lag_2</th>\n      <th id=\"T_d7232_level1_col4\" class=\"col_heading level1 col4\" >y_lag_3</th>\n      <th id=\"T_d7232_level1_col5\" class=\"col_heading level1 col5\" >y_lag_4</th>\n      <th id=\"T_d7232_level1_col6\" class=\"col_heading level1 col6\" >y_lag_5</th>\n    </tr>\n    <tr>\n      <th class=\"index_name level0\" >Year</th>\n      <th class=\"blank col0\" >&nbsp;</th>\n      <th class=\"blank col1\" >&nbsp;</th>\n      <th class=\"blank col2\" >&nbsp;</th>\n      <th class=\"blank col3\" >&nbsp;</th>\n      <th class=\"blank col4\" >&nbsp;</th>\n      <th class=\"blank col5\" >&nbsp;</th>\n      <th class=\"blank col6\" >&nbsp;</th>\n    </tr>\n  </thead>\n  <tbody>\n    <tr>\n      <th id=\"T_d7232_level0_row0\" class=\"row_heading level0 row0\" >2010</th>\n      <td id=\"T_d7232_row0_col0\" class=\"data row0 col0\" >2</td>\n      <td id=\"T_d7232_row0_col1\" class=\"data row0 col1\" >1</td>\n      <td id=\"T_d7232_row0_col2\" class=\"data row0 col2\" >0</td>\n      <td id=\"T_d7232_row0_col3\" class=\"data row0 col3\" ><NA></td>\n      <td id=\"T_d7232_row0_col4\" class=\"data row0 col4\" ><NA></td>\n      <td id=\"T_d7232_row0_col5\" class=\"data row0 col5\" ><NA></td>\n      <td id=\"T_d7232_row0_col6\" class=\"data row0 col6\" ><NA></td>\n    </tr>\n    <tr>\n      <th id=\"T_d7232_level0_row1\" class=\"row_heading level0 row1\" >2011</th>\n      <td id=\"T_d7232_row1_col0\" class=\"data row1 col0\" >3</td>\n      <td id=\"T_d7232_row1_col1\" class=\"data row1 col1\" >2</td>\n      <td id=\"T_d7232_row1_col2\" class=\"data row1 col2\" >1</td>\n      <td id=\"T_d7232_row1_col3\" class=\"data row1 col3\" ><NA></td>\n      <td id=\"T_d7232_row1_col4\" class=\"data row1 col4\" ><NA></td>\n      <td id=\"T_d7232_row1_col5\" class=\"data row1 col5\" ><NA></td>\n      <td id=\"T_d7232_row1_col6\" class=\"data row1 col6\" ><NA></td>\n    </tr>\n    <tr>\n      <th id=\"T_d7232_level0_row2\" class=\"row_heading level0 row2\" >2012</th>\n      <td id=\"T_d7232_row2_col0\" class=\"data row2 col0\" >4</td>\n      <td id=\"T_d7232_row2_col1\" class=\"data row2 col1\" >3</td>\n      <td id=\"T_d7232_row2_col2\" class=\"data row2 col2\" >2</td>\n      <td id=\"T_d7232_row2_col3\" class=\"data row2 col3\" >0</td>\n      <td id=\"T_d7232_row2_col4\" class=\"data row2 col4\" ><NA></td>\n      <td id=\"T_d7232_row2_col5\" class=\"data row2 col5\" ><NA></td>\n      <td id=\"T_d7232_row2_col6\" class=\"data row2 col6\" ><NA></td>\n    </tr>\n    <tr>\n      <th id=\"T_d7232_level0_row3\" class=\"row_heading level0 row3\" >2013</th>\n      <td id=\"T_d7232_row3_col0\" class=\"data row3 col0\" >5</td>\n      <td id=\"T_d7232_row3_col1\" class=\"data row3 col1\" >4</td>\n      <td id=\"T_d7232_row3_col2\" class=\"data row3 col2\" >3</td>\n      <td id=\"T_d7232_row3_col3\" class=\"data row3 col3\" >1</td>\n      <td id=\"T_d7232_row3_col4\" class=\"data row3 col4\" >0</td>\n      <td id=\"T_d7232_row3_col5\" class=\"data row3 col5\" ><NA></td>\n      <td id=\"T_d7232_row3_col6\" class=\"data row3 col6\" ><NA></td>\n    </tr>\n    <tr>\n      <th id=\"T_d7232_level0_row4\" class=\"row_heading level0 row4\" >2014</th>\n      <td id=\"T_d7232_row4_col0\" class=\"data row4 col0\" >6</td>\n      <td id=\"T_d7232_row4_col1\" class=\"data row4 col1\" >5</td>\n      <td id=\"T_d7232_row4_col2\" class=\"data row4 col2\" >4</td>\n      <td id=\"T_d7232_row4_col3\" class=\"data row4 col3\" >2</td>\n      <td id=\"T_d7232_row4_col4\" class=\"data row4 col4\" >1</td>\n      <td id=\"T_d7232_row4_col5\" class=\"data row4 col5\" >0</td>\n      <td id=\"T_d7232_row4_col6\" class=\"data row4 col6\" ><NA></td>\n    </tr>\n    <tr>\n      <th id=\"T_d7232_level0_row5\" class=\"row_heading level0 row5\" >2015</th>\n      <td id=\"T_d7232_row5_col0\" class=\"data row5 col0\" >7</td>\n      <td id=\"T_d7232_row5_col1\" class=\"data row5 col1\" >6</td>\n      <td id=\"T_d7232_row5_col2\" class=\"data row5 col2\" >5</td>\n      <td id=\"T_d7232_row5_col3\" class=\"data row5 col3\" >3</td>\n      <td id=\"T_d7232_row5_col4\" class=\"data row5 col4\" >2</td>\n      <td id=\"T_d7232_row5_col5\" class=\"data row5 col5\" >1</td>\n      <td id=\"T_d7232_row5_col6\" class=\"data row5 col6\" >0</td>\n    </tr>\n    <tr>\n      <th id=\"T_d7232_level0_row6\" class=\"row_heading level0 row6\" >2016</th>\n      <td id=\"T_d7232_row6_col0\" class=\"data row6 col0\" >8</td>\n      <td id=\"T_d7232_row6_col1\" class=\"data row6 col1\" >7</td>\n      <td id=\"T_d7232_row6_col2\" class=\"data row6 col2\" >6</td>\n      <td id=\"T_d7232_row6_col3\" class=\"data row6 col3\" >4</td>\n      <td id=\"T_d7232_row6_col4\" class=\"data row6 col4\" >3</td>\n      <td id=\"T_d7232_row6_col5\" class=\"data row6 col5\" >2</td>\n      <td id=\"T_d7232_row6_col6\" class=\"data row6 col6\" >1</td>\n    </tr>\n    <tr>\n      <th id=\"T_d7232_level0_row7\" class=\"row_heading level0 row7\" >2017</th>\n      <td id=\"T_d7232_row7_col0\" class=\"data row7 col0\" >9</td>\n      <td id=\"T_d7232_row7_col1\" class=\"data row7 col1\" >8</td>\n      <td id=\"T_d7232_row7_col2\" class=\"data row7 col2\" >7</td>\n      <td id=\"T_d7232_row7_col3\" class=\"data row7 col3\" >5</td>\n      <td id=\"T_d7232_row7_col4\" class=\"data row7 col4\" >4</td>\n      <td id=\"T_d7232_row7_col5\" class=\"data row7 col5\" >3</td>\n      <td id=\"T_d7232_row7_col6\" class=\"data row7 col6\" >2</td>\n    </tr>\n    <tr>\n      <th id=\"T_d7232_level0_row8\" class=\"row_heading level0 row8\" >2018</th>\n      <td id=\"T_d7232_row8_col0\" class=\"data row8 col0\" ><NA></td>\n      <td id=\"T_d7232_row8_col1\" class=\"data row8 col1\" >9</td>\n      <td id=\"T_d7232_row8_col2\" class=\"data row8 col2\" >8</td>\n      <td id=\"T_d7232_row8_col3\" class=\"data row8 col3\" >6</td>\n      <td id=\"T_d7232_row8_col4\" class=\"data row8 col4\" >5</td>\n      <td id=\"T_d7232_row8_col5\" class=\"data row8 col5\" >4</td>\n      <td id=\"T_d7232_row8_col6\" class=\"data row8 col6\" >3</td>\n    </tr>\n    <tr>\n      <th id=\"T_d7232_level0_row9\" class=\"row_heading level0 row9\" >2019</th>\n      <td id=\"T_d7232_row9_col0\" class=\"data row9 col0\" ><NA></td>\n      <td id=\"T_d7232_row9_col1\" class=\"data row9 col1\" ><NA></td>\n      <td id=\"T_d7232_row9_col2\" class=\"data row9 col2\" >9</td>\n      <td id=\"T_d7232_row9_col3\" class=\"data row9 col3\" >7</td>\n      <td id=\"T_d7232_row9_col4\" class=\"data row9 col4\" >6</td>\n      <td id=\"T_d7232_row9_col5\" class=\"data row9 col5\" >5</td>\n      <td id=\"T_d7232_row9_col6\" class=\"data row9 col6\" >4</td>\n    </tr>\n  </tbody>\n</table>\n",
          "text/plain": "<pandas.io.formats.style.Styler at 0x7d2ff7752740>"
         },
         "metadata": {},
         "output_type": "display_data"
        }
       ],
       "tabbable": null,
       "tooltip": null
      }
     }
    },
    "version_major": 2,
    "version_minor": 0
   }
  }
 },
 "nbformat": 4,
 "nbformat_minor": 5
}
